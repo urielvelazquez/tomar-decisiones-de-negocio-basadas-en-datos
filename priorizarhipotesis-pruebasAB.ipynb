{
 "cells": [
  {
   "cell_type": "markdown",
   "metadata": {},
   "source": [
    "**ETAPA 1. Descripción del Proyecto**"
   ]
  },
  {
   "cell_type": "markdown",
   "metadata": {},
   "source": [
    "Eres analista en una gran tienda online. Junto con el departamento de marketing has recopilado una lista de hipótesis que pueden ayudar a aumentar los ingresos.\n",
    "\n",
    "Tienes que priorizar estas hipótesis, lanzar un test A/B y analizar los resultados."
   ]
  },
  {
   "cell_type": "markdown",
   "metadata": {},
   "source": [
    "**Para iniciar se deben cargar todas las librerías que se van a usar durante el proyecto.**"
   ]
  },
  {
   "cell_type": "code",
   "execution_count": 72,
   "metadata": {},
   "outputs": [],
   "source": [
    "# Cargar todas las librerías\n",
    "from scipy import stats as st\n",
    "from matplotlib import pyplot as plt\n",
    "import seaborn as sns\n",
    "import pandas as pd\n",
    "import numpy as np\n",
    "import datetime as dt\n",
    "import scipy.stats as stats"
   ]
  },
  {
   "cell_type": "markdown",
   "metadata": {},
   "source": [
    "**En este sección reuní la totalidad de los dataframe, la función .read_csv permite leer cada uno de los archivos cargados.**"
   ]
  },
  {
   "cell_type": "code",
   "execution_count": 73,
   "metadata": {},
   "outputs": [],
   "source": [
    "# Cargar los archivos de datos de los diferentes DataFrames\n",
    "df_hypotheses = pd.read_csv('./datasets/hypotheses_us.csv', sep=';')\n",
    "df_orders = pd.read_csv('./datasets/orders_us.csv', delimiter=',')\n",
    "df_visits = pd.read_csv('./datasets/visits_us.csv', delimiter=',')"
   ]
  },
  {
   "cell_type": "markdown",
   "metadata": {},
   "source": [
    "**Uso las funciones info() y head() para explorar visualmente cada dataframe con el fin de analizar que campos tiene, sus características, y los detalles que no sean funcionales corregir, para hacer un análisis acorde e ideal a lo solicitado.**"
   ]
  },
  {
   "cell_type": "markdown",
   "metadata": {},
   "source": [
    "**Datos utilizados en la primera parte del proyecto**"
   ]
  },
  {
   "cell_type": "markdown",
   "metadata": {},
   "source": [
    "**1. Hipótesis**"
   ]
  },
  {
   "cell_type": "code",
   "execution_count": 74,
   "metadata": {},
   "outputs": [
    {
     "name": "stdout",
     "output_type": "stream",
     "text": [
      "<class 'pandas.core.frame.DataFrame'>\n",
      "RangeIndex: 9 entries, 0 to 8\n",
      "Data columns (total 5 columns):\n",
      " #   Column      Non-Null Count  Dtype \n",
      "---  ------      --------------  ----- \n",
      " 0   Hypothesis  9 non-null      object\n",
      " 1   Reach       9 non-null      int64 \n",
      " 2   Impact      9 non-null      int64 \n",
      " 3   Confidence  9 non-null      int64 \n",
      " 4   Effort      9 non-null      int64 \n",
      "dtypes: int64(4), object(1)\n",
      "memory usage: 492.0+ bytes\n"
     ]
    }
   ],
   "source": [
    "#Imprimir la información general/resumida sobre el DataFrame hipótesis\n",
    "df_hypotheses.info()"
   ]
  },
  {
   "cell_type": "code",
   "execution_count": 75,
   "metadata": {},
   "outputs": [
    {
     "data": {
      "text/html": [
       "<div>\n",
       "<style scoped>\n",
       "    .dataframe tbody tr th:only-of-type {\n",
       "        vertical-align: middle;\n",
       "    }\n",
       "\n",
       "    .dataframe tbody tr th {\n",
       "        vertical-align: top;\n",
       "    }\n",
       "\n",
       "    .dataframe thead th {\n",
       "        text-align: right;\n",
       "    }\n",
       "</style>\n",
       "<table border=\"1\" class=\"dataframe\">\n",
       "  <thead>\n",
       "    <tr style=\"text-align: right;\">\n",
       "      <th></th>\n",
       "      <th>Hypothesis</th>\n",
       "      <th>Reach</th>\n",
       "      <th>Impact</th>\n",
       "      <th>Confidence</th>\n",
       "      <th>Effort</th>\n",
       "    </tr>\n",
       "  </thead>\n",
       "  <tbody>\n",
       "    <tr>\n",
       "      <th>0</th>\n",
       "      <td>Add two new channels for attracting traffic. T...</td>\n",
       "      <td>3</td>\n",
       "      <td>10</td>\n",
       "      <td>8</td>\n",
       "      <td>6</td>\n",
       "    </tr>\n",
       "    <tr>\n",
       "      <th>1</th>\n",
       "      <td>Launch your own delivery service. This will sh...</td>\n",
       "      <td>2</td>\n",
       "      <td>5</td>\n",
       "      <td>4</td>\n",
       "      <td>10</td>\n",
       "    </tr>\n",
       "    <tr>\n",
       "      <th>2</th>\n",
       "      <td>Add product recommendation blocks to the store...</td>\n",
       "      <td>8</td>\n",
       "      <td>3</td>\n",
       "      <td>7</td>\n",
       "      <td>3</td>\n",
       "    </tr>\n",
       "    <tr>\n",
       "      <th>3</th>\n",
       "      <td>Change the category structure. This will incre...</td>\n",
       "      <td>8</td>\n",
       "      <td>3</td>\n",
       "      <td>3</td>\n",
       "      <td>8</td>\n",
       "    </tr>\n",
       "    <tr>\n",
       "      <th>4</th>\n",
       "      <td>Change the background color on the main page. ...</td>\n",
       "      <td>3</td>\n",
       "      <td>1</td>\n",
       "      <td>1</td>\n",
       "      <td>1</td>\n",
       "    </tr>\n",
       "  </tbody>\n",
       "</table>\n",
       "</div>"
      ],
      "text/plain": [
       "                                          Hypothesis  Reach  Impact  \\\n",
       "0  Add two new channels for attracting traffic. T...      3      10   \n",
       "1  Launch your own delivery service. This will sh...      2       5   \n",
       "2  Add product recommendation blocks to the store...      8       3   \n",
       "3  Change the category structure. This will incre...      8       3   \n",
       "4  Change the background color on the main page. ...      3       1   \n",
       "\n",
       "   Confidence  Effort  \n",
       "0           8       6  \n",
       "1           4      10  \n",
       "2           7       3  \n",
       "3           3       8  \n",
       "4           1       1  "
      ]
     },
     "execution_count": 75,
     "metadata": {},
     "output_type": "execute_result"
    }
   ],
   "source": [
    "# Imprimir una muestra de los datos para las hipótesis\n",
    "df_hypotheses.head()"
   ]
  },
  {
   "cell_type": "markdown",
   "metadata": {},
   "source": [
    "**Datos utilizados en la segunda parte del proyecto**"
   ]
  },
  {
   "cell_type": "markdown",
   "metadata": {},
   "source": [
    "**1. Órdenes**"
   ]
  },
  {
   "cell_type": "code",
   "execution_count": 76,
   "metadata": {},
   "outputs": [
    {
     "name": "stdout",
     "output_type": "stream",
     "text": [
      "<class 'pandas.core.frame.DataFrame'>\n",
      "RangeIndex: 1197 entries, 0 to 1196\n",
      "Data columns (total 5 columns):\n",
      " #   Column         Non-Null Count  Dtype  \n",
      "---  ------         --------------  -----  \n",
      " 0   transactionId  1197 non-null   int64  \n",
      " 1   visitorId      1197 non-null   int64  \n",
      " 2   date           1197 non-null   object \n",
      " 3   revenue        1197 non-null   float64\n",
      " 4   group          1197 non-null   object \n",
      "dtypes: float64(1), int64(2), object(2)\n",
      "memory usage: 46.9+ KB\n"
     ]
    }
   ],
   "source": [
    "#Imprimir la información general/resumida sobre el DataFrame órdenes\n",
    "df_orders.info()"
   ]
  },
  {
   "cell_type": "code",
   "execution_count": 77,
   "metadata": {},
   "outputs": [
    {
     "data": {
      "text/html": [
       "<div>\n",
       "<style scoped>\n",
       "    .dataframe tbody tr th:only-of-type {\n",
       "        vertical-align: middle;\n",
       "    }\n",
       "\n",
       "    .dataframe tbody tr th {\n",
       "        vertical-align: top;\n",
       "    }\n",
       "\n",
       "    .dataframe thead th {\n",
       "        text-align: right;\n",
       "    }\n",
       "</style>\n",
       "<table border=\"1\" class=\"dataframe\">\n",
       "  <thead>\n",
       "    <tr style=\"text-align: right;\">\n",
       "      <th></th>\n",
       "      <th>transactionId</th>\n",
       "      <th>visitorId</th>\n",
       "      <th>date</th>\n",
       "      <th>revenue</th>\n",
       "      <th>group</th>\n",
       "    </tr>\n",
       "  </thead>\n",
       "  <tbody>\n",
       "    <tr>\n",
       "      <th>0</th>\n",
       "      <td>3667963787</td>\n",
       "      <td>3312258926</td>\n",
       "      <td>2019-08-15</td>\n",
       "      <td>30.4</td>\n",
       "      <td>B</td>\n",
       "    </tr>\n",
       "    <tr>\n",
       "      <th>1</th>\n",
       "      <td>2804400009</td>\n",
       "      <td>3642806036</td>\n",
       "      <td>2019-08-15</td>\n",
       "      <td>15.2</td>\n",
       "      <td>B</td>\n",
       "    </tr>\n",
       "    <tr>\n",
       "      <th>2</th>\n",
       "      <td>2961555356</td>\n",
       "      <td>4069496402</td>\n",
       "      <td>2019-08-15</td>\n",
       "      <td>10.2</td>\n",
       "      <td>A</td>\n",
       "    </tr>\n",
       "    <tr>\n",
       "      <th>3</th>\n",
       "      <td>3797467345</td>\n",
       "      <td>1196621759</td>\n",
       "      <td>2019-08-15</td>\n",
       "      <td>155.1</td>\n",
       "      <td>B</td>\n",
       "    </tr>\n",
       "    <tr>\n",
       "      <th>4</th>\n",
       "      <td>2282983706</td>\n",
       "      <td>2322279887</td>\n",
       "      <td>2019-08-15</td>\n",
       "      <td>40.5</td>\n",
       "      <td>B</td>\n",
       "    </tr>\n",
       "  </tbody>\n",
       "</table>\n",
       "</div>"
      ],
      "text/plain": [
       "   transactionId   visitorId        date  revenue group\n",
       "0     3667963787  3312258926  2019-08-15     30.4     B\n",
       "1     2804400009  3642806036  2019-08-15     15.2     B\n",
       "2     2961555356  4069496402  2019-08-15     10.2     A\n",
       "3     3797467345  1196621759  2019-08-15    155.1     B\n",
       "4     2282983706  2322279887  2019-08-15     40.5     B"
      ]
     },
     "execution_count": 77,
     "metadata": {},
     "output_type": "execute_result"
    }
   ],
   "source": [
    "# Imprimir una muestra de los datos para las hipótesis\n",
    "df_orders.head()"
   ]
  },
  {
   "cell_type": "markdown",
   "metadata": {},
   "source": [
    "**2. Visitas**"
   ]
  },
  {
   "cell_type": "code",
   "execution_count": 78,
   "metadata": {},
   "outputs": [
    {
     "name": "stdout",
     "output_type": "stream",
     "text": [
      "<class 'pandas.core.frame.DataFrame'>\n",
      "RangeIndex: 62 entries, 0 to 61\n",
      "Data columns (total 3 columns):\n",
      " #   Column  Non-Null Count  Dtype \n",
      "---  ------  --------------  ----- \n",
      " 0   date    62 non-null     object\n",
      " 1   group   62 non-null     object\n",
      " 2   visits  62 non-null     int64 \n",
      "dtypes: int64(1), object(2)\n",
      "memory usage: 1.6+ KB\n"
     ]
    }
   ],
   "source": [
    "# Imprimir la información general/resumida sobre el DataFrame visitas\n",
    "df_visits.info()"
   ]
  },
  {
   "cell_type": "code",
   "execution_count": 79,
   "metadata": {},
   "outputs": [
    {
     "data": {
      "text/html": [
       "<div>\n",
       "<style scoped>\n",
       "    .dataframe tbody tr th:only-of-type {\n",
       "        vertical-align: middle;\n",
       "    }\n",
       "\n",
       "    .dataframe tbody tr th {\n",
       "        vertical-align: top;\n",
       "    }\n",
       "\n",
       "    .dataframe thead th {\n",
       "        text-align: right;\n",
       "    }\n",
       "</style>\n",
       "<table border=\"1\" class=\"dataframe\">\n",
       "  <thead>\n",
       "    <tr style=\"text-align: right;\">\n",
       "      <th></th>\n",
       "      <th>date</th>\n",
       "      <th>group</th>\n",
       "      <th>visits</th>\n",
       "    </tr>\n",
       "  </thead>\n",
       "  <tbody>\n",
       "    <tr>\n",
       "      <th>0</th>\n",
       "      <td>2019-08-01</td>\n",
       "      <td>A</td>\n",
       "      <td>719</td>\n",
       "    </tr>\n",
       "    <tr>\n",
       "      <th>1</th>\n",
       "      <td>2019-08-02</td>\n",
       "      <td>A</td>\n",
       "      <td>619</td>\n",
       "    </tr>\n",
       "    <tr>\n",
       "      <th>2</th>\n",
       "      <td>2019-08-03</td>\n",
       "      <td>A</td>\n",
       "      <td>507</td>\n",
       "    </tr>\n",
       "    <tr>\n",
       "      <th>3</th>\n",
       "      <td>2019-08-04</td>\n",
       "      <td>A</td>\n",
       "      <td>717</td>\n",
       "    </tr>\n",
       "    <tr>\n",
       "      <th>4</th>\n",
       "      <td>2019-08-05</td>\n",
       "      <td>A</td>\n",
       "      <td>756</td>\n",
       "    </tr>\n",
       "  </tbody>\n",
       "</table>\n",
       "</div>"
      ],
      "text/plain": [
       "         date group  visits\n",
       "0  2019-08-01     A     719\n",
       "1  2019-08-02     A     619\n",
       "2  2019-08-03     A     507\n",
       "3  2019-08-04     A     717\n",
       "4  2019-08-05     A     756"
      ]
     },
     "execution_count": 79,
     "metadata": {},
     "output_type": "execute_result"
    }
   ],
   "source": [
    "# Imprimir una muestra de los datos para las visitas\n",
    "df_visits.head()"
   ]
  },
  {
   "cell_type": "markdown",
   "metadata": {},
   "source": [
    "**ETAPA 2. Preprocesamiento de los datos**"
   ]
  },
  {
   "cell_type": "markdown",
   "metadata": {},
   "source": [
    "**El objetivo aquí es preparar los datos para que sean analizados. Para ello hay que resolver cualquier problema que haya con los encabezados con el fin preservar las reglas del buen estilo, luego verificar y en su caso corregir los tipos de datos de cada columna, identificar los valores ausentes y si es necesario completar dichos valores, y finalmente identificar y si fuera el caso eliminar los valores duplicados.**"
   ]
  },
  {
   "cell_type": "markdown",
   "metadata": {},
   "source": [
    "**Datos utilizados en la primera parte del proyecto**"
   ]
  },
  {
   "cell_type": "markdown",
   "metadata": {},
   "source": [
    "**1. Hipótesis**"
   ]
  },
  {
   "cell_type": "markdown",
   "metadata": {},
   "source": [
    "**ACCIONES A LLEVAR A CABO EN EL PREPROCESAMIENTO DE LOS DATOS**\n",
    "\n",
    "a. Cambiar todas las columnas a minúsculas con el fin de preservar las reglas del buen estilo.\n",
    "\n",
    "b. Calcular el número de valores ausentes.\n",
    "\n",
    "c. Revisar y eliminar duplicados.\n"
   ]
  },
  {
   "cell_type": "markdown",
   "metadata": {},
   "source": [
    "**Tratamiento de las columnas**"
   ]
  },
  {
   "cell_type": "code",
   "execution_count": 80,
   "metadata": {},
   "outputs": [
    {
     "data": {
      "text/plain": [
       "Index(['Hypothesis', 'Reach', 'Impact', 'Confidence', 'Effort'], dtype='object')"
      ]
     },
     "execution_count": 80,
     "metadata": {},
     "output_type": "execute_result"
    }
   ],
   "source": [
    "# Muestra los nombres de las columnas\n",
    "df_hypotheses.columns"
   ]
  },
  {
   "cell_type": "code",
   "execution_count": 81,
   "metadata": {},
   "outputs": [],
   "source": [
    "# Generar una función con el fin de reemplazar los nombres de las columnas para ponerlos en minúsculase \n",
    "def clear_columns(data):\n",
    "    new_columns = []\n",
    "    \n",
    "    for column in data.columns:\n",
    "        clean_column = column.lower()\n",
    "        new_columns.append(clean_column)\n",
    "        \n",
    "    data.columns = new_columns\n",
    "    \n",
    "    return data"
   ]
  },
  {
   "cell_type": "code",
   "execution_count": 82,
   "metadata": {},
   "outputs": [],
   "source": [
    "# Aplicar la función al dataframe visitas\n",
    "df_hypotheses = clear_columns(df_hypotheses)"
   ]
  },
  {
   "cell_type": "code",
   "execution_count": 83,
   "metadata": {},
   "outputs": [
    {
     "data": {
      "text/html": [
       "<div>\n",
       "<style scoped>\n",
       "    .dataframe tbody tr th:only-of-type {\n",
       "        vertical-align: middle;\n",
       "    }\n",
       "\n",
       "    .dataframe tbody tr th {\n",
       "        vertical-align: top;\n",
       "    }\n",
       "\n",
       "    .dataframe thead th {\n",
       "        text-align: right;\n",
       "    }\n",
       "</style>\n",
       "<table border=\"1\" class=\"dataframe\">\n",
       "  <thead>\n",
       "    <tr style=\"text-align: right;\">\n",
       "      <th></th>\n",
       "      <th>hypothesis</th>\n",
       "      <th>reach</th>\n",
       "      <th>impact</th>\n",
       "      <th>confidence</th>\n",
       "      <th>effort</th>\n",
       "    </tr>\n",
       "  </thead>\n",
       "  <tbody>\n",
       "  </tbody>\n",
       "</table>\n",
       "</div>"
      ],
      "text/plain": [
       "Empty DataFrame\n",
       "Columns: [hypothesis, reach, impact, confidence, effort]\n",
       "Index: []"
      ]
     },
     "execution_count": 83,
     "metadata": {},
     "output_type": "execute_result"
    }
   ],
   "source": [
    "# Comprobar el resultado: la lista de encabezados\n",
    "df_hypotheses.head(0)"
   ]
  },
  {
   "cell_type": "markdown",
   "metadata": {},
   "source": [
    "**Tratamiento de los valores ausentes**"
   ]
  },
  {
   "cell_type": "markdown",
   "metadata": {},
   "source": [
    "Para este conjunto de datos caso de estudio no se procederá a realizar algún tratamiento de los valores ausentes ya que como se puede ver después de generar el código y ejecutar el mismo en la caja CODE de abajo, el dataframe HIPÓTESIS no cuenta con información de este tipo en ninguna de sus columnas."
   ]
  },
  {
   "cell_type": "code",
   "execution_count": 84,
   "metadata": {},
   "outputs": [
    {
     "data": {
      "text/plain": [
       "hypothesis    0\n",
       "reach         0\n",
       "impact        0\n",
       "confidence    0\n",
       "effort        0\n",
       "dtype: int64"
      ]
     },
     "execution_count": 84,
     "metadata": {},
     "output_type": "execute_result"
    }
   ],
   "source": [
    "# Calcular el número de valores ausentes\n",
    "df_hypotheses.isna().sum()"
   ]
  },
  {
   "cell_type": "markdown",
   "metadata": {},
   "source": [
    "**Revisar y eliminar duplicados**"
   ]
  },
  {
   "cell_type": "code",
   "execution_count": 85,
   "metadata": {},
   "outputs": [
    {
     "data": {
      "text/plain": [
       "0"
      ]
     },
     "execution_count": 85,
     "metadata": {},
     "output_type": "execute_result"
    }
   ],
   "source": [
    "# Revisar si hay valores duplicados\n",
    "df_hypotheses.duplicated().sum()"
   ]
  },
  {
   "cell_type": "markdown",
   "metadata": {},
   "source": [
    "**Datos utilizados en la segunda parte del proyecto**"
   ]
  },
  {
   "cell_type": "markdown",
   "metadata": {},
   "source": [
    "**1. Órdenes**"
   ]
  },
  {
   "cell_type": "markdown",
   "metadata": {},
   "source": [
    "**ACCIONES A LLEVAR A CABO EN EL PREPROCESAMIENTO DE LOS DATOS**\n",
    "\n",
    "\n",
    "a. Calcular el número de valores ausentes.\n",
    "\n",
    "b. Corregir errores y preparar los datos de la columna DATE que incluye: convertir de tipo object a tipo datetime64[ns] la columna.\n",
    "\n",
    "c. Revisar y eliminar duplicados.\n",
    "\n",
    "d. Explorar los datos en busca de los visitantes que podrían estar más de una vez en un grupo."
   ]
  },
  {
   "cell_type": "markdown",
   "metadata": {},
   "source": [
    "**Tratamiento de los valores ausentes**"
   ]
  },
  {
   "cell_type": "markdown",
   "metadata": {},
   "source": [
    "De igual forma para este conjunto de datos caso de estudio no se procederá a realizar algún tratamiento de los valores ausentes ya que como se puede ver después de generar el código y ejecutar el mismo en la caja CODE de abajo, el dataframe ÓRDENES no cuenta con información de este tipo en ninguna de sus columnas."
   ]
  },
  {
   "cell_type": "code",
   "execution_count": 86,
   "metadata": {},
   "outputs": [
    {
     "data": {
      "text/plain": [
       "transactionId    0\n",
       "visitorId        0\n",
       "date             0\n",
       "revenue          0\n",
       "group            0\n",
       "dtype: int64"
      ]
     },
     "execution_count": 86,
     "metadata": {},
     "output_type": "execute_result"
    }
   ],
   "source": [
    "# Calcular el número de valores ausentes\n",
    "df_orders.isna().sum()"
   ]
  },
  {
   "cell_type": "markdown",
   "metadata": {},
   "source": [
    "**Preparar los datos de la columna DATE**"
   ]
  },
  {
   "cell_type": "code",
   "execution_count": 87,
   "metadata": {},
   "outputs": [],
   "source": [
    "# Convertir de tipo object a tipo datetime64[ns] la columna\n",
    "df_orders['date'] = pd.to_datetime(df_orders['date'], format='%Y-%m-%d')"
   ]
  },
  {
   "cell_type": "code",
   "execution_count": 88,
   "metadata": {},
   "outputs": [
    {
     "name": "stdout",
     "output_type": "stream",
     "text": [
      "<class 'pandas.core.frame.DataFrame'>\n",
      "RangeIndex: 1197 entries, 0 to 1196\n",
      "Data columns (total 5 columns):\n",
      " #   Column         Non-Null Count  Dtype         \n",
      "---  ------         --------------  -----         \n",
      " 0   transactionId  1197 non-null   int64         \n",
      " 1   visitorId      1197 non-null   int64         \n",
      " 2   date           1197 non-null   datetime64[ns]\n",
      " 3   revenue        1197 non-null   float64       \n",
      " 4   group          1197 non-null   object        \n",
      "dtypes: datetime64[ns](1), float64(1), int64(2), object(1)\n",
      "memory usage: 46.9+ KB\n"
     ]
    }
   ],
   "source": [
    "# Imprimir la información general actualizada\n",
    "df_orders.info()"
   ]
  },
  {
   "cell_type": "markdown",
   "metadata": {},
   "source": [
    "**Revisar y eliminar duplicados**"
   ]
  },
  {
   "cell_type": "code",
   "execution_count": 89,
   "metadata": {},
   "outputs": [
    {
     "data": {
      "text/plain": [
       "0"
      ]
     },
     "execution_count": 89,
     "metadata": {},
     "output_type": "execute_result"
    }
   ],
   "source": [
    "# Revisar si hay valores duplicados\n",
    "df_orders.duplicated().sum()"
   ]
  },
  {
   "cell_type": "markdown",
   "metadata": {},
   "source": [
    "**Nota importante:** Para este dataframe, al revisar duplicados implícitos hay un primer caso que analizar en la caja Code [19] resultado de ejecutar la línea de código desarrollada donde el número que devuelve como resultado es 108, este dato no se pueden catalogar como valores duplicados y eliminar ya que no lo son porque **son usuarios que estuvieron en el grupo A o en el grupo B pero no en los dos grupos**, al usar la función duplicated sirve para ver este tipo de valores, pero con está función no puedo ver si es que estuvieron en los dos grupos, lo que si puede pasar es que la misma persona que estuvo en el mismo grupo pudo comprar en el mismo día."
   ]
  },
  {
   "cell_type": "code",
   "execution_count": 90,
   "metadata": {},
   "outputs": [
    {
     "data": {
      "text/plain": [
       "108"
      ]
     },
     "execution_count": 90,
     "metadata": {},
     "output_type": "execute_result"
    }
   ],
   "source": [
    "# Buscar valores duplicados implícitos entre las columnas 'visitorId' y 'group' \n",
    "df_orders.duplicated(subset=['visitorId', 'group']).sum()"
   ]
  },
  {
   "cell_type": "markdown",
   "metadata": {},
   "source": [
    "En un segundo caso a analizar en la caja Code [20] después de ejecutar la línea de código devuelve como resultado 26, este otro dato tampoco se puede catalogar como valores duplicados y eliminar ya que no lo son porque **el mismo usuario del mismo grupo en la misma fecha compro o sea que hubo una recompra**  y no esta mal si se revisa con la función duplicated. Finalmente se debe desarrollar una buena capacidad de análisis para identificar este tipo de variantes que pueden presentarse en un proceso de compra para no eliminar cualquier valor(es) que tengan un aspecto de duplicados pero que no lo sean."
   ]
  },
  {
   "cell_type": "code",
   "execution_count": 91,
   "metadata": {},
   "outputs": [
    {
     "data": {
      "text/plain": [
       "26"
      ]
     },
     "execution_count": 91,
     "metadata": {},
     "output_type": "execute_result"
    }
   ],
   "source": [
    "# Buscar valores duplicados implícitos entre las columnas 'visitorId', 'group' y 'date' \n",
    "df_orders.duplicated(subset=['visitorId', 'group', 'date']).sum()"
   ]
  },
  {
   "cell_type": "markdown",
   "metadata": {},
   "source": [
    "**Explorar los datos en busca de los visitantes que podrían estar más de una vez en un grupo**"
   ]
  },
  {
   "cell_type": "markdown",
   "metadata": {},
   "source": [
    "**El resultado de ejecutar la caja Code [22] significa que a estos usuarios el sistema en la misma fecha les mando dos páginas diferentes, por tal razón estos registros si se deben de eliminar porque alteran por completo el análisis del proyecto que estoy desarrollando. Enviar dos versiones diferentes de la misma página a la misma persona el mismo día puede introducir sesgos y errores en los resultados de la prueba.**"
   ]
  },
  {
   "cell_type": "code",
   "execution_count": 92,
   "metadata": {},
   "outputs": [
    {
     "data": {
      "text/html": [
       "<div>\n",
       "<style scoped>\n",
       "    .dataframe tbody tr th:only-of-type {\n",
       "        vertical-align: middle;\n",
       "    }\n",
       "\n",
       "    .dataframe tbody tr th {\n",
       "        vertical-align: top;\n",
       "    }\n",
       "\n",
       "    .dataframe thead th {\n",
       "        text-align: right;\n",
       "    }\n",
       "</style>\n",
       "<table border=\"1\" class=\"dataframe\">\n",
       "  <thead>\n",
       "    <tr style=\"text-align: right;\">\n",
       "      <th></th>\n",
       "      <th>visitorId</th>\n",
       "      <th>date</th>\n",
       "      <th>group</th>\n",
       "    </tr>\n",
       "  </thead>\n",
       "  <tbody>\n",
       "    <tr>\n",
       "      <th>0</th>\n",
       "      <td>2587333274</td>\n",
       "      <td>2019-08-08</td>\n",
       "      <td>2</td>\n",
       "    </tr>\n",
       "    <tr>\n",
       "      <th>1</th>\n",
       "      <td>477780734</td>\n",
       "      <td>2019-08-30</td>\n",
       "      <td>2</td>\n",
       "    </tr>\n",
       "    <tr>\n",
       "      <th>2</th>\n",
       "      <td>2579882178</td>\n",
       "      <td>2019-08-18</td>\n",
       "      <td>2</td>\n",
       "    </tr>\n",
       "    <tr>\n",
       "      <th>3</th>\n",
       "      <td>2038680547</td>\n",
       "      <td>2019-08-04</td>\n",
       "      <td>2</td>\n",
       "    </tr>\n",
       "    <tr>\n",
       "      <th>4</th>\n",
       "      <td>1316129916</td>\n",
       "      <td>2019-08-27</td>\n",
       "      <td>2</td>\n",
       "    </tr>\n",
       "    <tr>\n",
       "      <th>5</th>\n",
       "      <td>232979603</td>\n",
       "      <td>2019-08-31</td>\n",
       "      <td>2</td>\n",
       "    </tr>\n",
       "    <tr>\n",
       "      <th>6</th>\n",
       "      <td>3891541246</td>\n",
       "      <td>2019-08-04</td>\n",
       "      <td>2</td>\n",
       "    </tr>\n",
       "    <tr>\n",
       "      <th>7</th>\n",
       "      <td>1801183820</td>\n",
       "      <td>2019-08-05</td>\n",
       "      <td>2</td>\n",
       "    </tr>\n",
       "    <tr>\n",
       "      <th>8</th>\n",
       "      <td>3062433592</td>\n",
       "      <td>2019-08-12</td>\n",
       "      <td>2</td>\n",
       "    </tr>\n",
       "    <tr>\n",
       "      <th>9</th>\n",
       "      <td>1230306981</td>\n",
       "      <td>2019-08-09</td>\n",
       "      <td>2</td>\n",
       "    </tr>\n",
       "    <tr>\n",
       "      <th>10</th>\n",
       "      <td>237748145</td>\n",
       "      <td>2019-08-15</td>\n",
       "      <td>2</td>\n",
       "    </tr>\n",
       "    <tr>\n",
       "      <th>11</th>\n",
       "      <td>3951559397</td>\n",
       "      <td>2019-08-29</td>\n",
       "      <td>2</td>\n",
       "    </tr>\n",
       "    <tr>\n",
       "      <th>12</th>\n",
       "      <td>2949041841</td>\n",
       "      <td>2019-08-14</td>\n",
       "      <td>2</td>\n",
       "    </tr>\n",
       "    <tr>\n",
       "      <th>13</th>\n",
       "      <td>3963646447</td>\n",
       "      <td>2019-08-14</td>\n",
       "      <td>2</td>\n",
       "    </tr>\n",
       "    <tr>\n",
       "      <th>14</th>\n",
       "      <td>2378935119</td>\n",
       "      <td>2019-08-10</td>\n",
       "      <td>2</td>\n",
       "    </tr>\n",
       "    <tr>\n",
       "      <th>15</th>\n",
       "      <td>4266935830</td>\n",
       "      <td>2019-08-29</td>\n",
       "      <td>2</td>\n",
       "    </tr>\n",
       "    <tr>\n",
       "      <th>16</th>\n",
       "      <td>2686716486</td>\n",
       "      <td>2019-08-23</td>\n",
       "      <td>2</td>\n",
       "    </tr>\n",
       "    <tr>\n",
       "      <th>17</th>\n",
       "      <td>3202540741</td>\n",
       "      <td>2019-08-24</td>\n",
       "      <td>2</td>\n",
       "    </tr>\n",
       "    <tr>\n",
       "      <th>18</th>\n",
       "      <td>1614305549</td>\n",
       "      <td>2019-08-29</td>\n",
       "      <td>2</td>\n",
       "    </tr>\n",
       "    <tr>\n",
       "      <th>19</th>\n",
       "      <td>3717692402</td>\n",
       "      <td>2019-08-21</td>\n",
       "      <td>2</td>\n",
       "    </tr>\n",
       "    <tr>\n",
       "      <th>20</th>\n",
       "      <td>2458001652</td>\n",
       "      <td>2019-08-06</td>\n",
       "      <td>2</td>\n",
       "    </tr>\n",
       "    <tr>\n",
       "      <th>21</th>\n",
       "      <td>4256040402</td>\n",
       "      <td>2019-08-31</td>\n",
       "      <td>2</td>\n",
       "    </tr>\n",
       "    <tr>\n",
       "      <th>22</th>\n",
       "      <td>3766097110</td>\n",
       "      <td>2019-08-30</td>\n",
       "      <td>2</td>\n",
       "    </tr>\n",
       "  </tbody>\n",
       "</table>\n",
       "</div>"
      ],
      "text/plain": [
       "     visitorId       date  group\n",
       "0   2587333274 2019-08-08      2\n",
       "1    477780734 2019-08-30      2\n",
       "2   2579882178 2019-08-18      2\n",
       "3   2038680547 2019-08-04      2\n",
       "4   1316129916 2019-08-27      2\n",
       "5    232979603 2019-08-31      2\n",
       "6   3891541246 2019-08-04      2\n",
       "7   1801183820 2019-08-05      2\n",
       "8   3062433592 2019-08-12      2\n",
       "9   1230306981 2019-08-09      2\n",
       "10   237748145 2019-08-15      2\n",
       "11  3951559397 2019-08-29      2\n",
       "12  2949041841 2019-08-14      2\n",
       "13  3963646447 2019-08-14      2\n",
       "14  2378935119 2019-08-10      2\n",
       "15  4266935830 2019-08-29      2\n",
       "16  2686716486 2019-08-23      2\n",
       "17  3202540741 2019-08-24      2\n",
       "18  1614305549 2019-08-29      2\n",
       "19  3717692402 2019-08-21      2\n",
       "20  2458001652 2019-08-06      2\n",
       "21  4256040402 2019-08-31      2\n",
       "22  3766097110 2019-08-30      2"
      ]
     },
     "execution_count": 92,
     "metadata": {},
     "output_type": "execute_result"
    }
   ],
   "source": [
    "# Agrupar por las columnas VISITORID y DATE \n",
    "# Calcular el número de valores únicos que existen en la columna GROUP\n",
    "# Ordenar los resultados en orden descendente según el número de grupos únicos y resetear el índice del dataframe resultante\n",
    "# Filtrar las filas para dejar solo aquellas en las que el número de grupos únicos sea mayor que 1\n",
    "df_orders.groupby(['visitorId', 'date'])['group'].nunique().sort_values(ascending=False).reset_index().query('group >1')"
   ]
  },
  {
   "cell_type": "code",
   "execution_count": 93,
   "metadata": {},
   "outputs": [],
   "source": [
    "# Crear un dataframe nuevo FILTERED DF ORDERS\n",
    "filtered_df_orders = df_orders.groupby(['visitorId', 'date'])['group'].nunique().sort_values(ascending=False).reset_index().query('group >1')"
   ]
  },
  {
   "cell_type": "markdown",
   "metadata": {},
   "source": [
    "**2. Visitas**"
   ]
  },
  {
   "cell_type": "markdown",
   "metadata": {},
   "source": [
    "ACCIONES A LLEVAR A CABO EN EL PREPROCESAMIENTO DE LOS DATOS\n",
    "\n",
    "a. Calcular el número de valores ausentes.\n",
    "\n",
    "b. Corregir errores y preparar los datos de la columna DATE que incluye: convertir de tipo object a tipo datetime64[ns] la columna.\n",
    "\n",
    "c. Revisar y eliminar duplicados."
   ]
  },
  {
   "cell_type": "markdown",
   "metadata": {},
   "source": [
    "**Tratamiento de los valores ausentes**"
   ]
  },
  {
   "cell_type": "markdown",
   "metadata": {},
   "source": [
    "Para este último conjunto de datos caso de estudio también no se procederá a realizar algún tratamiento de los valores ausentes ya que como se puede ver después de generar el código y ejecutar el mismo en la caja CODE de abajo, el dataframe VISITAS no cuenta con información de este tipo en ninguna de sus columnas."
   ]
  },
  {
   "cell_type": "code",
   "execution_count": 94,
   "metadata": {},
   "outputs": [
    {
     "data": {
      "text/plain": [
       "date      0\n",
       "group     0\n",
       "visits    0\n",
       "dtype: int64"
      ]
     },
     "execution_count": 94,
     "metadata": {},
     "output_type": "execute_result"
    }
   ],
   "source": [
    "# Calcular el número de valores ausentes\n",
    "df_visits.isna().sum()"
   ]
  },
  {
   "cell_type": "markdown",
   "metadata": {},
   "source": [
    "**Preparar los datos de la columna DATE**"
   ]
  },
  {
   "cell_type": "code",
   "execution_count": 95,
   "metadata": {},
   "outputs": [],
   "source": [
    "# Convertir de tipo object a tipo datetime64[ns] la columna\n",
    "df_visits['date'] = pd.to_datetime(df_visits['date'], format='%Y-%m-%d')"
   ]
  },
  {
   "cell_type": "code",
   "execution_count": 96,
   "metadata": {},
   "outputs": [
    {
     "name": "stdout",
     "output_type": "stream",
     "text": [
      "<class 'pandas.core.frame.DataFrame'>\n",
      "RangeIndex: 62 entries, 0 to 61\n",
      "Data columns (total 3 columns):\n",
      " #   Column  Non-Null Count  Dtype         \n",
      "---  ------  --------------  -----         \n",
      " 0   date    62 non-null     datetime64[ns]\n",
      " 1   group   62 non-null     object        \n",
      " 2   visits  62 non-null     int64         \n",
      "dtypes: datetime64[ns](1), int64(1), object(1)\n",
      "memory usage: 1.6+ KB\n"
     ]
    }
   ],
   "source": [
    "# Imprimir la información general actualizada\n",
    "df_visits.info()"
   ]
  },
  {
   "cell_type": "markdown",
   "metadata": {},
   "source": [
    "**Revisar y eliminar duplicados**"
   ]
  },
  {
   "cell_type": "code",
   "execution_count": 97,
   "metadata": {},
   "outputs": [
    {
     "data": {
      "text/plain": [
       "0"
      ]
     },
     "execution_count": 97,
     "metadata": {},
     "output_type": "execute_result"
    }
   ],
   "source": [
    "# Revisar si hay valores duplicados\n",
    "df_visits.duplicated().sum()"
   ]
  },
  {
   "cell_type": "markdown",
   "metadata": {},
   "source": [
    "**ETAPA 3. Análisis exploratorio**"
   ]
  },
  {
   "cell_type": "markdown",
   "metadata": {},
   "source": [
    "**Datos utilizados en la primera parte del proyecto**"
   ]
  },
  {
   "cell_type": "markdown",
   "metadata": {},
   "source": [
    "**1. Priorizar hipótesis**"
   ]
  },
  {
   "cell_type": "markdown",
   "metadata": {},
   "source": [
    "# Aplicar el framework ICE para priorizar hipótesis. Ordenarlas en orden descendente de prioridad"
   ]
  },
  {
   "cell_type": "code",
   "execution_count": 98,
   "metadata": {},
   "outputs": [
    {
     "data": {
      "text/html": [
       "<div>\n",
       "<style scoped>\n",
       "    .dataframe tbody tr th:only-of-type {\n",
       "        vertical-align: middle;\n",
       "    }\n",
       "\n",
       "    .dataframe tbody tr th {\n",
       "        vertical-align: top;\n",
       "    }\n",
       "\n",
       "    .dataframe thead th {\n",
       "        text-align: right;\n",
       "    }\n",
       "</style>\n",
       "<table border=\"1\" class=\"dataframe\">\n",
       "  <thead>\n",
       "    <tr style=\"text-align: right;\">\n",
       "      <th></th>\n",
       "      <th>hypothesis</th>\n",
       "      <th>reach</th>\n",
       "      <th>impact</th>\n",
       "      <th>confidence</th>\n",
       "      <th>effort</th>\n",
       "    </tr>\n",
       "  </thead>\n",
       "  <tbody>\n",
       "    <tr>\n",
       "      <th>0</th>\n",
       "      <td>Add two new channels for attracting traffic. T...</td>\n",
       "      <td>3</td>\n",
       "      <td>10</td>\n",
       "      <td>8</td>\n",
       "      <td>6</td>\n",
       "    </tr>\n",
       "    <tr>\n",
       "      <th>1</th>\n",
       "      <td>Launch your own delivery service. This will sh...</td>\n",
       "      <td>2</td>\n",
       "      <td>5</td>\n",
       "      <td>4</td>\n",
       "      <td>10</td>\n",
       "    </tr>\n",
       "    <tr>\n",
       "      <th>2</th>\n",
       "      <td>Add product recommendation blocks to the store...</td>\n",
       "      <td>8</td>\n",
       "      <td>3</td>\n",
       "      <td>7</td>\n",
       "      <td>3</td>\n",
       "    </tr>\n",
       "    <tr>\n",
       "      <th>3</th>\n",
       "      <td>Change the category structure. This will incre...</td>\n",
       "      <td>8</td>\n",
       "      <td>3</td>\n",
       "      <td>3</td>\n",
       "      <td>8</td>\n",
       "    </tr>\n",
       "    <tr>\n",
       "      <th>4</th>\n",
       "      <td>Change the background color on the main page. ...</td>\n",
       "      <td>3</td>\n",
       "      <td>1</td>\n",
       "      <td>1</td>\n",
       "      <td>1</td>\n",
       "    </tr>\n",
       "    <tr>\n",
       "      <th>5</th>\n",
       "      <td>Add a customer review page. This will increase...</td>\n",
       "      <td>3</td>\n",
       "      <td>2</td>\n",
       "      <td>2</td>\n",
       "      <td>3</td>\n",
       "    </tr>\n",
       "    <tr>\n",
       "      <th>6</th>\n",
       "      <td>Show banners with current offers and sales on ...</td>\n",
       "      <td>5</td>\n",
       "      <td>3</td>\n",
       "      <td>8</td>\n",
       "      <td>3</td>\n",
       "    </tr>\n",
       "    <tr>\n",
       "      <th>7</th>\n",
       "      <td>Add a subscription form to all the main pages....</td>\n",
       "      <td>10</td>\n",
       "      <td>7</td>\n",
       "      <td>8</td>\n",
       "      <td>5</td>\n",
       "    </tr>\n",
       "    <tr>\n",
       "      <th>8</th>\n",
       "      <td>Launch a promotion that gives users discounts ...</td>\n",
       "      <td>1</td>\n",
       "      <td>9</td>\n",
       "      <td>9</td>\n",
       "      <td>5</td>\n",
       "    </tr>\n",
       "  </tbody>\n",
       "</table>\n",
       "</div>"
      ],
      "text/plain": [
       "                                          hypothesis  reach  impact  \\\n",
       "0  Add two new channels for attracting traffic. T...      3      10   \n",
       "1  Launch your own delivery service. This will sh...      2       5   \n",
       "2  Add product recommendation blocks to the store...      8       3   \n",
       "3  Change the category structure. This will incre...      8       3   \n",
       "4  Change the background color on the main page. ...      3       1   \n",
       "5  Add a customer review page. This will increase...      3       2   \n",
       "6  Show banners with current offers and sales on ...      5       3   \n",
       "7  Add a subscription form to all the main pages....     10       7   \n",
       "8  Launch a promotion that gives users discounts ...      1       9   \n",
       "\n",
       "   confidence  effort  \n",
       "0           8       6  \n",
       "1           4      10  \n",
       "2           7       3  \n",
       "3           3       8  \n",
       "4           1       1  \n",
       "5           2       3  \n",
       "6           8       3  \n",
       "7           8       5  \n",
       "8           9       5  "
      ]
     },
     "execution_count": 98,
     "metadata": {},
     "output_type": "execute_result"
    }
   ],
   "source": [
    "# Imprimir la información general del dataframe hypotheses\n",
    "df_hypotheses"
   ]
  },
  {
   "cell_type": "code",
   "execution_count": 99,
   "metadata": {},
   "outputs": [
    {
     "data": {
      "text/plain": [
       "'Add two new channels for attracting traffic. This will bring 30% more users'"
      ]
     },
     "execution_count": 99,
     "metadata": {},
     "output_type": "execute_result"
    }
   ],
   "source": [
    "# Seleccionar el elemento que se encuentra en la primera fila y la primera columna del dataframe \n",
    "df_hypotheses.iloc[0, 0]"
   ]
  },
  {
   "cell_type": "code",
   "execution_count": 100,
   "metadata": {},
   "outputs": [],
   "source": [
    "# Aplicar el framework ICE para priorizar hipótesis\n",
    "df_hypotheses['ICE'] = (df_hypotheses['impact'] * df_hypotheses['confidence']) / df_hypotheses['effort']"
   ]
  },
  {
   "cell_type": "code",
   "execution_count": 101,
   "metadata": {},
   "outputs": [
    {
     "data": {
      "text/html": [
       "<div>\n",
       "<style scoped>\n",
       "    .dataframe tbody tr th:only-of-type {\n",
       "        vertical-align: middle;\n",
       "    }\n",
       "\n",
       "    .dataframe tbody tr th {\n",
       "        vertical-align: top;\n",
       "    }\n",
       "\n",
       "    .dataframe thead th {\n",
       "        text-align: right;\n",
       "    }\n",
       "</style>\n",
       "<table border=\"1\" class=\"dataframe\">\n",
       "  <thead>\n",
       "    <tr style=\"text-align: right;\">\n",
       "      <th></th>\n",
       "      <th>hypothesis</th>\n",
       "      <th>reach</th>\n",
       "      <th>impact</th>\n",
       "      <th>confidence</th>\n",
       "      <th>effort</th>\n",
       "      <th>ICE</th>\n",
       "    </tr>\n",
       "  </thead>\n",
       "  <tbody>\n",
       "    <tr>\n",
       "      <th>8</th>\n",
       "      <td>Launch a promotion that gives users discounts ...</td>\n",
       "      <td>1</td>\n",
       "      <td>9</td>\n",
       "      <td>9</td>\n",
       "      <td>5</td>\n",
       "      <td>16.200000</td>\n",
       "    </tr>\n",
       "    <tr>\n",
       "      <th>0</th>\n",
       "      <td>Add two new channels for attracting traffic. T...</td>\n",
       "      <td>3</td>\n",
       "      <td>10</td>\n",
       "      <td>8</td>\n",
       "      <td>6</td>\n",
       "      <td>13.333333</td>\n",
       "    </tr>\n",
       "    <tr>\n",
       "      <th>7</th>\n",
       "      <td>Add a subscription form to all the main pages....</td>\n",
       "      <td>10</td>\n",
       "      <td>7</td>\n",
       "      <td>8</td>\n",
       "      <td>5</td>\n",
       "      <td>11.200000</td>\n",
       "    </tr>\n",
       "    <tr>\n",
       "      <th>6</th>\n",
       "      <td>Show banners with current offers and sales on ...</td>\n",
       "      <td>5</td>\n",
       "      <td>3</td>\n",
       "      <td>8</td>\n",
       "      <td>3</td>\n",
       "      <td>8.000000</td>\n",
       "    </tr>\n",
       "    <tr>\n",
       "      <th>2</th>\n",
       "      <td>Add product recommendation blocks to the store...</td>\n",
       "      <td>8</td>\n",
       "      <td>3</td>\n",
       "      <td>7</td>\n",
       "      <td>3</td>\n",
       "      <td>7.000000</td>\n",
       "    </tr>\n",
       "    <tr>\n",
       "      <th>1</th>\n",
       "      <td>Launch your own delivery service. This will sh...</td>\n",
       "      <td>2</td>\n",
       "      <td>5</td>\n",
       "      <td>4</td>\n",
       "      <td>10</td>\n",
       "      <td>2.000000</td>\n",
       "    </tr>\n",
       "    <tr>\n",
       "      <th>5</th>\n",
       "      <td>Add a customer review page. This will increase...</td>\n",
       "      <td>3</td>\n",
       "      <td>2</td>\n",
       "      <td>2</td>\n",
       "      <td>3</td>\n",
       "      <td>1.333333</td>\n",
       "    </tr>\n",
       "    <tr>\n",
       "      <th>3</th>\n",
       "      <td>Change the category structure. This will incre...</td>\n",
       "      <td>8</td>\n",
       "      <td>3</td>\n",
       "      <td>3</td>\n",
       "      <td>8</td>\n",
       "      <td>1.125000</td>\n",
       "    </tr>\n",
       "    <tr>\n",
       "      <th>4</th>\n",
       "      <td>Change the background color on the main page. ...</td>\n",
       "      <td>3</td>\n",
       "      <td>1</td>\n",
       "      <td>1</td>\n",
       "      <td>1</td>\n",
       "      <td>1.000000</td>\n",
       "    </tr>\n",
       "  </tbody>\n",
       "</table>\n",
       "</div>"
      ],
      "text/plain": [
       "                                          hypothesis  reach  impact  \\\n",
       "8  Launch a promotion that gives users discounts ...      1       9   \n",
       "0  Add two new channels for attracting traffic. T...      3      10   \n",
       "7  Add a subscription form to all the main pages....     10       7   \n",
       "6  Show banners with current offers and sales on ...      5       3   \n",
       "2  Add product recommendation blocks to the store...      8       3   \n",
       "1  Launch your own delivery service. This will sh...      2       5   \n",
       "5  Add a customer review page. This will increase...      3       2   \n",
       "3  Change the category structure. This will incre...      8       3   \n",
       "4  Change the background color on the main page. ...      3       1   \n",
       "\n",
       "   confidence  effort        ICE  \n",
       "8           9       5  16.200000  \n",
       "0           8       6  13.333333  \n",
       "7           8       5  11.200000  \n",
       "6           8       3   8.000000  \n",
       "2           7       3   7.000000  \n",
       "1           4      10   2.000000  \n",
       "5           2       3   1.333333  \n",
       "3           3       8   1.125000  \n",
       "4           1       1   1.000000  "
      ]
     },
     "execution_count": 101,
     "metadata": {},
     "output_type": "execute_result"
    }
   ],
   "source": [
    "# Ordenar en orden descendente de prioridad\n",
    "df_hypotheses.sort_values(by='ICE', ascending=False)"
   ]
  },
  {
   "cell_type": "markdown",
   "metadata": {},
   "source": [
    "**Después de haber realizado el calculo mediante el framework ICE (Impacto Confianza Esfuerzo) puedo concluir lo siguiente:** La hipótesis de **lanzar una promoción que ofrezca descuentos a los usuarios en sus cumpleaños** tiene el valor ICE más alto 16.200000. Esto sugiere que, aunque el impacto y la confianza son altos, y el esfuerzo relativamente bajo, hacen de esta una de las estrategias más prometedoras para implementar primero. La hipótesis de **agregar dos nuevos canales para atraer tráfico. Esto traerá un 30% más de usuarios** tiene un valor ICE elevado 13.333333, indica que aunque el esfuerzo es un poco mayor, el impacto y la confianza son muy altos. Esta estrategia también debería considerarse una prioridad. **Agregar un formulario de suscripción en todas las páginas principales. Esto te ayudará a compilar una lista de correos.** Tiene un ICE de 11.200000, lo cual refleja que es una opción fuerte con alto alcance e impacto moderado. **Mostrar banners con ofertas y rebajas vigentes en la página principal. Esto impulsará la conversión.** con un valor ICE 8.000000 y **agregar bloques de recomendación de productos al sitio de la tienda. Esto aumentará la conversión y el tamaño promedio de compra.** con un ICE de 7.000000 también destacan, pero con menor prioridad en comparación a las anteriores hipótesis debido a un menor impacto y alcance. Finalmente las últimas cuatro hipótesis deberían considerarse en una menor prioridad ya que tienen un menor impacto y por lo tanto son más difíciles de implementar."
   ]
  },
  {
   "cell_type": "markdown",
   "metadata": {},
   "source": [
    "# Aplicar el framework RICE para priorizar hipótesis. Ordenarlas en orden descendente de prioridad."
   ]
  },
  {
   "cell_type": "code",
   "execution_count": 102,
   "metadata": {},
   "outputs": [],
   "source": [
    "# Aplicar el framework RICE para priorizar hipótesis\n",
    "df_hypotheses['RICE'] =  (df_hypotheses['reach'] * df_hypotheses['impact'] * df_hypotheses['confidence']) / df_hypotheses['effort']"
   ]
  },
  {
   "cell_type": "code",
   "execution_count": 103,
   "metadata": {},
   "outputs": [
    {
     "data": {
      "text/html": [
       "<div>\n",
       "<style scoped>\n",
       "    .dataframe tbody tr th:only-of-type {\n",
       "        vertical-align: middle;\n",
       "    }\n",
       "\n",
       "    .dataframe tbody tr th {\n",
       "        vertical-align: top;\n",
       "    }\n",
       "\n",
       "    .dataframe thead th {\n",
       "        text-align: right;\n",
       "    }\n",
       "</style>\n",
       "<table border=\"1\" class=\"dataframe\">\n",
       "  <thead>\n",
       "    <tr style=\"text-align: right;\">\n",
       "      <th></th>\n",
       "      <th>hypothesis</th>\n",
       "      <th>reach</th>\n",
       "      <th>impact</th>\n",
       "      <th>confidence</th>\n",
       "      <th>effort</th>\n",
       "      <th>ICE</th>\n",
       "      <th>RICE</th>\n",
       "    </tr>\n",
       "  </thead>\n",
       "  <tbody>\n",
       "    <tr>\n",
       "      <th>7</th>\n",
       "      <td>Add a subscription form to all the main pages....</td>\n",
       "      <td>10</td>\n",
       "      <td>7</td>\n",
       "      <td>8</td>\n",
       "      <td>5</td>\n",
       "      <td>11.200000</td>\n",
       "      <td>112.0</td>\n",
       "    </tr>\n",
       "    <tr>\n",
       "      <th>2</th>\n",
       "      <td>Add product recommendation blocks to the store...</td>\n",
       "      <td>8</td>\n",
       "      <td>3</td>\n",
       "      <td>7</td>\n",
       "      <td>3</td>\n",
       "      <td>7.000000</td>\n",
       "      <td>56.0</td>\n",
       "    </tr>\n",
       "    <tr>\n",
       "      <th>0</th>\n",
       "      <td>Add two new channels for attracting traffic. T...</td>\n",
       "      <td>3</td>\n",
       "      <td>10</td>\n",
       "      <td>8</td>\n",
       "      <td>6</td>\n",
       "      <td>13.333333</td>\n",
       "      <td>40.0</td>\n",
       "    </tr>\n",
       "    <tr>\n",
       "      <th>6</th>\n",
       "      <td>Show banners with current offers and sales on ...</td>\n",
       "      <td>5</td>\n",
       "      <td>3</td>\n",
       "      <td>8</td>\n",
       "      <td>3</td>\n",
       "      <td>8.000000</td>\n",
       "      <td>40.0</td>\n",
       "    </tr>\n",
       "    <tr>\n",
       "      <th>8</th>\n",
       "      <td>Launch a promotion that gives users discounts ...</td>\n",
       "      <td>1</td>\n",
       "      <td>9</td>\n",
       "      <td>9</td>\n",
       "      <td>5</td>\n",
       "      <td>16.200000</td>\n",
       "      <td>16.2</td>\n",
       "    </tr>\n",
       "    <tr>\n",
       "      <th>3</th>\n",
       "      <td>Change the category structure. This will incre...</td>\n",
       "      <td>8</td>\n",
       "      <td>3</td>\n",
       "      <td>3</td>\n",
       "      <td>8</td>\n",
       "      <td>1.125000</td>\n",
       "      <td>9.0</td>\n",
       "    </tr>\n",
       "    <tr>\n",
       "      <th>1</th>\n",
       "      <td>Launch your own delivery service. This will sh...</td>\n",
       "      <td>2</td>\n",
       "      <td>5</td>\n",
       "      <td>4</td>\n",
       "      <td>10</td>\n",
       "      <td>2.000000</td>\n",
       "      <td>4.0</td>\n",
       "    </tr>\n",
       "    <tr>\n",
       "      <th>5</th>\n",
       "      <td>Add a customer review page. This will increase...</td>\n",
       "      <td>3</td>\n",
       "      <td>2</td>\n",
       "      <td>2</td>\n",
       "      <td>3</td>\n",
       "      <td>1.333333</td>\n",
       "      <td>4.0</td>\n",
       "    </tr>\n",
       "    <tr>\n",
       "      <th>4</th>\n",
       "      <td>Change the background color on the main page. ...</td>\n",
       "      <td>3</td>\n",
       "      <td>1</td>\n",
       "      <td>1</td>\n",
       "      <td>1</td>\n",
       "      <td>1.000000</td>\n",
       "      <td>3.0</td>\n",
       "    </tr>\n",
       "  </tbody>\n",
       "</table>\n",
       "</div>"
      ],
      "text/plain": [
       "                                          hypothesis  reach  impact  \\\n",
       "7  Add a subscription form to all the main pages....     10       7   \n",
       "2  Add product recommendation blocks to the store...      8       3   \n",
       "0  Add two new channels for attracting traffic. T...      3      10   \n",
       "6  Show banners with current offers and sales on ...      5       3   \n",
       "8  Launch a promotion that gives users discounts ...      1       9   \n",
       "3  Change the category structure. This will incre...      8       3   \n",
       "1  Launch your own delivery service. This will sh...      2       5   \n",
       "5  Add a customer review page. This will increase...      3       2   \n",
       "4  Change the background color on the main page. ...      3       1   \n",
       "\n",
       "   confidence  effort        ICE   RICE  \n",
       "7           8       5  11.200000  112.0  \n",
       "2           7       3   7.000000   56.0  \n",
       "0           8       6  13.333333   40.0  \n",
       "6           8       3   8.000000   40.0  \n",
       "8           9       5  16.200000   16.2  \n",
       "3           3       8   1.125000    9.0  \n",
       "1           4      10   2.000000    4.0  \n",
       "5           2       3   1.333333    4.0  \n",
       "4           1       1   1.000000    3.0  "
      ]
     },
     "execution_count": 103,
     "metadata": {},
     "output_type": "execute_result"
    }
   ],
   "source": [
    "# Ordenar en orden descendente de prioridad\n",
    "df_hypotheses.sort_values(by='RICE', ascending=False)"
   ]
  },
  {
   "cell_type": "markdown",
   "metadata": {},
   "source": [
    "**Después de haber realizado el calculo mediante el framework RICE (Alcance Impacto Confianza Esfuerzo) puedo concluir lo siguiente:** La hipótesis de **agregar un formulario de suscripción en todas las páginas principales. Esto te ayudará a compilar una lista de correos** tiene el valor RICE más alto 112.0, esto significa que esta estrategia tiene un alto alcance, impacto y confianza, con un esfuerzo moderado. Lo nos indica que es una de las acciones más prometedoras. **Agregar bloques de recomendación de productos al sitio de la tienda. Esto aumentará la conversión y el tamaño promedio de compra** tiene un valor RICE de 56.0. Aunque su valor ICE es de 7.000000, el valor RICE es alto, indicando que tiene un alcance significativo y es una buena opción para aumentar la conversión y el tamaño promedio de compra. **Agregar dos nuevos canales para atraer tráfico. Esto traerá un 30% más de usuarios** y **mostrar banners con ofertas y rebajas vigentes en la página principal. Esto impulsará la conversión.** Tienen valores RACE similares de 40.0, lo que sugiere que ambas hipótesis tienen un buen balance entre el alcance, impacto, confianza y esfuerzo, siendo también opciones viables. La hipótesis de **lanzar una promoción que ofrezca descuentos a los usuarios en sus cumpleaños** se observa que tiene el valor ICE más alto 16.200000, y su valor RICE 16.2 es menor comparado con otras estrategias debido a su bajo alcance. Finalmente las últimas cuatro hipótesis deberían considerarse en una menor prioridad ya que tiene valores RICE bajos. Esto indica que tienen un menor alcance, impacto, confianza o un esfuerzo más alto."
   ]
  },
  {
   "cell_type": "markdown",
   "metadata": {},
   "source": [
    "# Mostrar cómo cambia la priorización de hipótesis cuando utilizas RICE en lugar de ICE. Proporcionar una explicación de los cambios."
   ]
  },
  {
   "cell_type": "markdown",
   "metadata": {},
   "source": [
    "Usar el framework RICE en lugar de ICE cambia la prioridad de las hipótesis al incluir la dimensión del alcance, permitiendo que las estrategias que afectan a más usuarios sean consideradas primero. Esto resulta útil para maximizar el impacto de las acciones en términos de la cantidad de usuarios beneficiados, y no solo por el impacto o el esfuerzo involucrado."
   ]
  },
  {
   "cell_type": "markdown",
   "metadata": {},
   "source": [
    "**Datos utilizados en la segunda parte del proyecto**"
   ]
  },
  {
   "cell_type": "markdown",
   "metadata": {},
   "source": [
    "**2. Análisis del test A/B**"
   ]
  },
  {
   "cell_type": "markdown",
   "metadata": {},
   "source": [
    "# Representa gráficamente el ingreso acumulado por grupo. Haz conclusiones y conjeturas"
   ]
  },
  {
   "cell_type": "code",
   "execution_count": 104,
   "metadata": {},
   "outputs": [],
   "source": [
    "# Crear una matriz con valores únicos\n",
    "dates_groups = df_orders[['date', 'group']].drop_duplicates()"
   ]
  },
  {
   "cell_type": "code",
   "execution_count": 105,
   "metadata": {},
   "outputs": [],
   "source": [
    "# Obtener las filas de la tabla ORDERS y agregar los valores\n",
    "# Negar los registros de la lista repetida FILTERED DF ORDERS  \n",
    "orders_aggregated = dates_groups.apply(\n",
    "    lambda x: df_orders[np.logical_and(df_orders['date'] <= x['date'], df_orders['group'] == x['group']) \n",
    "                        & ~df_orders['visitorId'].isin(filtered_df_orders['visitorId'])].agg({\n",
    "        'date': 'max', \n",
    "        'group': 'max', \n",
    "        'transactionId': pd.Series.nunique, \n",
    "        'visitorId': pd.Series.nunique, \n",
    "        'revenue': 'sum'}), axis=1).sort_values(by=['date', 'group'])"
   ]
  },
  {
   "cell_type": "code",
   "execution_count": 106,
   "metadata": {},
   "outputs": [
    {
     "data": {
      "text/html": [
       "<div>\n",
       "<style scoped>\n",
       "    .dataframe tbody tr th:only-of-type {\n",
       "        vertical-align: middle;\n",
       "    }\n",
       "\n",
       "    .dataframe tbody tr th {\n",
       "        vertical-align: top;\n",
       "    }\n",
       "\n",
       "    .dataframe thead th {\n",
       "        text-align: right;\n",
       "    }\n",
       "</style>\n",
       "<table border=\"1\" class=\"dataframe\">\n",
       "  <thead>\n",
       "    <tr style=\"text-align: right;\">\n",
       "      <th></th>\n",
       "      <th>date</th>\n",
       "      <th>group</th>\n",
       "      <th>transactionId</th>\n",
       "      <th>visitorId</th>\n",
       "      <th>revenue</th>\n",
       "    </tr>\n",
       "  </thead>\n",
       "  <tbody>\n",
       "    <tr>\n",
       "      <th>55</th>\n",
       "      <td>2019-08-01</td>\n",
       "      <td>A</td>\n",
       "      <td>23</td>\n",
       "      <td>19</td>\n",
       "      <td>2266.6</td>\n",
       "    </tr>\n",
       "    <tr>\n",
       "      <th>66</th>\n",
       "      <td>2019-08-01</td>\n",
       "      <td>B</td>\n",
       "      <td>19</td>\n",
       "      <td>19</td>\n",
       "      <td>1258.8</td>\n",
       "    </tr>\n",
       "    <tr>\n",
       "      <th>175</th>\n",
       "      <td>2019-08-02</td>\n",
       "      <td>A</td>\n",
       "      <td>43</td>\n",
       "      <td>37</td>\n",
       "      <td>3770.1</td>\n",
       "    </tr>\n",
       "    <tr>\n",
       "      <th>173</th>\n",
       "      <td>2019-08-02</td>\n",
       "      <td>B</td>\n",
       "      <td>43</td>\n",
       "      <td>42</td>\n",
       "      <td>3882.6</td>\n",
       "    </tr>\n",
       "    <tr>\n",
       "      <th>291</th>\n",
       "      <td>2019-08-03</td>\n",
       "      <td>A</td>\n",
       "      <td>67</td>\n",
       "      <td>61</td>\n",
       "      <td>5585.3</td>\n",
       "    </tr>\n",
       "  </tbody>\n",
       "</table>\n",
       "</div>"
      ],
      "text/plain": [
       "          date group  transactionId  visitorId  revenue\n",
       "55  2019-08-01     A             23         19   2266.6\n",
       "66  2019-08-01     B             19         19   1258.8\n",
       "175 2019-08-02     A             43         37   3770.1\n",
       "173 2019-08-02     B             43         42   3882.6\n",
       "291 2019-08-03     A             67         61   5585.3"
      ]
     },
     "execution_count": 106,
     "metadata": {},
     "output_type": "execute_result"
    }
   ],
   "source": [
    "# Imprimir una muestra de los datos para las órdenes agregadas\n",
    "orders_aggregated.head()"
   ]
  },
  {
   "cell_type": "code",
   "execution_count": 107,
   "metadata": {},
   "outputs": [],
   "source": [
    "# Obtener las filas de la tabla VISITS y agregar los valores\n",
    "visitors_aggregated = dates_groups.apply(\n",
    "    lambda x: df_visits[np.logical_and(df_visits['date'] <= x['date'], df_visits['group'] == x['group'])].agg({\n",
    "        'date': 'max', \n",
    "        'group': 'max', \n",
    "        'visits': 'sum'}), axis=1).sort_values(by=['date', 'group'])"
   ]
  },
  {
   "cell_type": "code",
   "execution_count": 108,
   "metadata": {},
   "outputs": [
    {
     "data": {
      "text/html": [
       "<div>\n",
       "<style scoped>\n",
       "    .dataframe tbody tr th:only-of-type {\n",
       "        vertical-align: middle;\n",
       "    }\n",
       "\n",
       "    .dataframe tbody tr th {\n",
       "        vertical-align: top;\n",
       "    }\n",
       "\n",
       "    .dataframe thead th {\n",
       "        text-align: right;\n",
       "    }\n",
       "</style>\n",
       "<table border=\"1\" class=\"dataframe\">\n",
       "  <thead>\n",
       "    <tr style=\"text-align: right;\">\n",
       "      <th></th>\n",
       "      <th>date</th>\n",
       "      <th>group</th>\n",
       "      <th>visits</th>\n",
       "    </tr>\n",
       "  </thead>\n",
       "  <tbody>\n",
       "    <tr>\n",
       "      <th>55</th>\n",
       "      <td>2019-08-01</td>\n",
       "      <td>A</td>\n",
       "      <td>719</td>\n",
       "    </tr>\n",
       "    <tr>\n",
       "      <th>66</th>\n",
       "      <td>2019-08-01</td>\n",
       "      <td>B</td>\n",
       "      <td>713</td>\n",
       "    </tr>\n",
       "    <tr>\n",
       "      <th>175</th>\n",
       "      <td>2019-08-02</td>\n",
       "      <td>A</td>\n",
       "      <td>1338</td>\n",
       "    </tr>\n",
       "    <tr>\n",
       "      <th>173</th>\n",
       "      <td>2019-08-02</td>\n",
       "      <td>B</td>\n",
       "      <td>1294</td>\n",
       "    </tr>\n",
       "    <tr>\n",
       "      <th>291</th>\n",
       "      <td>2019-08-03</td>\n",
       "      <td>A</td>\n",
       "      <td>1845</td>\n",
       "    </tr>\n",
       "  </tbody>\n",
       "</table>\n",
       "</div>"
      ],
      "text/plain": [
       "          date group  visits\n",
       "55  2019-08-01     A     719\n",
       "66  2019-08-01     B     713\n",
       "175 2019-08-02     A    1338\n",
       "173 2019-08-02     B    1294\n",
       "291 2019-08-03     A    1845"
      ]
     },
     "execution_count": 108,
     "metadata": {},
     "output_type": "execute_result"
    }
   ],
   "source": [
    "# Imprimir una muestra de los datos para los visitantes agregados\n",
    "visitors_aggregated.head()"
   ]
  },
  {
   "cell_type": "code",
   "execution_count": 109,
   "metadata": {},
   "outputs": [],
   "source": [
    "# Unir los dataframes ORDERS AGGREGATED y VISITORS AGGREGATED y cambiar el nombre a las columnas\n",
    "cumulative_data = orders_aggregated.merge(visitors_aggregated, left_on=['date', 'group'], right_on=['date', 'group'])\n",
    "cumulative_data.columns = ['date', 'group', 'orders', 'buyers', 'revenue', 'visitors']"
   ]
  },
  {
   "cell_type": "code",
   "execution_count": 110,
   "metadata": {},
   "outputs": [
    {
     "data": {
      "text/html": [
       "<div>\n",
       "<style scoped>\n",
       "    .dataframe tbody tr th:only-of-type {\n",
       "        vertical-align: middle;\n",
       "    }\n",
       "\n",
       "    .dataframe tbody tr th {\n",
       "        vertical-align: top;\n",
       "    }\n",
       "\n",
       "    .dataframe thead th {\n",
       "        text-align: right;\n",
       "    }\n",
       "</style>\n",
       "<table border=\"1\" class=\"dataframe\">\n",
       "  <thead>\n",
       "    <tr style=\"text-align: right;\">\n",
       "      <th></th>\n",
       "      <th>date</th>\n",
       "      <th>group</th>\n",
       "      <th>orders</th>\n",
       "      <th>buyers</th>\n",
       "      <th>revenue</th>\n",
       "      <th>visitors</th>\n",
       "    </tr>\n",
       "  </thead>\n",
       "  <tbody>\n",
       "    <tr>\n",
       "      <th>0</th>\n",
       "      <td>2019-08-01</td>\n",
       "      <td>A</td>\n",
       "      <td>23</td>\n",
       "      <td>19</td>\n",
       "      <td>2266.6</td>\n",
       "      <td>719</td>\n",
       "    </tr>\n",
       "    <tr>\n",
       "      <th>1</th>\n",
       "      <td>2019-08-01</td>\n",
       "      <td>B</td>\n",
       "      <td>19</td>\n",
       "      <td>19</td>\n",
       "      <td>1258.8</td>\n",
       "      <td>713</td>\n",
       "    </tr>\n",
       "    <tr>\n",
       "      <th>2</th>\n",
       "      <td>2019-08-02</td>\n",
       "      <td>A</td>\n",
       "      <td>43</td>\n",
       "      <td>37</td>\n",
       "      <td>3770.1</td>\n",
       "      <td>1338</td>\n",
       "    </tr>\n",
       "    <tr>\n",
       "      <th>3</th>\n",
       "      <td>2019-08-02</td>\n",
       "      <td>B</td>\n",
       "      <td>43</td>\n",
       "      <td>42</td>\n",
       "      <td>3882.6</td>\n",
       "      <td>1294</td>\n",
       "    </tr>\n",
       "    <tr>\n",
       "      <th>4</th>\n",
       "      <td>2019-08-03</td>\n",
       "      <td>A</td>\n",
       "      <td>67</td>\n",
       "      <td>61</td>\n",
       "      <td>5585.3</td>\n",
       "      <td>1845</td>\n",
       "    </tr>\n",
       "  </tbody>\n",
       "</table>\n",
       "</div>"
      ],
      "text/plain": [
       "        date group  orders  buyers  revenue  visitors\n",
       "0 2019-08-01     A      23      19   2266.6       719\n",
       "1 2019-08-01     B      19      19   1258.8       713\n",
       "2 2019-08-02     A      43      37   3770.1      1338\n",
       "3 2019-08-02     B      43      42   3882.6      1294\n",
       "4 2019-08-03     A      67      61   5585.3      1845"
      ]
     },
     "execution_count": 110,
     "metadata": {},
     "output_type": "execute_result"
    }
   ],
   "source": [
    "# Imprimir una muestra de los datos para los ingresos acumulados\n",
    "cumulative_data.head()"
   ]
  },
  {
   "cell_type": "markdown",
   "metadata": {},
   "source": [
    "**Graficar los resultados obtenidos**"
   ]
  },
  {
   "cell_type": "code",
   "execution_count": 111,
   "metadata": {},
   "outputs": [
    {
     "data": {
      "image/png": "[encoded data removed]",
      "text/plain": [
       "<Figure size 1300x700 with 1 Axes>"
      ]
     },
     "metadata": {},
     "output_type": "display_data"
    }
   ],
   "source": [
    "# DataFrame con pedidos acumulados e ingresos acumulados por día, grupo A\n",
    "cumulative_revenueA = cumulative_data[cumulative_data['group'] == 'A'][['date', 'revenue', 'orders']]\n",
    "\n",
    "# DataFrame con pedidos acumulados e ingresos acumulados por día, grupo B\n",
    "cumulative_revenueB = cumulative_data[cumulative_data['group'] == 'B'][['date', 'revenue', 'orders']]\n",
    "\n",
    "# Crear un dataframe combinado \n",
    "combined_data = pd.concat([cumulative_revenueA, cumulative_revenueB])\n",
    "combined_data['group'] = ['A']*len(cumulative_revenueA)+['B']*len(cumulative_revenueB)\n",
    "\n",
    "# Graficar los datos con la librería Seaborn\n",
    "plt.figure(figsize=(13, 7))\n",
    "sns.lineplot(x='date', y='revenue', hue='group', data=combined_data)\n",
    "plt.legend(title='Group')\n",
    "plt.title('Cumulative revenue over time per group', fontsize=20, weight='bold')\n",
    "plt.xlabel('Date', fontsize=14)\n",
    "plt.ylabel('Revenue', fontsize=14)\n",
    "plt.show()"
   ]
  },
  {
   "cell_type": "markdown",
   "metadata": {},
   "source": [
    "**Conjeturas**\n",
    "\n",
    "*a.* Tal vez ocurrieron eventos externos que afectaron positivamente al Grupo B, como una campaña de marketing, o acuerdos comerciales.\n",
    "\n",
    "*b.* La diferencia en el crecimiento puede ser temporal, y el Grupo A podría mejorar sus ingresos acumulados en periodos futuros si hacen ajustes en sus estrategias.\n",
    "\n",
    "*c.* Es posible que el Grupo B haya implementado una estrategia diferente que resultó en un aumento significativo de sus ingresos a partir de la tercera semana de Agosto.\n",
    "\n",
    "**Conclusiones**\n",
    "\n",
    "Como se puede visiualizar en la gráfica al inicio del periodo ambos Grupos comenzaron con niveles de ingresos acumulados similares, como fue transcurriendo el tiempo el Grupo B mostró una mejor fortaleza e incremento sus ingresos a una tasa más rápida que el Grupo A y finalmente en los últimos 8 días del periodo hay una marcada diferencia, donde los ingresos acumulados del Grupo B son notablemente más altos que los del Grupo A. "
   ]
  },
  {
   "cell_type": "markdown",
   "metadata": {},
   "source": [
    "# Representa gráficamente el tamaño de pedido promedio acumulado por grupo. Haz conclusiones y conjeturas"
   ]
  },
  {
   "cell_type": "markdown",
   "metadata": {},
   "source": [
    "**Graficar los resultados obtenidos**"
   ]
  },
  {
   "cell_type": "code",
   "execution_count": 112,
   "metadata": {},
   "outputs": [
    {
     "data": {
      "image/png": "[encoded data removed]",
      "text/plain": [
       "<Figure size 1300x700 with 1 Axes>"
      ]
     },
     "metadata": {},
     "output_type": "display_data"
    }
   ],
   "source": [
    "# Calcular el tamaño de pedido promedio acumulado por grupo\n",
    "cumulative_revenueA['average_order_size'] = cumulative_revenueA['revenue'] / cumulative_revenueA['orders']\n",
    "cumulative_revenueB['average_order_size'] = cumulative_revenueB['revenue'] / cumulative_revenueB['orders']\n",
    "\n",
    "# Crear un dataframe combinado\n",
    "combined_data = pd.concat([cumulative_revenueA.assign(group='A'),cumulative_revenueB.assign(group='B')])\n",
    "\n",
    "# Graficar los datos con la librería Seaborn\n",
    "plt.figure(figsize=(13, 7))\n",
    "sns.lineplot(x='date', y='average_order_size', hue='group', data=combined_data)\n",
    "plt.legend(title='Group')\n",
    "plt.title('Cumulative average order size per group', fontsize=20, weight='bold')\n",
    "plt.xlabel('Date',fontsize=14)\n",
    "plt.ylabel('Average order size', fontsize=14)\n",
    "plt.show()"
   ]
  },
  {
   "cell_type": "markdown",
   "metadata": {},
   "source": [
    "**Conjeturas**\n",
    "\n",
    "*a.* El aumento significativo del Grupo B podría estar relacionado con una promoción especial a mediados de Agosto.\n",
    "\n",
    "*b*. Factores externos podrían haber influido positivamente en el comportamiento de compra del Grupo B.\n",
    "\n",
    "*c*. El Grupo A no esta implementando una buena estrategia de ventas esto se ven reflejado en el comportamiento de compra.  \n",
    "\n",
    "**Conclusiones**\n",
    "\n",
    "Como se puede ver en la gráfica el Grupo B esta experimentando un aumento significativo en el tamaño promedio de los pedidos alrededor del 18 de Agosto de 2019 alcanzando un pico cercano a 155 pedidos en promedio, antes de disminuir y estabilizarse en aproximadamente 135 pedidos en promedio. Para concluir se visualiza que inicialmente, el Grupo A tenía un tamaño promedio de pedidos más alto en comparación con el Grupo B. Esto podría deberse a una mayor demanda inicial o a una mejor estrategia de ventas del Grupo A. Además el Grupo B no solo logró superar al Grupo A en términos de tamaño promedio de pedidos, sino que también mantuvo esta ventaja a pesar de la disminución después de haber alcanzando su pico más alto."
   ]
  },
  {
   "cell_type": "markdown",
   "metadata": {},
   "source": [
    "# Representa gráficamente la diferencia relativa en el tamaño de pedido promedio acumulado para el grupo B en comparación con el grupo A. Haz conclusiones y conjeturas."
   ]
  },
  {
   "cell_type": "code",
   "execution_count": 113,
   "metadata": {},
   "outputs": [],
   "source": [
    "# Unir los datos de CUMULATIVE REVENUE A y CUMULATIVE REVENUE B en un dataframe\n",
    "merged_cumulative_revenue = cumulative_revenueA.merge(\n",
    "    cumulative_revenueB, \n",
    "    left_on='date', right_on='date', \n",
    "    how='left', suffixes=['A', 'B'])"
   ]
  },
  {
   "cell_type": "code",
   "execution_count": 114,
   "metadata": {},
   "outputs": [
    {
     "data": {
      "text/html": [
       "<div>\n",
       "<style scoped>\n",
       "    .dataframe tbody tr th:only-of-type {\n",
       "        vertical-align: middle;\n",
       "    }\n",
       "\n",
       "    .dataframe tbody tr th {\n",
       "        vertical-align: top;\n",
       "    }\n",
       "\n",
       "    .dataframe thead th {\n",
       "        text-align: right;\n",
       "    }\n",
       "</style>\n",
       "<table border=\"1\" class=\"dataframe\">\n",
       "  <thead>\n",
       "    <tr style=\"text-align: right;\">\n",
       "      <th></th>\n",
       "      <th>date</th>\n",
       "      <th>revenueA</th>\n",
       "      <th>ordersA</th>\n",
       "      <th>average_order_sizeA</th>\n",
       "      <th>revenueB</th>\n",
       "      <th>ordersB</th>\n",
       "      <th>average_order_sizeB</th>\n",
       "    </tr>\n",
       "  </thead>\n",
       "  <tbody>\n",
       "    <tr>\n",
       "      <th>0</th>\n",
       "      <td>2019-08-01</td>\n",
       "      <td>2266.6</td>\n",
       "      <td>23</td>\n",
       "      <td>98.547826</td>\n",
       "      <td>1258.8</td>\n",
       "      <td>19</td>\n",
       "      <td>66.252632</td>\n",
       "    </tr>\n",
       "    <tr>\n",
       "      <th>1</th>\n",
       "      <td>2019-08-02</td>\n",
       "      <td>3770.1</td>\n",
       "      <td>43</td>\n",
       "      <td>87.676744</td>\n",
       "      <td>3882.6</td>\n",
       "      <td>43</td>\n",
       "      <td>90.293023</td>\n",
       "    </tr>\n",
       "    <tr>\n",
       "      <th>2</th>\n",
       "      <td>2019-08-03</td>\n",
       "      <td>5585.3</td>\n",
       "      <td>67</td>\n",
       "      <td>83.362687</td>\n",
       "      <td>5689.4</td>\n",
       "      <td>59</td>\n",
       "      <td>96.430508</td>\n",
       "    </tr>\n",
       "    <tr>\n",
       "      <th>3</th>\n",
       "      <td>2019-08-04</td>\n",
       "      <td>6575.9</td>\n",
       "      <td>79</td>\n",
       "      <td>83.239241</td>\n",
       "      <td>7351.2</td>\n",
       "      <td>74</td>\n",
       "      <td>99.340541</td>\n",
       "    </tr>\n",
       "    <tr>\n",
       "      <th>4</th>\n",
       "      <td>2019-08-05</td>\n",
       "      <td>8554.0</td>\n",
       "      <td>103</td>\n",
       "      <td>83.048544</td>\n",
       "      <td>8800.5</td>\n",
       "      <td>95</td>\n",
       "      <td>92.636842</td>\n",
       "    </tr>\n",
       "  </tbody>\n",
       "</table>\n",
       "</div>"
      ],
      "text/plain": [
       "        date  revenueA  ordersA  average_order_sizeA  revenueB  ordersB  \\\n",
       "0 2019-08-01    2266.6       23            98.547826    1258.8       19   \n",
       "1 2019-08-02    3770.1       43            87.676744    3882.6       43   \n",
       "2 2019-08-03    5585.3       67            83.362687    5689.4       59   \n",
       "3 2019-08-04    6575.9       79            83.239241    7351.2       74   \n",
       "4 2019-08-05    8554.0      103            83.048544    8800.5       95   \n",
       "\n",
       "   average_order_sizeB  \n",
       "0            66.252632  \n",
       "1            90.293023  \n",
       "2            96.430508  \n",
       "3            99.340541  \n",
       "4            92.636842  "
      ]
     },
     "execution_count": 114,
     "metadata": {},
     "output_type": "execute_result"
    }
   ],
   "source": [
    "# Imprimir una muestra de los datos\n",
    "merged_cumulative_revenue.head()"
   ]
  },
  {
   "cell_type": "markdown",
   "metadata": {},
   "source": [
    "**Graficar los resultados obtenidos**"
   ]
  },
  {
   "cell_type": "code",
   "execution_count": 115,
   "metadata": {},
   "outputs": [
    {
     "data": {
      "image/png": "[encoded data removed]",
      "text/plain": [
       "<Figure size 1300x700 with 1 Axes>"
      ]
     },
     "metadata": {},
     "output_type": "display_data"
    }
   ],
   "source": [
    "# Calcular la diferencia relativa en el tamaño de pedido promedio de compra\n",
    "merged_cumulative_revenue['ratio'] = (\n",
    "    merged_cumulative_revenue['revenueB'] / merged_cumulative_revenue['ordersB']) / (\n",
    "    merged_cumulative_revenue['revenueA'] / merged_cumulative_revenue['ordersA']) - 1 \n",
    "\n",
    "# Graficar los datos con la librería Seaborn\n",
    "plt.figure(figsize=(13, 7))\n",
    "sns.lineplot(x='date', y='ratio', data=merged_cumulative_revenue)\n",
    "plt.axhline(y=0, color='black', linestyle='--')\n",
    "plt.title('Relative difference in average purchase order size', fontsize=20, weight='bold')\n",
    "plt.xlabel('Date',fontsize=14)\n",
    "plt.ylabel('Ratio', fontsize=14)\n",
    "plt.show()"
   ]
  },
  {
   "cell_type": "markdown",
   "metadata": {},
   "source": [
    "**Conjeturas**\n",
    "\n",
    "*a*. El aumento significativo en la diferencia relativa podría ser el resultado de una campaña de marketing exitosa que aumentó temporalmente el tamaño promedio de los pedidos del Grupo B.\n",
    "\n",
    "*b*. Cambios en la demanda del mercado o preferencias de los clientes podrían haber influido en el comportamiento de compra, beneficiando al Grupo B más que al Grupo A.\n",
    "\n",
    "*c*. Factores estacionales podrían haber tenido un impacto en la diferencia relativa observada, llevando a fluctuaciones en el tamaño promedio de los pedidos.\n",
    "\n",
    "**Conclusiones**\n",
    "\n",
    "El gráfico muestra que al inicio del periodo, la diferencia relativa en el tamaño promedio de los pedidos fluctuaba alrededor de valores negativos, indicando que, en promedio, el Grupo A tenía pedidos más grandes en comparación con el Grupo B. Alredor del 18 de Agosto 2019, hubo un pico significativo en la diferencia relativa, alcanzando un valor máximo cercano a 0.5. Esto sugiere que, en este punto, el Grupo B tenía un tamaño promedio de pedidos notablemente mayor que el Grupo A. Finalmente se puede ver que al final del periodo, la diferencia relativa comenzó a disminuir nuevamente, pero aún se mantenía en valores positivos, lo que indica que el Grupo B continuaba teniendo un tamaño promedio de pedidos mayor que el Grupo A."
   ]
  },
  {
   "cell_type": "markdown",
   "metadata": {},
   "source": [
    "# Calcula la tasa de conversión de cada grupo como la relación entre los pedidos y el número de visitas de cada día. Representa gráficamente las tasas de conversión diarias de los dos grupos y describe la diferencia. Saca conclusiones y haz conjeturas."
   ]
  },
  {
   "cell_type": "code",
   "execution_count": 116,
   "metadata": {},
   "outputs": [],
   "source": [
    "# Calcular la conversión acumulada\n",
    "cumulative_data['conversion'] = cumulative_data['orders'] / cumulative_data['visitors']"
   ]
  },
  {
   "cell_type": "code",
   "execution_count": 117,
   "metadata": {},
   "outputs": [
    {
     "data": {
      "text/html": [
       "<div>\n",
       "<style scoped>\n",
       "    .dataframe tbody tr th:only-of-type {\n",
       "        vertical-align: middle;\n",
       "    }\n",
       "\n",
       "    .dataframe tbody tr th {\n",
       "        vertical-align: top;\n",
       "    }\n",
       "\n",
       "    .dataframe thead th {\n",
       "        text-align: right;\n",
       "    }\n",
       "</style>\n",
       "<table border=\"1\" class=\"dataframe\">\n",
       "  <thead>\n",
       "    <tr style=\"text-align: right;\">\n",
       "      <th></th>\n",
       "      <th>date</th>\n",
       "      <th>group</th>\n",
       "      <th>orders</th>\n",
       "      <th>buyers</th>\n",
       "      <th>revenue</th>\n",
       "      <th>visitors</th>\n",
       "      <th>conversion</th>\n",
       "    </tr>\n",
       "  </thead>\n",
       "  <tbody>\n",
       "    <tr>\n",
       "      <th>0</th>\n",
       "      <td>2019-08-01</td>\n",
       "      <td>A</td>\n",
       "      <td>23</td>\n",
       "      <td>19</td>\n",
       "      <td>2266.6</td>\n",
       "      <td>719</td>\n",
       "      <td>0.031989</td>\n",
       "    </tr>\n",
       "    <tr>\n",
       "      <th>1</th>\n",
       "      <td>2019-08-01</td>\n",
       "      <td>B</td>\n",
       "      <td>19</td>\n",
       "      <td>19</td>\n",
       "      <td>1258.8</td>\n",
       "      <td>713</td>\n",
       "      <td>0.026648</td>\n",
       "    </tr>\n",
       "    <tr>\n",
       "      <th>2</th>\n",
       "      <td>2019-08-02</td>\n",
       "      <td>A</td>\n",
       "      <td>43</td>\n",
       "      <td>37</td>\n",
       "      <td>3770.1</td>\n",
       "      <td>1338</td>\n",
       "      <td>0.032138</td>\n",
       "    </tr>\n",
       "    <tr>\n",
       "      <th>3</th>\n",
       "      <td>2019-08-02</td>\n",
       "      <td>B</td>\n",
       "      <td>43</td>\n",
       "      <td>42</td>\n",
       "      <td>3882.6</td>\n",
       "      <td>1294</td>\n",
       "      <td>0.033230</td>\n",
       "    </tr>\n",
       "    <tr>\n",
       "      <th>4</th>\n",
       "      <td>2019-08-03</td>\n",
       "      <td>A</td>\n",
       "      <td>67</td>\n",
       "      <td>61</td>\n",
       "      <td>5585.3</td>\n",
       "      <td>1845</td>\n",
       "      <td>0.036314</td>\n",
       "    </tr>\n",
       "  </tbody>\n",
       "</table>\n",
       "</div>"
      ],
      "text/plain": [
       "        date group  orders  buyers  revenue  visitors  conversion\n",
       "0 2019-08-01     A      23      19   2266.6       719    0.031989\n",
       "1 2019-08-01     B      19      19   1258.8       713    0.026648\n",
       "2 2019-08-02     A      43      37   3770.1      1338    0.032138\n",
       "3 2019-08-02     B      43      42   3882.6      1294    0.033230\n",
       "4 2019-08-03     A      67      61   5585.3      1845    0.036314"
      ]
     },
     "execution_count": 117,
     "metadata": {},
     "output_type": "execute_result"
    }
   ],
   "source": [
    "# Imprimir una muestra de los datos\n",
    "cumulative_data.head()"
   ]
  },
  {
   "cell_type": "markdown",
   "metadata": {},
   "source": [
    "**Graficar los resultados obtenidos**"
   ]
  },
  {
   "cell_type": "markdown",
   "metadata": {},
   "source": [
    "**Tasa de conversión de cada grupo**"
   ]
  },
  {
   "cell_type": "code",
   "execution_count": 118,
   "metadata": {},
   "outputs": [
    {
     "data": {
      "image/png": "[encoded data removed]",
      "text/plain": [
       "<Figure size 1300x700 with 1 Axes>"
      ]
     },
     "metadata": {},
     "output_type": "display_data"
    }
   ],
   "source": [
    "# Seleccionar los datos por grupo\n",
    "cumulative_dataA = cumulative_data[cumulative_data['group']=='A']\n",
    "cumulative_dataB = cumulative_data[cumulative_data['group']=='B']\n",
    "\n",
    "# Crear un dataframe combinado\n",
    "combined_data = pd.concat([cumulative_dataA, cumulative_dataB])\n",
    "\n",
    "# Graficar los datos con la librería Seaborn\n",
    "plt.figure(figsize=(13, 7))\n",
    "sns.lineplot(x='date', y='conversion', hue='group', data=combined_data)\n",
    "plt.legend(title='Group')\n",
    "plt.title('Conversion rate over time', fontsize=20, weight='bold')\n",
    "plt.xlabel('Date',fontsize=14)\n",
    "plt.ylabel('Conversion', fontsize=14)\n",
    "plt.ylim(0.020, 0.040)\n",
    "plt.show()"
   ]
  },
  {
   "cell_type": "markdown",
   "metadata": {},
   "source": [
    "**Conjeturas**\n",
    "\n",
    "*a*. El crecimiento rápido y las fluctuaciones en la tasa de conversión del Grupo B pueden ser resultado de promociones realizadas durante el mes de Agosto.\n",
    "\n",
    "*b* La fluctuación en las tasas de conversión podría estar relacionada con factores temporales como cambios en la demanda del mercado.\n",
    "\n",
    "*c*. El descenso en la tasa de conversión del Grupo A podría ser resultado de una mayor competencia por parte del Grupo B, lo que podría haber llevado al Grupo A a realizar ajustes en sus estrategias, pero sin lograr mantener su ventaja inicial.\n",
    "\n",
    "**Conclusiones**\n",
    "\n",
    "Como se muestra en los datos de la gráfica al inicio del periodo el Grupo A tenía una tasa de conversión ligeramente superior a la del Grupo B, a partir de que el Grupo B empieza a superar al Grupo A, el Grupo B experimentó algunas fluctuaciones en su tasa de conversión, oscilando alrededor de 0.0330, pero finalmente terminó el periodo con una tasa superior a la del Grupo A. Finalmente se puede ver que la tasa de conversión del Grupo A tuvo una tendencia a la baja desde su pico inicial, terminando justo por debajo de 0.0275 al final del periodo.\n"
   ]
  },
  {
   "cell_type": "markdown",
   "metadata": {},
   "source": [
    "**Diferencia relativa para las tasas de conversión**"
   ]
  },
  {
   "cell_type": "code",
   "execution_count": 119,
   "metadata": {},
   "outputs": [],
   "source": [
    "# Unir los datos de CUMULATIVE REVENUE CONVERSION A y CUMULATIVE REVENUE CONVERSION B en un dataframe\n",
    "merged_cumulative_conversions = cumulative_dataA[['date','conversion']].merge(\n",
    "    cumulative_dataB[['date','conversion']], left_on='date', right_on='date', how='left', suffixes=['A', 'B'])"
   ]
  },
  {
   "cell_type": "code",
   "execution_count": 120,
   "metadata": {},
   "outputs": [
    {
     "data": {
      "text/html": [
       "<div>\n",
       "<style scoped>\n",
       "    .dataframe tbody tr th:only-of-type {\n",
       "        vertical-align: middle;\n",
       "    }\n",
       "\n",
       "    .dataframe tbody tr th {\n",
       "        vertical-align: top;\n",
       "    }\n",
       "\n",
       "    .dataframe thead th {\n",
       "        text-align: right;\n",
       "    }\n",
       "</style>\n",
       "<table border=\"1\" class=\"dataframe\">\n",
       "  <thead>\n",
       "    <tr style=\"text-align: right;\">\n",
       "      <th></th>\n",
       "      <th>date</th>\n",
       "      <th>conversionA</th>\n",
       "      <th>conversionB</th>\n",
       "    </tr>\n",
       "  </thead>\n",
       "  <tbody>\n",
       "    <tr>\n",
       "      <th>0</th>\n",
       "      <td>2019-08-01</td>\n",
       "      <td>0.031989</td>\n",
       "      <td>0.026648</td>\n",
       "    </tr>\n",
       "    <tr>\n",
       "      <th>1</th>\n",
       "      <td>2019-08-02</td>\n",
       "      <td>0.032138</td>\n",
       "      <td>0.033230</td>\n",
       "    </tr>\n",
       "    <tr>\n",
       "      <th>2</th>\n",
       "      <td>2019-08-03</td>\n",
       "      <td>0.036314</td>\n",
       "      <td>0.032723</td>\n",
       "    </tr>\n",
       "    <tr>\n",
       "      <th>3</th>\n",
       "      <td>2019-08-04</td>\n",
       "      <td>0.030835</td>\n",
       "      <td>0.028760</td>\n",
       "    </tr>\n",
       "    <tr>\n",
       "      <th>4</th>\n",
       "      <td>2019-08-05</td>\n",
       "      <td>0.031043</td>\n",
       "      <td>0.028963</td>\n",
       "    </tr>\n",
       "  </tbody>\n",
       "</table>\n",
       "</div>"
      ],
      "text/plain": [
       "        date  conversionA  conversionB\n",
       "0 2019-08-01     0.031989     0.026648\n",
       "1 2019-08-02     0.032138     0.033230\n",
       "2 2019-08-03     0.036314     0.032723\n",
       "3 2019-08-04     0.030835     0.028760\n",
       "4 2019-08-05     0.031043     0.028963"
      ]
     },
     "execution_count": 120,
     "metadata": {},
     "output_type": "execute_result"
    }
   ],
   "source": [
    "# Imprimir una muestra de los datos\n",
    "merged_cumulative_conversions.head()"
   ]
  },
  {
   "cell_type": "code",
   "execution_count": 121,
   "metadata": {},
   "outputs": [
    {
     "data": {
      "image/png": "[encoded data removed]",
      "text/plain": [
       "<Figure size 1300x700 with 1 Axes>"
      ]
     },
     "metadata": {},
     "output_type": "display_data"
    }
   ],
   "source": [
    "# Calcular la diferencia relativa para las tasas de conversión acumuladas\n",
    "merged_cumulative_conversions['conversion_difference'] = merged_cumulative_conversions['conversionB'] / merged_cumulative_conversions['conversionA']-1\n",
    "\n",
    "# Graficar los datos con la librería Seaborn\n",
    "plt.figure(figsize=(13, 7))\n",
    "sns.lineplot(x='date', y='conversion_difference', data=merged_cumulative_conversions)\n",
    "plt.axhline(y=0, color='black', linestyle='--')\n",
    "plt.axhline(y=-0.1, color='grey', linestyle='--')\n",
    "plt.title('Relative difference for cumulative conversion rates', fontsize=20, weight='bold')\n",
    "plt.xlabel('Date',fontsize=14)\n",
    "plt.ylabel('Conversion difference', fontsize=14)    \n",
    "plt.ylim(-0.6, 0.6)\n",
    "plt.show()"
   ]
  },
  {
   "cell_type": "markdown",
   "metadata": {},
   "source": [
    "**Esta gráfica es complementaria a la anterior, ya que muestra la diferencia relativa para las tasas de conversión acumulada de cada Grupo.**"
   ]
  },
  {
   "cell_type": "markdown",
   "metadata": {},
   "source": [
    "**Conjeturas**\n",
    "\n",
    "*a*. El rápido aumento en la diferencia relativa podría ser resultado de una campaña de marketing o promoción exitosa por parte del Grupo B que mejoró su tasa de conversión acumulada en la tercera semana de Agosto.\n",
    "\n",
    "*b* Cambios en la demanda del mercado o en el comportamiento de los consumidores, podrían haber beneficiado al Grupo B, llevando a un aumento en su tasa de conversión acumulada.\n",
    "\n",
    "*c*. Identificar los elementos que diferencian al Grupo B y adaptarlos al Grupo A podrían impulsar un mayor crecimiento en las tasas de conversión.\n",
    "\n",
    "**Conclusiones** \n",
    "\n",
    "Como se puede ver en la gráfica al inicio del periodo, la diferencia relativa en las tasas de conversión acumuladas entre los Grupos A y B fluctuaba alrededor de valores negativos, lo que indica que el Grupo A tenía una tasa de conversión ligeramente superior a la del Grupo B, la diferencia relativa comenzó a aumentar rápidamente, alcanzando un nivel alto de alrededor de 0.2. Esto sugiere que el Grupo B logró mejorar su tasa de conversión acumulada y superar al Grupo A. Para concluir se puede ver que, aunque el Grupo B experimento fluctuaciones, logró mantener una ventaja sobre el grupo A en términos de la tasa de conversión acumulada."
   ]
  },
  {
   "cell_type": "markdown",
   "metadata": {},
   "source": [
    "# Traza un gráfico de dispersión del número de pedidos por usuario. Haz conclusiones y conjeturas."
   ]
  },
  {
   "cell_type": "code",
   "execution_count": 122,
   "metadata": {},
   "outputs": [],
   "source": [
    "# Calcular el número de pedidos por usuario\n",
    "orders_per_users = (df_orders.groupby('visitorId', as_index=False).agg({'transactionId': pd.Series.nunique}))"
   ]
  },
  {
   "cell_type": "code",
   "execution_count": 123,
   "metadata": {},
   "outputs": [],
   "source": [
    "# Cambiar el nombre a las columnas\n",
    "orders_per_users.columns = ['visitorId', 'orders']"
   ]
  },
  {
   "cell_type": "code",
   "execution_count": 124,
   "metadata": {},
   "outputs": [
    {
     "data": {
      "text/plain": [
       "Index(['visitorId', 'orders'], dtype='object')"
      ]
     },
     "execution_count": 124,
     "metadata": {},
     "output_type": "execute_result"
    }
   ],
   "source": [
    "# Validar los cambios en el nombre de las columnas\n",
    "orders_per_users.columns"
   ]
  },
  {
   "cell_type": "code",
   "execution_count": 125,
   "metadata": {},
   "outputs": [
    {
     "data": {
      "text/html": [
       "<div>\n",
       "<style scoped>\n",
       "    .dataframe tbody tr th:only-of-type {\n",
       "        vertical-align: middle;\n",
       "    }\n",
       "\n",
       "    .dataframe tbody tr th {\n",
       "        vertical-align: top;\n",
       "    }\n",
       "\n",
       "    .dataframe thead th {\n",
       "        text-align: right;\n",
       "    }\n",
       "</style>\n",
       "<table border=\"1\" class=\"dataframe\">\n",
       "  <thead>\n",
       "    <tr style=\"text-align: right;\">\n",
       "      <th></th>\n",
       "      <th>visitorId</th>\n",
       "      <th>orders</th>\n",
       "    </tr>\n",
       "  </thead>\n",
       "  <tbody>\n",
       "    <tr>\n",
       "      <th>1023</th>\n",
       "      <td>4256040402</td>\n",
       "      <td>11</td>\n",
       "    </tr>\n",
       "    <tr>\n",
       "      <th>591</th>\n",
       "      <td>2458001652</td>\n",
       "      <td>11</td>\n",
       "    </tr>\n",
       "    <tr>\n",
       "      <th>569</th>\n",
       "      <td>2378935119</td>\n",
       "      <td>9</td>\n",
       "    </tr>\n",
       "    <tr>\n",
       "      <th>487</th>\n",
       "      <td>2038680547</td>\n",
       "      <td>8</td>\n",
       "    </tr>\n",
       "    <tr>\n",
       "      <th>44</th>\n",
       "      <td>199603092</td>\n",
       "      <td>5</td>\n",
       "    </tr>\n",
       "  </tbody>\n",
       "</table>\n",
       "</div>"
      ],
      "text/plain": [
       "       visitorId  orders\n",
       "1023  4256040402      11\n",
       "591   2458001652      11\n",
       "569   2378935119       9\n",
       "487   2038680547       8\n",
       "44     199603092       5"
      ]
     },
     "execution_count": 125,
     "metadata": {},
     "output_type": "execute_result"
    }
   ],
   "source": [
    "# Ordenar por el número de pedidos por usuario e imprimir una muestra de los datos\n",
    "orders_per_users.sort_values(ascending=False, by='orders').head(5)"
   ]
  },
  {
   "cell_type": "markdown",
   "metadata": {},
   "source": [
    "**Graficar los resultados obtenidos**"
   ]
  },
  {
   "cell_type": "code",
   "execution_count": 126,
   "metadata": {},
   "outputs": [
    {
     "data": {
      "image/png": "[encoded data removed]",
      "text/plain": [
       "<Figure size 1300x700 with 1 Axes>"
      ]
     },
     "metadata": {},
     "output_type": "display_data"
    }
   ],
   "source": [
    "# Crear la serie x_values\n",
    "x_values = pd.Series(range(0, len(orders_per_users)))\n",
    "\n",
    "# Crear un DataFrame con x_values y orders\n",
    "scatter_data = pd.DataFrame({'x_values': x_values, 'orders': orders_per_users['orders']})\n",
    "\n",
    "# Graficar los datos con la librería Seaborn\n",
    "plt.figure(figsize=(13, 7))\n",
    "sns.scatterplot(x='x_values', y='orders', color='blue', data=scatter_data)\n",
    "plt.title('Number of orders per user', fontsize=20, weight='bold')\n",
    "plt.xlabel('Users',fontsize=14)\n",
    "plt.ylabel('Orders', fontsize=14)    \n",
    "plt.show()"
   ]
  },
  {
   "cell_type": "markdown",
   "metadata": {},
   "source": [
    "**Conjeturas**\n",
    "\n",
    "*a*. Podría haber una correlación entre ciertos factores como promociones o recompensas y el número de pedidos realizados por los usuarios frecuentes.\n",
    "\n",
    "*b*. Los usuarios que realizan más pedidos podrían tener características demográficas o hábitos de compra diferentes a la mayoría.\n",
    "\n",
    "\n",
    "**Conclusiones**\n",
    "\n",
    "Como se puede visuaizar la mayoría de los usuarios tienden a realizar una baja cantidad de pedidos, pero también existe un grupo minoritario de usuarios que realiza una cantidad significativamente mayor de pedidos. Finalmente se puede observar que a medida que aumenta el número de usuarios, parece haber una tendencia a aumentar el número de pedidos, aunque esta relación no es lineal y parece haber una saturación en cierto punto."
   ]
  },
  {
   "cell_type": "markdown",
   "metadata": {},
   "source": [
    "# Calcula los percentiles 95 y 99 del número de pedidos por usuario. Define el punto en el cual un punto de datos se convierte en una anomalía."
   ]
  },
  {
   "cell_type": "code",
   "execution_count": 127,
   "metadata": {},
   "outputs": [
    {
     "data": {
      "text/plain": [
       "array([1., 2., 4.])"
      ]
     },
     "execution_count": 127,
     "metadata": {},
     "output_type": "execute_result"
    }
   ],
   "source": [
    "np.percentile(orders_per_users['orders'], [90, 95, 99])"
   ]
  },
  {
   "cell_type": "markdown",
   "metadata": {},
   "source": [
    "El valor en el **percentil 90** significa que el 90% de los usuarios está en el rango de tener un máximo de 1 pedido.\n",
    "\n",
    "El valor en el **percentil 95** significa que el 95% de los usuarios están dentro de un rango de 2 o menos pedidos.\n",
    "\n",
    "El valor en el **percentil 99** significa que el 99% de los usuarios tienen 4 o menos pedidos. Solo el 1% restante de los usuarios tienen más de 4 pedidos.\n",
    "\n",
    "**Interpretación de anomalías** \n",
    "\n",
    "Dado este patrón, se puede definir una **anomalía** como un **usuario** que tiene más de 4 pedidos. Este usuario estaría fuera del rango del 99% de los usuarios, y por lo tanto, su comportamiento podría considerarse **anómalo** en comparación con el resto de los usuarios."
   ]
  },
  {
   "cell_type": "markdown",
   "metadata": {},
   "source": [
    "# Traza un gráfico de dispersión de los precios de los pedidos. Haz conclusiones y conjeturas."
   ]
  },
  {
   "cell_type": "code",
   "execution_count": 128,
   "metadata": {},
   "outputs": [
    {
     "data": {
      "image/png": "[encoded data removed]",
      "text/plain": [
       "<Figure size 1300x700 with 1 Axes>"
      ]
     },
     "metadata": {},
     "output_type": "display_data"
    }
   ],
   "source": [
    "# Crear la serie x_values\n",
    "x_values = pd.Series(range(0, len(df_orders['revenue'])))\n",
    "\n",
    "# Crear un DataFrame con x_values y prices\n",
    "scatter_data = pd.DataFrame({'x_values': x_values, 'revenue': df_orders['revenue']})\n",
    "\n",
    "# Graficar los datos con la librería Seaborn\n",
    "plt.figure(figsize=(13, 7))\n",
    "sns.scatterplot(x='x_values', y='revenue', color='blue', data=scatter_data)\n",
    "plt.title('Prices vs Orders', fontsize=20, weight='bold')\n",
    "plt.xlabel('Users',fontsize=14)\n",
    "plt.ylabel('Revenue', fontsize=14)    \n",
    "plt.show()"
   ]
  },
  {
   "cell_type": "markdown",
   "metadata": {},
   "source": [
    "**Conjeturas**\n",
    "\n",
    "*a*. Los usuarios que generan altos ingresos podrían tener características específicas, como mayor frecuencia de compra, comprar de mayor valor, o estar influenciados por ofertas y promociones específicas.\n",
    "\n",
    "*b*. Para los usuarios con bajos valores de compra implementar estrategias de marketing que los motiven a incrementar sus compras.\n",
    "\n",
    "*c*. Para los usuarios de alto valor retener y fidelizar a estos usuarios para que sigan comprando, y potencialmente compren aún más.\n",
    "\n",
    "**Conclusiones**\n",
    "\n",
    "Como se puede ver en la gráfica la distribución de ingresos entre los usuarios está bastante sesgada hacia valore bajos. Además de que hay pocos usuarios que generan ingresos muy altos, lo que indica un grupo reducido de clientes de alto valor."
   ]
  },
  {
   "cell_type": "markdown",
   "metadata": {},
   "source": [
    "# Calcula los percentiles 95 y 99 de los precios de los pedidos. Define el punto en el cual un punto de datos se convierte en una anomalía."
   ]
  },
  {
   "cell_type": "code",
   "execution_count": 129,
   "metadata": {},
   "outputs": [
    {
     "data": {
      "text/plain": [
       "array([282.48 , 435.54 , 900.904])"
      ]
     },
     "execution_count": 129,
     "metadata": {},
     "output_type": "execute_result"
    }
   ],
   "source": [
    "np.percentile(df_orders['revenue'], [90, 95, 99])"
   ]
  },
  {
   "cell_type": "markdown",
   "metadata": {},
   "source": [
    "El valor en el **percentil 90** significa que el 90% de los precios de los pedidos tienen un ingreso menor o igual a 282.48. Solo el 10% de los precios de los pedidos tienen un ingreso mayor a 282.48.\n",
    "\n",
    "El valor en el **percentil 95** significa que el 95% de los precios de los pedidos tienen un ingreso menor o igual a 435.54. Solo el 5% de los precios de los pedidos tienen un ingreso mayor a 435.54.\n",
    "\n",
    "El valor en el **percentil 99** significa que el 99% de los precios de los pedidos tienen un ingreso menor o igual 900.904. Solo el 1% de los precios de los pedidos tiene un ingreso superior a 900.904.\n",
    "\n",
    "**Interpretación de anomalías** \n",
    "\n",
    "Dado este patrón, cualquier **ingreso superior a 900.904** se consideraría una **anomalía** porque está fuera de lo común, representando solo el 1% superior de todos los precios de los pedidos. Podrían enfocarse en los **usuarios** que generanestos ingresos altos, ya que podrían ser usuarios muy valiosos o incluso, en algunos contextos, casos de fraude si se comportan de manera inusual. "
   ]
  },
  {
   "cell_type": "markdown",
   "metadata": {},
   "source": [
    "# Encuentra la significancia estadística de la diferencia en la conversión entre los grupos utilizando los datos en bruto. Haz conclusiones y conjeturas."
   ]
  },
  {
   "cell_type": "code",
   "execution_count": 130,
   "metadata": {},
   "outputs": [],
   "source": [
    "# Calcular el número de pedidos realizados, grupo A\n",
    "orders_per_usersA = df_orders[df_orders['group'] == 'A'].groupby(\n",
    "    'visitorId', as_index=False).agg({'transactionId' : pd.Series.nunique})"
   ]
  },
  {
   "cell_type": "code",
   "execution_count": 131,
   "metadata": {},
   "outputs": [],
   "source": [
    "# Cambiar el nombre a las columnas\n",
    "orders_per_usersA.columns = ['visitorId', 'orders']"
   ]
  },
  {
   "cell_type": "code",
   "execution_count": 132,
   "metadata": {},
   "outputs": [],
   "source": [
    "# Calcular el número de pedidos realizados, grupo B\n",
    "orders_per_usersB = df_orders[df_orders['group']=='B'].groupby(\n",
    "    'visitorId', as_index=False).agg({'transactionId' : pd.Series.nunique})"
   ]
  },
  {
   "cell_type": "code",
   "execution_count": 133,
   "metadata": {},
   "outputs": [],
   "source": [
    "# Cambiar el nombre a las columnas\n",
    "orders_per_usersB.columns = ['visitorId', 'orders']"
   ]
  },
  {
   "cell_type": "code",
   "execution_count": 134,
   "metadata": {},
   "outputs": [],
   "source": [
    "# Declarar las variables sampleA y sampleB con usuarios de diferentes grupos y números de pedidos correspondientes\n",
    "sampleA = pd.concat([orders_per_usersA['orders'],pd.Series(0, index=np.arange(\n",
    "    df_visits[df_visits['group']=='A']['visits'].sum() - len(orders_per_usersA['orders'])), name='orders')],axis=0)\n",
    "\n",
    "sampleB = pd.concat([orders_per_usersB['orders'],pd.Series(0, index=np.arange(\n",
    "    df_visits[df_visits['group']=='B']['visits'].sum() - len(orders_per_usersA['orders'])), name='orders')],axis=0)"
   ]
  },
  {
   "cell_type": "code",
   "execution_count": 135,
   "metadata": {},
   "outputs": [
    {
     "name": "stdout",
     "output_type": "stream",
     "text": [
      "0.020\n",
      "0.133\n"
     ]
    }
   ],
   "source": [
    "# Aplicar el criterio estadístico de Mann-Whitney y formatear el valor p redondeándolo a tres decimales\n",
    "print(\"{0:.3f}\".format(stats.mannwhitneyu(sampleA, sampleB)[1]))\n",
    "\n",
    "print(\"{0:.3f}\".format(sampleB.mean()/sampleA.mean()-1))"
   ]
  },
  {
   "cell_type": "markdown",
   "metadata": {},
   "source": [
    "**Conjetura**\n",
    "\n",
    "Los usuarios del Grupo B tienden a realizar compras significativamente mayores que los usuarios del Grupo A, lo cual podría deberse a factores como promociones específicas, hábitos de compra diferenciados, o segmentaciones de mercado que influyen en sus patrones de consumo.\n",
    "\n",
    "\n",
    "**Conclusión** \n",
    "\n",
    "Según los datos sin procesar, hay diferencia entre los Grupos A y B.\n",
    "\n",
    "La primera fila de la salida da el valor p 0.020, que es menor que 0.05. Entonces, podemos rechazar la hipótesis nula ya que hay una diferencia estadísticamente significativa en la conversión entre los Grupos. Además, la ganancia relativa del Grupo B es del 13.3% (la segunda fila de la salida)."
   ]
  },
  {
   "cell_type": "markdown",
   "metadata": {},
   "source": [
    "# Encuentra la significancia estadística de la diferencia en el tamaño promedio de pedido entre los grupos utilizando los datos en bruto. Haz conclusiones y conjeturas."
   ]
  },
  {
   "cell_type": "code",
   "execution_count": 136,
   "metadata": {},
   "outputs": [
    {
     "name": "stdout",
     "output_type": "stream",
     "text": [
      "0.692\n",
      "0.252\n"
     ]
    }
   ],
   "source": [
    "# Aplicar el criterio estadístico de Mann-Whitney y formatear el valor p redondeándolo a tres decimales\n",
    "print('{0:.3f}'.format(stats.mannwhitneyu(df_orders[df_orders['group']=='A']['revenue'], \n",
    "                                          df_orders[df_orders['group']=='B']['revenue'])[1]))\n",
    "print('{0:.3f}'.format(df_orders[df_orders['group']=='B']['revenue'].mean()/df_orders\n",
    "                       [df_orders['group']=='A']['revenue'].mean()-1))"
   ]
  },
  {
   "cell_type": "markdown",
   "metadata": {},
   "source": [
    "**Conjetura**\n",
    "\n",
    "Es probable que la diferencia observada en el tamaño promedio de pedido entre los Grupos A y B sea simplemente una fluctuación aleatoria y no un efecto real de la pertenencia al grupo.\n",
    "\n",
    "\n",
    "**Conclusión**\n",
    "\n",
    "El valor p es notablemente superior a 0.05, por lo que no hay motivo para rechazar la hipótesis nula y concluir que el tamaño promedio de pedido difieren entre los grupos A y B. No obstante, el tamaño de pedido promedio para el grupo B es considerablemente mayor que para el grupo A."
   ]
  },
  {
   "cell_type": "markdown",
   "metadata": {},
   "source": [
    "# Encuentra la significancia estadística de la diferencia en la conversión entre los grupos utilizando los datos filtrados. Haz conclusiones y conjeturas."
   ]
  },
  {
   "cell_type": "code",
   "execution_count": 137,
   "metadata": {},
   "outputs": [],
   "source": [
    "# Crear un slices de datos con los usuarios que realizaron más de cuatro pedidos y que realizaron pedidos por más de $500\n",
    "users_with_many_orders = pd.concat([orders_per_usersA[orders_per_usersA['orders'] > 4]['visitorId'], \n",
    "                                    orders_per_usersB[orders_per_usersB['orders'] > 4]['visitorId']], axis = 0)\n",
    "user_with_expensive_orders = df_orders[df_orders['revenue'] > 500]['visitorId']\n",
    "ab_normal_users = pd.concat([users_with_many_orders, user_with_expensive_orders], axis = 0).drop_duplicates().sort_values()"
   ]
  },
  {
   "cell_type": "code",
   "execution_count": 138,
   "metadata": {},
   "outputs": [
    {
     "data": {
      "text/plain": [
       "1099    148427295\n",
       "928     204675465\n",
       "684     358944393\n",
       "648     382846391\n",
       "751     689129267\n",
       "Name: visitorId, dtype: int64"
      ]
     },
     "execution_count": 138,
     "metadata": {},
     "output_type": "execute_result"
    }
   ],
   "source": [
    "# Imprimir una muestra de los datos\n",
    "ab_normal_users.head(5)"
   ]
  },
  {
   "cell_type": "code",
   "execution_count": 139,
   "metadata": {},
   "outputs": [
    {
     "data": {
      "text/plain": [
       "(46,)"
      ]
     },
     "execution_count": 139,
     "metadata": {},
     "output_type": "execute_result"
    }
   ],
   "source": [
    "# Encontrar el número total de usuarios anómalos\n",
    "ab_normal_users.shape"
   ]
  },
  {
   "cell_type": "markdown",
   "metadata": {},
   "source": [
    "En total, hay 46 usuarios anómalos, para llegar a este resultado tome como base el percentil 95% donde se va a definir a los usuarios anómalos como aquelos que realizan más de cuatro pedidos o un pedido mayor a 500."
   ]
  },
  {
   "cell_type": "code",
   "execution_count": 140,
   "metadata": {},
   "outputs": [],
   "source": [
    "# Preparar muestras del número de pedidos por usuario para cada grupo de prueba\n",
    "filtered_sampleA = pd.concat([orders_per_usersA[np.logical_not(\n",
    "    orders_per_usersA['visitorId'].isin(ab_normal_users))]['orders'],pd.Series(0, index=np.arange(\n",
    "    df_visits[df_visits['group']=='A']['visits'].sum() - len(orders_per_usersA['orders'])),name='orders')], axis = 0)\n",
    "filtered_sampleB = pd.concat([orders_per_usersB[np.logical_not(\n",
    "    orders_per_usersB['visitorId'].isin(ab_normal_users))]['orders'],pd.Series(0, index=np.arange(\n",
    "    df_visits[df_visits['group']=='B']['visits'].sum() - len(orders_per_usersB['orders'])),name='orders')], axis = 0)"
   ]
  },
  {
   "cell_type": "code",
   "execution_count": 141,
   "metadata": {},
   "outputs": [
    {
     "name": "stdout",
     "output_type": "stream",
     "text": [
      "0.015\n",
      "0.151\n"
     ]
    }
   ],
   "source": [
    "# Aplicar el criterio estadístico de Mann-Whitney y formatear el valor p redondeándolo a tres decimales\n",
    "print(\"{0:.3f}\".format(stats.mannwhitneyu(filtered_sampleA, filtered_sampleB)[1]))\n",
    "print(\"{0:.3f}\".format(filtered_sampleB.mean()/filtered_sampleA.mean()-1))"
   ]
  },
  {
   "cell_type": "markdown",
   "metadata": {},
   "source": [
    "**Conjetura**\n",
    "\n",
    "Al comparar la muestra filtrada de la prueba A y la muestra filtrada de la prueba B, se encuentra que hay una diferencia significativa entre ellas. El valor p indica que estas muestras no son iguales en su distribución.\n",
    "\n",
    "**Conclusión**\n",
    "\n",
    "Según los datos filtrados, hay diferencia entre los Grupos A y B.\n",
    "\n",
    "La primera fila de la salida nos da el valor p 0.015, que es menor que 0.05. Entonces, podemos rechazar la hipótesis nula ya que hay una diferencia estadísticamente significativa en la conversión entre los Grupos. Además, la ganancia relativa del Grupo B es del 15.1% (la segunda fila de la salida)."
   ]
  },
  {
   "cell_type": "markdown",
   "metadata": {},
   "source": [
    "# Encuentra la significancia estadística de la diferencia en el tamaño promedio de pedido entre los grupos utilizando los datos filtrados. Haz conclusiones y conjeturas."
   ]
  },
  {
   "cell_type": "code",
   "execution_count": 142,
   "metadata": {},
   "outputs": [
    {
     "name": "stdout",
     "output_type": "stream",
     "text": [
      "0.809\n",
      "0.015\n"
     ]
    }
   ],
   "source": [
    "# Aplicar el criterio estadístico de Mann-Whitney y formatear el valor p redondeándolo a tres decimales\n",
    "print(\"{0:.3f}\".format(stats.mannwhitneyu(df_orders[np.logical_and(df_orders['group']=='A', np.logical_not(\n",
    "    df_orders['visitorId'].isin(ab_normal_users)))]['revenue'], df_orders[np.logical_and(\n",
    "    df_orders['group']=='B', np.logical_not(df_orders['visitorId'].isin(ab_normal_users)))]['revenue'])[1]))\n",
    "print(\"{0:.3f}\".format(df_orders[np.logical_and(df_orders['group']=='B', np.logical_not(df_orders['visitorId'].isin(\n",
    "    ab_normal_users)))]['revenue'].mean() / df_orders[np.logical_and(df_orders['group']=='A', np.logical_not(\n",
    "    df_orders['visitorId'].isin(ab_normal_users)))]['revenue'].mean() - 1))"
   ]
  },
  {
   "cell_type": "markdown",
   "metadata": {},
   "source": [
    "**Conjetura**\n",
    "\n",
    "Al comparar el tamaño promedio de pedido de los Grupos A y B, se encuentra que no hay una diferencia significativa entre las distribuciones del tamaño promedio de pedido de los dos grupos. Esto se refleja en el valor p, que es mayor al umbral común de significancia de 0.05.\n",
    "\n",
    "**Conclusión**\n",
    "El valor p aumentó pero ahora la diferencia entre los segmentos es del 1.5% en lugar de 25.2%.\n",
    "\n",
    "El valor p es notablemente superior a 0.05, por lo que no hay motivo para rechazar la hipótesis nula y concluir que el tamaño promedio de pedido difieren entre los grupos A y B. No obstante, el tamaño de pedido promedio para el grupo B es considerablemente mayor que para el grupo A."
   ]
  },
  {
   "cell_type": "markdown",
   "metadata": {},
   "source": [
    "# Toma una decisión basada en los resultados de la prueba. Las decisiones posibles son: 1. Parar la prueba, considerar a uno de los grupos como líder. 2. Parar la prueba, concluir que no hay diferencia entre los grupos. 3. Continuar la prueba."
   ]
  },
  {
   "cell_type": "markdown",
   "metadata": {},
   "source": [
    "¿Qué conclusiones sacar de esta prueba?\n",
    "\n",
    "Aquí están los hechos:\n",
    "\n",
    "   -Los datos sin procesar y los filtrados revelaron diferencias estadísticamente significativas en la conversión entre los grupos.\n",
    "   \n",
    "   -Ni los datos sin procesar ni los filtrados revelaron diferencias estadísticamente significativas en el tamaño promedio de los pedidos entre los grupos.\n",
    "   \n",
    "   -La gráfica que muestra la diferencia relativa para las tasas de conversión  entre los grupos **In[50]** dice que los resultados del grupo B son mejores y parecen mantenerse en esa sentido a lo largo del periodo.\n",
    "    \n",
    "   -La gráfica que muestra la diferencia relativa en el tamaño de pedido promedio acumulado entre los grupos **in[44]** dice que los resultados del grupo B son mejores día tras día y actualmente son un 30% más altos que los del Grupo A.\n",
    "    \n",
    "Basándose en estos hechos, hay que parar la prueba, considerar a uno de los grupos como líder, en este caso el Grupo B. No tiene sentido continuar, ya que la probabilidad de que el Grupo B resulte ser mejor que el Grupo A es real. "
   ]
  }
 ],
 "metadata": {
  "ExecuteTimeLog": [
   {
    "duration": 2596,
    "start_time": "2025-01-27T21:12:14.130Z"
   },
   {
    "duration": 2577,
    "start_time": "2025-01-27T23:01:21.489Z"
   },
   {
    "duration": 21,
    "start_time": "2025-01-27T23:03:39.233Z"
   },
   {
    "duration": 5,
    "start_time": "2025-01-27T23:05:29.351Z"
   },
   {
    "duration": 8,
    "start_time": "2025-01-27T23:07:07.511Z"
   },
   {
    "duration": 11,
    "start_time": "2025-01-27T23:09:22.747Z"
   },
   {
    "duration": 9,
    "start_time": "2025-01-27T23:09:25.457Z"
   },
   {
    "duration": 9,
    "start_time": "2025-01-27T23:10:24.453Z"
   },
   {
    "duration": 7,
    "start_time": "2025-01-27T23:11:01.703Z"
   },
   {
    "duration": 6,
    "start_time": "2025-01-27T23:11:17.804Z"
   },
   {
    "duration": 6,
    "start_time": "2025-01-27T23:11:50.858Z"
   },
   {
    "duration": 3,
    "start_time": "2025-01-27T23:13:56.379Z"
   },
   {
    "duration": 8,
    "start_time": "2025-01-27T23:14:26.402Z"
   },
   {
    "duration": 9,
    "start_time": "2025-01-27T23:14:47.228Z"
   },
   {
    "duration": 842,
    "start_time": "2025-01-27T23:15:03.072Z"
   },
   {
    "duration": 14,
    "start_time": "2025-01-27T23:15:03.917Z"
   },
   {
    "duration": 10,
    "start_time": "2025-01-27T23:15:03.932Z"
   },
   {
    "duration": 9,
    "start_time": "2025-01-27T23:15:03.944Z"
   },
   {
    "duration": 7,
    "start_time": "2025-01-27T23:15:03.955Z"
   },
   {
    "duration": 846,
    "start_time": "2025-01-27T23:15:37.637Z"
   },
   {
    "duration": 11,
    "start_time": "2025-01-27T23:15:38.485Z"
   },
   {
    "duration": 16,
    "start_time": "2025-01-27T23:15:38.497Z"
   },
   {
    "duration": 8,
    "start_time": "2025-01-27T23:15:38.516Z"
   },
   {
    "duration": 7,
    "start_time": "2025-01-27T23:15:38.526Z"
   },
   {
    "duration": 789,
    "start_time": "2025-01-27T23:18:52.683Z"
   },
   {
    "duration": 11,
    "start_time": "2025-01-27T23:18:53.474Z"
   },
   {
    "duration": 9,
    "start_time": "2025-01-27T23:18:53.486Z"
   },
   {
    "duration": 21,
    "start_time": "2025-01-27T23:18:53.496Z"
   },
   {
    "duration": 9,
    "start_time": "2025-01-27T23:18:53.519Z"
   },
   {
    "duration": 847,
    "start_time": "2025-01-27T23:19:39.044Z"
   },
   {
    "duration": 21,
    "start_time": "2025-01-27T23:19:39.893Z"
   },
   {
    "duration": 8,
    "start_time": "2025-01-27T23:19:39.915Z"
   },
   {
    "duration": 9,
    "start_time": "2025-01-27T23:19:39.925Z"
   },
   {
    "duration": 8,
    "start_time": "2025-01-27T23:19:39.935Z"
   },
   {
    "duration": 7,
    "start_time": "2025-01-27T23:20:21.475Z"
   },
   {
    "duration": 8,
    "start_time": "2025-01-27T23:22:38.284Z"
   },
   {
    "duration": 6,
    "start_time": "2025-01-27T23:23:13.159Z"
   },
   {
    "duration": 813,
    "start_time": "2025-01-27T23:25:35.765Z"
   },
   {
    "duration": 12,
    "start_time": "2025-01-27T23:25:36.580Z"
   },
   {
    "duration": 21,
    "start_time": "2025-01-27T23:25:36.593Z"
   },
   {
    "duration": 8,
    "start_time": "2025-01-27T23:25:36.617Z"
   },
   {
    "duration": 9,
    "start_time": "2025-01-27T23:25:36.627Z"
   },
   {
    "duration": 7,
    "start_time": "2025-01-27T23:25:36.638Z"
   },
   {
    "duration": 8,
    "start_time": "2025-01-27T23:25:36.646Z"
   },
   {
    "duration": 6,
    "start_time": "2025-01-27T23:25:36.655Z"
   },
   {
    "duration": 4,
    "start_time": "2025-01-28T01:17:31.379Z"
   },
   {
    "duration": 3,
    "start_time": "2025-01-28T01:19:40.613Z"
   },
   {
    "duration": 3,
    "start_time": "2025-01-28T01:20:33.866Z"
   },
   {
    "duration": 6,
    "start_time": "2025-01-28T01:21:06.996Z"
   },
   {
    "duration": 6,
    "start_time": "2025-01-28T01:24:17.713Z"
   },
   {
    "duration": 790,
    "start_time": "2025-01-28T01:38:00.500Z"
   },
   {
    "duration": 14,
    "start_time": "2025-01-28T01:38:01.291Z"
   },
   {
    "duration": 11,
    "start_time": "2025-01-28T01:38:01.307Z"
   },
   {
    "duration": 7,
    "start_time": "2025-01-28T01:38:01.320Z"
   },
   {
    "duration": 7,
    "start_time": "2025-01-28T01:38:01.329Z"
   },
   {
    "duration": 7,
    "start_time": "2025-01-28T01:38:01.338Z"
   },
   {
    "duration": 9,
    "start_time": "2025-01-28T01:38:01.346Z"
   },
   {
    "duration": 6,
    "start_time": "2025-01-28T01:38:01.356Z"
   },
   {
    "duration": 3,
    "start_time": "2025-01-28T01:38:01.364Z"
   },
   {
    "duration": 43,
    "start_time": "2025-01-28T01:38:01.370Z"
   },
   {
    "duration": 3,
    "start_time": "2025-01-28T01:38:01.415Z"
   },
   {
    "duration": 7,
    "start_time": "2025-01-28T01:38:01.419Z"
   },
   {
    "duration": 6,
    "start_time": "2025-01-28T01:38:01.427Z"
   },
   {
    "duration": 5,
    "start_time": "2025-01-28T01:38:01.434Z"
   },
   {
    "duration": 4,
    "start_time": "2025-01-28T01:40:44.350Z"
   },
   {
    "duration": 907,
    "start_time": "2025-01-28T01:44:04.321Z"
   },
   {
    "duration": 12,
    "start_time": "2025-01-28T01:44:05.231Z"
   },
   {
    "duration": 11,
    "start_time": "2025-01-28T01:44:05.244Z"
   },
   {
    "duration": 10,
    "start_time": "2025-01-28T01:44:05.257Z"
   },
   {
    "duration": 11,
    "start_time": "2025-01-28T01:44:05.271Z"
   },
   {
    "duration": 36,
    "start_time": "2025-01-28T01:44:05.283Z"
   },
   {
    "duration": 12,
    "start_time": "2025-01-28T01:44:05.321Z"
   },
   {
    "duration": 9,
    "start_time": "2025-01-28T01:44:05.334Z"
   },
   {
    "duration": 3,
    "start_time": "2025-01-28T01:44:05.345Z"
   },
   {
    "duration": 4,
    "start_time": "2025-01-28T01:44:05.349Z"
   },
   {
    "duration": 3,
    "start_time": "2025-01-28T01:44:05.354Z"
   },
   {
    "duration": 5,
    "start_time": "2025-01-28T01:44:05.359Z"
   },
   {
    "duration": 6,
    "start_time": "2025-01-28T01:44:05.366Z"
   },
   {
    "duration": 7,
    "start_time": "2025-01-28T01:44:05.413Z"
   },
   {
    "duration": 4,
    "start_time": "2025-01-28T01:44:05.422Z"
   },
   {
    "duration": 3,
    "start_time": "2025-01-28T01:44:05.427Z"
   },
   {
    "duration": 8,
    "start_time": "2025-01-28T01:44:31.591Z"
   },
   {
    "duration": 5,
    "start_time": "2025-01-28T01:47:51.117Z"
   },
   {
    "duration": 817,
    "start_time": "2025-01-28T01:48:00.497Z"
   },
   {
    "duration": 12,
    "start_time": "2025-01-28T01:48:01.316Z"
   },
   {
    "duration": 11,
    "start_time": "2025-01-28T01:48:01.331Z"
   },
   {
    "duration": 11,
    "start_time": "2025-01-28T01:48:01.344Z"
   },
   {
    "duration": 10,
    "start_time": "2025-01-28T01:48:01.358Z"
   },
   {
    "duration": 9,
    "start_time": "2025-01-28T01:48:01.370Z"
   },
   {
    "duration": 11,
    "start_time": "2025-01-28T01:48:01.411Z"
   },
   {
    "duration": 7,
    "start_time": "2025-01-28T01:48:01.424Z"
   },
   {
    "duration": 7,
    "start_time": "2025-01-28T01:48:01.433Z"
   },
   {
    "duration": 4,
    "start_time": "2025-01-28T01:48:01.442Z"
   },
   {
    "duration": 4,
    "start_time": "2025-01-28T01:48:01.448Z"
   },
   {
    "duration": 6,
    "start_time": "2025-01-28T01:48:01.454Z"
   },
   {
    "duration": 6,
    "start_time": "2025-01-28T01:48:01.462Z"
   },
   {
    "duration": 41,
    "start_time": "2025-01-28T01:48:01.472Z"
   },
   {
    "duration": 6,
    "start_time": "2025-01-28T01:48:01.515Z"
   },
   {
    "duration": 6,
    "start_time": "2025-01-28T01:52:28.688Z"
   },
   {
    "duration": 5,
    "start_time": "2025-01-28T01:53:24.476Z"
   },
   {
    "duration": 9,
    "start_time": "2025-01-28T01:54:09.195Z"
   },
   {
    "duration": 9,
    "start_time": "2025-01-28T01:55:25.014Z"
   },
   {
    "duration": 4,
    "start_time": "2025-01-28T02:47:21.573Z"
   },
   {
    "duration": 621,
    "start_time": "2025-01-28T02:49:48.575Z"
   },
   {
    "duration": 5,
    "start_time": "2025-01-28T02:50:28.738Z"
   },
   {
    "duration": 794,
    "start_time": "2025-01-28T02:50:35.685Z"
   },
   {
    "duration": 12,
    "start_time": "2025-01-28T02:50:36.482Z"
   },
   {
    "duration": 10,
    "start_time": "2025-01-28T02:50:36.495Z"
   },
   {
    "duration": 9,
    "start_time": "2025-01-28T02:50:36.512Z"
   },
   {
    "duration": 9,
    "start_time": "2025-01-28T02:50:36.523Z"
   },
   {
    "duration": 7,
    "start_time": "2025-01-28T02:50:36.534Z"
   },
   {
    "duration": 8,
    "start_time": "2025-01-28T02:50:36.543Z"
   },
   {
    "duration": 7,
    "start_time": "2025-01-28T02:50:36.553Z"
   },
   {
    "duration": 4,
    "start_time": "2025-01-28T02:50:36.561Z"
   },
   {
    "duration": 3,
    "start_time": "2025-01-28T02:50:36.569Z"
   },
   {
    "duration": 42,
    "start_time": "2025-01-28T02:50:36.573Z"
   },
   {
    "duration": 5,
    "start_time": "2025-01-28T02:50:36.617Z"
   },
   {
    "duration": 6,
    "start_time": "2025-01-28T02:50:36.624Z"
   },
   {
    "duration": 4,
    "start_time": "2025-01-28T02:50:36.632Z"
   },
   {
    "duration": 5,
    "start_time": "2025-01-28T02:50:36.639Z"
   },
   {
    "duration": 4,
    "start_time": "2025-01-28T02:50:36.645Z"
   },
   {
    "duration": 8,
    "start_time": "2025-01-28T02:50:36.652Z"
   },
   {
    "duration": 6,
    "start_time": "2025-01-28T02:50:36.662Z"
   },
   {
    "duration": 44,
    "start_time": "2025-01-28T02:50:36.669Z"
   },
   {
    "duration": 5,
    "start_time": "2025-01-28T02:50:36.714Z"
   },
   {
    "duration": 9,
    "start_time": "2025-01-28T02:51:42.863Z"
   },
   {
    "duration": 9,
    "start_time": "2025-01-28T02:51:59.334Z"
   },
   {
    "duration": 5,
    "start_time": "2025-01-28T02:54:34.735Z"
   },
   {
    "duration": 4,
    "start_time": "2025-01-28T02:59:49.916Z"
   },
   {
    "duration": 8,
    "start_time": "2025-01-28T03:00:25.288Z"
   },
   {
    "duration": 5,
    "start_time": "2025-01-28T03:01:29.197Z"
   },
   {
    "duration": 4,
    "start_time": "2025-01-28T03:07:30.200Z"
   },
   {
    "duration": 804,
    "start_time": "2025-01-28T03:09:42.968Z"
   },
   {
    "duration": 14,
    "start_time": "2025-01-28T03:09:43.774Z"
   },
   {
    "duration": 9,
    "start_time": "2025-01-28T03:09:43.789Z"
   },
   {
    "duration": 14,
    "start_time": "2025-01-28T03:09:43.799Z"
   },
   {
    "duration": 7,
    "start_time": "2025-01-28T03:09:43.816Z"
   },
   {
    "duration": 7,
    "start_time": "2025-01-28T03:09:43.825Z"
   },
   {
    "duration": 9,
    "start_time": "2025-01-28T03:09:43.834Z"
   },
   {
    "duration": 6,
    "start_time": "2025-01-28T03:09:43.844Z"
   },
   {
    "duration": 4,
    "start_time": "2025-01-28T03:09:43.852Z"
   },
   {
    "duration": 3,
    "start_time": "2025-01-28T03:09:43.858Z"
   },
   {
    "duration": 4,
    "start_time": "2025-01-28T03:09:43.862Z"
   },
   {
    "duration": 48,
    "start_time": "2025-01-28T03:09:43.868Z"
   },
   {
    "duration": 5,
    "start_time": "2025-01-28T03:09:43.918Z"
   },
   {
    "duration": 4,
    "start_time": "2025-01-28T03:09:43.927Z"
   },
   {
    "duration": 6,
    "start_time": "2025-01-28T03:09:43.933Z"
   },
   {
    "duration": 5,
    "start_time": "2025-01-28T03:09:43.941Z"
   },
   {
    "duration": 10,
    "start_time": "2025-01-28T03:09:43.948Z"
   },
   {
    "duration": 6,
    "start_time": "2025-01-28T03:09:43.959Z"
   },
   {
    "duration": 3,
    "start_time": "2025-01-28T03:09:43.968Z"
   },
   {
    "duration": 6,
    "start_time": "2025-01-28T03:09:44.013Z"
   },
   {
    "duration": 9,
    "start_time": "2025-01-28T03:09:44.020Z"
   },
   {
    "duration": 4,
    "start_time": "2025-01-28T03:09:44.031Z"
   },
   {
    "duration": 3,
    "start_time": "2025-01-28T03:09:44.037Z"
   },
   {
    "duration": 10,
    "start_time": "2025-01-28T03:09:44.041Z"
   },
   {
    "duration": 5,
    "start_time": "2025-01-28T03:09:44.052Z"
   },
   {
    "duration": 3,
    "start_time": "2025-01-28T03:09:44.059Z"
   },
   {
    "duration": 4,
    "start_time": "2025-01-28T03:09:44.064Z"
   },
   {
    "duration": 45,
    "start_time": "2025-01-28T03:09:44.070Z"
   },
   {
    "duration": 806,
    "start_time": "2025-01-28T03:12:38.820Z"
   },
   {
    "duration": 12,
    "start_time": "2025-01-28T03:12:39.629Z"
   },
   {
    "duration": 8,
    "start_time": "2025-01-28T03:12:39.643Z"
   },
   {
    "duration": 9,
    "start_time": "2025-01-28T03:12:39.654Z"
   },
   {
    "duration": 8,
    "start_time": "2025-01-28T03:12:39.664Z"
   },
   {
    "duration": 7,
    "start_time": "2025-01-28T03:12:39.674Z"
   },
   {
    "duration": 37,
    "start_time": "2025-01-28T03:12:39.682Z"
   },
   {
    "duration": 5,
    "start_time": "2025-01-28T03:12:39.721Z"
   },
   {
    "duration": 4,
    "start_time": "2025-01-28T03:12:39.728Z"
   },
   {
    "duration": 3,
    "start_time": "2025-01-28T03:12:39.735Z"
   },
   {
    "duration": 4,
    "start_time": "2025-01-28T03:12:39.740Z"
   },
   {
    "duration": 6,
    "start_time": "2025-01-28T03:12:39.745Z"
   },
   {
    "duration": 5,
    "start_time": "2025-01-28T03:12:39.753Z"
   },
   {
    "duration": 5,
    "start_time": "2025-01-28T03:12:39.759Z"
   },
   {
    "duration": 49,
    "start_time": "2025-01-28T03:12:39.766Z"
   },
   {
    "duration": 5,
    "start_time": "2025-01-28T03:12:39.816Z"
   },
   {
    "duration": 8,
    "start_time": "2025-01-28T03:12:39.822Z"
   },
   {
    "duration": 4,
    "start_time": "2025-01-28T03:12:39.832Z"
   },
   {
    "duration": 3,
    "start_time": "2025-01-28T03:12:39.838Z"
   },
   {
    "duration": 4,
    "start_time": "2025-01-28T03:12:39.843Z"
   },
   {
    "duration": 8,
    "start_time": "2025-01-28T03:12:39.849Z"
   },
   {
    "duration": 5,
    "start_time": "2025-01-28T03:12:39.859Z"
   },
   {
    "duration": 46,
    "start_time": "2025-01-28T03:12:39.866Z"
   },
   {
    "duration": 8,
    "start_time": "2025-01-28T03:12:39.913Z"
   },
   {
    "duration": 4,
    "start_time": "2025-01-28T03:12:39.923Z"
   },
   {
    "duration": 4,
    "start_time": "2025-01-28T03:12:39.928Z"
   },
   {
    "duration": 5,
    "start_time": "2025-01-28T03:12:39.933Z"
   },
   {
    "duration": 8,
    "start_time": "2025-01-28T03:12:39.941Z"
   },
   {
    "duration": 4,
    "start_time": "2025-01-28T03:17:40.496Z"
   },
   {
    "duration": 4,
    "start_time": "2025-01-28T03:26:25.815Z"
   },
   {
    "duration": 846,
    "start_time": "2025-01-28T03:40:32.883Z"
   },
   {
    "duration": 14,
    "start_time": "2025-01-28T03:40:33.732Z"
   },
   {
    "duration": 9,
    "start_time": "2025-01-28T03:40:33.747Z"
   },
   {
    "duration": 9,
    "start_time": "2025-01-28T03:40:33.758Z"
   },
   {
    "duration": 8,
    "start_time": "2025-01-28T03:40:33.769Z"
   },
   {
    "duration": 7,
    "start_time": "2025-01-28T03:40:33.778Z"
   },
   {
    "duration": 31,
    "start_time": "2025-01-28T03:40:33.787Z"
   },
   {
    "duration": 7,
    "start_time": "2025-01-28T03:40:33.820Z"
   },
   {
    "duration": 3,
    "start_time": "2025-01-28T03:40:33.829Z"
   },
   {
    "duration": 2,
    "start_time": "2025-01-28T03:40:33.836Z"
   },
   {
    "duration": 3,
    "start_time": "2025-01-28T03:40:33.840Z"
   },
   {
    "duration": 6,
    "start_time": "2025-01-28T03:40:33.846Z"
   },
   {
    "duration": 5,
    "start_time": "2025-01-28T03:40:33.854Z"
   },
   {
    "duration": 5,
    "start_time": "2025-01-28T03:40:33.861Z"
   },
   {
    "duration": 45,
    "start_time": "2025-01-28T03:40:33.868Z"
   },
   {
    "duration": 5,
    "start_time": "2025-01-28T03:40:33.915Z"
   },
   {
    "duration": 9,
    "start_time": "2025-01-28T03:40:33.921Z"
   },
   {
    "duration": 5,
    "start_time": "2025-01-28T03:40:33.931Z"
   },
   {
    "duration": 3,
    "start_time": "2025-01-28T03:40:33.938Z"
   },
   {
    "duration": 5,
    "start_time": "2025-01-28T03:40:33.943Z"
   },
   {
    "duration": 9,
    "start_time": "2025-01-28T03:40:33.949Z"
   },
   {
    "duration": 5,
    "start_time": "2025-01-28T03:40:33.960Z"
   },
   {
    "duration": 45,
    "start_time": "2025-01-28T03:40:33.967Z"
   },
   {
    "duration": 10,
    "start_time": "2025-01-28T03:40:34.014Z"
   },
   {
    "duration": 4,
    "start_time": "2025-01-28T03:40:34.026Z"
   },
   {
    "duration": 7,
    "start_time": "2025-01-28T03:40:34.032Z"
   },
   {
    "duration": 5,
    "start_time": "2025-01-28T03:40:34.041Z"
   },
   {
    "duration": 7,
    "start_time": "2025-01-28T03:40:34.050Z"
   },
   {
    "duration": 163,
    "start_time": "2025-01-28T20:33:14.861Z"
   },
   {
    "duration": 2541,
    "start_time": "2025-01-28T20:33:21.883Z"
   },
   {
    "duration": 18,
    "start_time": "2025-01-28T20:33:24.427Z"
   },
   {
    "duration": 8,
    "start_time": "2025-01-28T20:33:24.446Z"
   },
   {
    "duration": 8,
    "start_time": "2025-01-28T20:33:24.456Z"
   },
   {
    "duration": 8,
    "start_time": "2025-01-28T20:33:24.468Z"
   },
   {
    "duration": 7,
    "start_time": "2025-01-28T20:33:24.477Z"
   },
   {
    "duration": 26,
    "start_time": "2025-01-28T20:33:24.486Z"
   },
   {
    "duration": 5,
    "start_time": "2025-01-28T20:33:24.514Z"
   },
   {
    "duration": 4,
    "start_time": "2025-01-28T20:33:24.521Z"
   },
   {
    "duration": 3,
    "start_time": "2025-01-28T20:33:24.526Z"
   },
   {
    "duration": 3,
    "start_time": "2025-01-28T20:33:24.531Z"
   },
   {
    "duration": 6,
    "start_time": "2025-01-28T20:33:24.536Z"
   },
   {
    "duration": 5,
    "start_time": "2025-01-28T20:33:24.543Z"
   },
   {
    "duration": 4,
    "start_time": "2025-01-28T20:33:24.551Z"
   },
   {
    "duration": 5,
    "start_time": "2025-01-28T20:33:24.556Z"
   },
   {
    "duration": 50,
    "start_time": "2025-01-28T20:33:24.563Z"
   },
   {
    "duration": 9,
    "start_time": "2025-01-28T20:33:24.615Z"
   },
   {
    "duration": 6,
    "start_time": "2025-01-28T20:33:24.625Z"
   },
   {
    "duration": 11,
    "start_time": "2025-01-28T20:33:24.634Z"
   },
   {
    "duration": 3,
    "start_time": "2025-01-28T20:33:24.647Z"
   },
   {
    "duration": 4,
    "start_time": "2025-01-28T20:33:24.652Z"
   },
   {
    "duration": 8,
    "start_time": "2025-01-28T20:33:24.658Z"
   },
   {
    "duration": 6,
    "start_time": "2025-01-28T20:33:24.668Z"
   },
   {
    "duration": 8,
    "start_time": "2025-01-28T20:33:24.712Z"
   },
   {
    "duration": 9,
    "start_time": "2025-01-28T20:33:24.721Z"
   },
   {
    "duration": 5,
    "start_time": "2025-01-28T20:33:24.731Z"
   },
   {
    "duration": 3,
    "start_time": "2025-01-28T20:33:24.737Z"
   },
   {
    "duration": 5,
    "start_time": "2025-01-28T20:33:24.742Z"
   },
   {
    "duration": 9,
    "start_time": "2025-01-28T20:33:24.748Z"
   },
   {
    "duration": 6,
    "start_time": "2025-01-28T20:55:59.392Z"
   },
   {
    "duration": 10,
    "start_time": "2025-01-28T20:56:17.333Z"
   },
   {
    "duration": 8,
    "start_time": "2025-01-28T20:57:26.594Z"
   },
   {
    "duration": 849,
    "start_time": "2025-01-28T20:59:18.725Z"
   },
   {
    "duration": 15,
    "start_time": "2025-01-28T20:59:19.576Z"
   },
   {
    "duration": 9,
    "start_time": "2025-01-28T20:59:19.593Z"
   },
   {
    "duration": 7,
    "start_time": "2025-01-28T20:59:19.612Z"
   },
   {
    "duration": 8,
    "start_time": "2025-01-28T20:59:19.622Z"
   },
   {
    "duration": 7,
    "start_time": "2025-01-28T20:59:19.631Z"
   },
   {
    "duration": 9,
    "start_time": "2025-01-28T20:59:19.639Z"
   },
   {
    "duration": 5,
    "start_time": "2025-01-28T20:59:19.650Z"
   },
   {
    "duration": 3,
    "start_time": "2025-01-28T20:59:19.657Z"
   },
   {
    "duration": 3,
    "start_time": "2025-01-28T20:59:19.662Z"
   },
   {
    "duration": 4,
    "start_time": "2025-01-28T20:59:19.666Z"
   },
   {
    "duration": 44,
    "start_time": "2025-01-28T20:59:19.671Z"
   },
   {
    "duration": 5,
    "start_time": "2025-01-28T20:59:19.716Z"
   },
   {
    "duration": 4,
    "start_time": "2025-01-28T20:59:19.724Z"
   },
   {
    "duration": 5,
    "start_time": "2025-01-28T20:59:19.730Z"
   },
   {
    "duration": 4,
    "start_time": "2025-01-28T20:59:19.736Z"
   },
   {
    "duration": 8,
    "start_time": "2025-01-28T20:59:19.742Z"
   },
   {
    "duration": 5,
    "start_time": "2025-01-28T20:59:19.752Z"
   },
   {
    "duration": 12,
    "start_time": "2025-01-28T20:59:19.758Z"
   },
   {
    "duration": 3,
    "start_time": "2025-01-28T20:59:19.812Z"
   },
   {
    "duration": 5,
    "start_time": "2025-01-28T20:59:19.816Z"
   },
   {
    "duration": 9,
    "start_time": "2025-01-28T20:59:19.822Z"
   },
   {
    "duration": 6,
    "start_time": "2025-01-28T20:59:19.833Z"
   },
   {
    "duration": 3,
    "start_time": "2025-01-28T20:59:19.842Z"
   },
   {
    "duration": 9,
    "start_time": "2025-01-28T20:59:19.846Z"
   },
   {
    "duration": 5,
    "start_time": "2025-01-28T20:59:19.857Z"
   },
   {
    "duration": 4,
    "start_time": "2025-01-28T20:59:19.863Z"
   },
   {
    "duration": 46,
    "start_time": "2025-01-28T20:59:19.868Z"
   },
   {
    "duration": 8,
    "start_time": "2025-01-28T20:59:19.915Z"
   },
   {
    "duration": 9,
    "start_time": "2025-01-28T20:59:41.785Z"
   },
   {
    "duration": 6,
    "start_time": "2025-01-28T21:43:08.184Z"
   },
   {
    "duration": 3,
    "start_time": "2025-01-28T21:51:27.357Z"
   },
   {
    "duration": 665,
    "start_time": "2025-01-28T22:11:03.525Z"
   },
   {
    "duration": 17,
    "start_time": "2025-01-28T22:11:45.232Z"
   },
   {
    "duration": 15,
    "start_time": "2025-01-28T22:12:48.259Z"
   },
   {
    "duration": 4,
    "start_time": "2025-01-28T22:13:16.186Z"
   },
   {
    "duration": 15,
    "start_time": "2025-01-28T22:13:37.521Z"
   },
   {
    "duration": 16,
    "start_time": "2025-01-28T22:13:59.000Z"
   },
   {
    "duration": 14,
    "start_time": "2025-01-28T22:15:10.551Z"
   },
   {
    "duration": 4,
    "start_time": "2025-01-28T22:35:29.479Z"
   },
   {
    "duration": 8,
    "start_time": "2025-01-28T22:36:34.516Z"
   },
   {
    "duration": 846,
    "start_time": "2025-01-28T22:37:44.045Z"
   },
   {
    "duration": 15,
    "start_time": "2025-01-28T22:37:44.893Z"
   },
   {
    "duration": 9,
    "start_time": "2025-01-28T22:37:44.909Z"
   },
   {
    "duration": 9,
    "start_time": "2025-01-28T22:37:44.921Z"
   },
   {
    "duration": 9,
    "start_time": "2025-01-28T22:37:44.932Z"
   },
   {
    "duration": 7,
    "start_time": "2025-01-28T22:37:44.943Z"
   },
   {
    "duration": 7,
    "start_time": "2025-01-28T22:37:44.952Z"
   },
   {
    "duration": 6,
    "start_time": "2025-01-28T22:37:44.961Z"
   },
   {
    "duration": 4,
    "start_time": "2025-01-28T22:37:44.968Z"
   },
   {
    "duration": 4,
    "start_time": "2025-01-28T22:37:45.013Z"
   },
   {
    "duration": 3,
    "start_time": "2025-01-28T22:37:45.019Z"
   },
   {
    "duration": 7,
    "start_time": "2025-01-28T22:37:45.024Z"
   },
   {
    "duration": 5,
    "start_time": "2025-01-28T22:37:45.032Z"
   },
   {
    "duration": 4,
    "start_time": "2025-01-28T22:37:45.039Z"
   },
   {
    "duration": 4,
    "start_time": "2025-01-28T22:37:45.045Z"
   },
   {
    "duration": 4,
    "start_time": "2025-01-28T22:37:45.051Z"
   },
   {
    "duration": 9,
    "start_time": "2025-01-28T22:37:45.056Z"
   },
   {
    "duration": 48,
    "start_time": "2025-01-28T22:37:45.066Z"
   },
   {
    "duration": 14,
    "start_time": "2025-01-28T22:37:45.116Z"
   },
   {
    "duration": 3,
    "start_time": "2025-01-28T22:37:45.131Z"
   },
   {
    "duration": 6,
    "start_time": "2025-01-28T22:37:45.136Z"
   },
   {
    "duration": 8,
    "start_time": "2025-01-28T22:37:45.144Z"
   },
   {
    "duration": 5,
    "start_time": "2025-01-28T22:37:45.154Z"
   },
   {
    "duration": 4,
    "start_time": "2025-01-28T22:37:45.161Z"
   },
   {
    "duration": 8,
    "start_time": "2025-01-28T22:37:45.166Z"
   },
   {
    "duration": 7,
    "start_time": "2025-01-28T22:37:45.212Z"
   },
   {
    "duration": 4,
    "start_time": "2025-01-28T22:37:45.221Z"
   },
   {
    "duration": 4,
    "start_time": "2025-01-28T22:37:45.230Z"
   },
   {
    "duration": 8,
    "start_time": "2025-01-28T22:37:45.236Z"
   },
   {
    "duration": 7,
    "start_time": "2025-01-28T22:37:45.246Z"
   },
   {
    "duration": 4,
    "start_time": "2025-01-28T22:37:45.254Z"
   },
   {
    "duration": 3,
    "start_time": "2025-01-28T22:37:45.260Z"
   },
   {
    "duration": 48,
    "start_time": "2025-01-28T22:37:45.265Z"
   },
   {
    "duration": 4,
    "start_time": "2025-01-28T22:44:57.357Z"
   },
   {
    "duration": 8,
    "start_time": "2025-01-28T22:45:16.462Z"
   },
   {
    "duration": 6,
    "start_time": "2025-01-29T00:49:07.424Z"
   },
   {
    "duration": 5,
    "start_time": "2025-01-29T00:49:17.151Z"
   },
   {
    "duration": 9,
    "start_time": "2025-01-29T00:49:44.854Z"
   },
   {
    "duration": 5,
    "start_time": "2025-01-29T00:51:39.340Z"
   },
   {
    "duration": 9,
    "start_time": "2025-01-29T00:51:42.596Z"
   },
   {
    "duration": 11,
    "start_time": "2025-01-29T00:54:01.465Z"
   },
   {
    "duration": 824,
    "start_time": "2025-01-29T00:59:03.464Z"
   },
   {
    "duration": 12,
    "start_time": "2025-01-29T00:59:04.291Z"
   },
   {
    "duration": 9,
    "start_time": "2025-01-29T00:59:04.306Z"
   },
   {
    "duration": 8,
    "start_time": "2025-01-29T00:59:04.316Z"
   },
   {
    "duration": 8,
    "start_time": "2025-01-29T00:59:04.327Z"
   },
   {
    "duration": 7,
    "start_time": "2025-01-29T00:59:04.337Z"
   },
   {
    "duration": 9,
    "start_time": "2025-01-29T00:59:04.345Z"
   },
   {
    "duration": 6,
    "start_time": "2025-01-29T00:59:04.356Z"
   },
   {
    "duration": 3,
    "start_time": "2025-01-29T00:59:04.364Z"
   },
   {
    "duration": 43,
    "start_time": "2025-01-29T00:59:04.369Z"
   },
   {
    "duration": 3,
    "start_time": "2025-01-29T00:59:04.413Z"
   },
   {
    "duration": 5,
    "start_time": "2025-01-29T00:59:04.418Z"
   },
   {
    "duration": 5,
    "start_time": "2025-01-29T00:59:04.424Z"
   },
   {
    "duration": 4,
    "start_time": "2025-01-29T00:59:04.432Z"
   },
   {
    "duration": 5,
    "start_time": "2025-01-29T00:59:04.437Z"
   },
   {
    "duration": 4,
    "start_time": "2025-01-29T00:59:04.445Z"
   },
   {
    "duration": 8,
    "start_time": "2025-01-29T00:59:04.451Z"
   },
   {
    "duration": 5,
    "start_time": "2025-01-29T00:59:04.461Z"
   },
   {
    "duration": 54,
    "start_time": "2025-01-29T00:59:04.467Z"
   },
   {
    "duration": 10,
    "start_time": "2025-01-29T00:59:04.522Z"
   },
   {
    "duration": 3,
    "start_time": "2025-01-29T00:59:04.533Z"
   },
   {
    "duration": 5,
    "start_time": "2025-01-29T00:59:04.538Z"
   },
   {
    "duration": 9,
    "start_time": "2025-01-29T00:59:04.544Z"
   },
   {
    "duration": 5,
    "start_time": "2025-01-29T00:59:04.555Z"
   },
   {
    "duration": 3,
    "start_time": "2025-01-29T00:59:04.562Z"
   },
   {
    "duration": 45,
    "start_time": "2025-01-29T00:59:04.567Z"
   },
   {
    "duration": 5,
    "start_time": "2025-01-29T00:59:04.614Z"
   },
   {
    "duration": 4,
    "start_time": "2025-01-29T00:59:04.620Z"
   },
   {
    "duration": 4,
    "start_time": "2025-01-29T00:59:04.625Z"
   },
   {
    "duration": 7,
    "start_time": "2025-01-29T00:59:04.631Z"
   },
   {
    "duration": 6,
    "start_time": "2025-01-29T00:59:04.640Z"
   },
   {
    "duration": 4,
    "start_time": "2025-01-29T00:59:04.647Z"
   },
   {
    "duration": 4,
    "start_time": "2025-01-29T00:59:04.652Z"
   },
   {
    "duration": 8,
    "start_time": "2025-01-29T00:59:04.658Z"
   },
   {
    "duration": 3,
    "start_time": "2025-01-29T00:59:04.668Z"
   },
   {
    "duration": 12,
    "start_time": "2025-01-29T00:59:04.712Z"
   },
   {
    "duration": 5,
    "start_time": "2025-01-29T01:33:31.940Z"
   },
   {
    "duration": 3,
    "start_time": "2025-01-29T01:33:39.677Z"
   },
   {
    "duration": 5,
    "start_time": "2025-01-29T01:33:51.117Z"
   },
   {
    "duration": 7,
    "start_time": "2025-01-29T01:34:05.554Z"
   },
   {
    "duration": 9,
    "start_time": "2025-01-29T01:34:23.432Z"
   },
   {
    "duration": 6,
    "start_time": "2025-01-29T01:35:20.252Z"
   },
   {
    "duration": 6,
    "start_time": "2025-01-29T01:35:22.168Z"
   },
   {
    "duration": 94,
    "start_time": "2025-01-29T01:48:15.228Z"
   },
   {
    "duration": 98,
    "start_time": "2025-01-29T02:49:23.753Z"
   },
   {
    "duration": 107,
    "start_time": "2025-01-29T02:49:40.141Z"
   },
   {
    "duration": 158,
    "start_time": "2025-01-29T20:22:18.805Z"
   },
   {
    "duration": 2548,
    "start_time": "2025-01-29T20:22:26.767Z"
   },
   {
    "duration": 22,
    "start_time": "2025-01-29T20:22:29.317Z"
   },
   {
    "duration": 9,
    "start_time": "2025-01-29T20:22:29.340Z"
   },
   {
    "duration": 8,
    "start_time": "2025-01-29T20:22:29.351Z"
   },
   {
    "duration": 7,
    "start_time": "2025-01-29T20:22:29.362Z"
   },
   {
    "duration": 7,
    "start_time": "2025-01-29T20:22:29.371Z"
   },
   {
    "duration": 32,
    "start_time": "2025-01-29T20:22:29.380Z"
   },
   {
    "duration": 7,
    "start_time": "2025-01-29T20:22:29.413Z"
   },
   {
    "duration": 3,
    "start_time": "2025-01-29T20:22:29.423Z"
   },
   {
    "duration": 3,
    "start_time": "2025-01-29T20:22:29.427Z"
   },
   {
    "duration": 3,
    "start_time": "2025-01-29T20:22:29.432Z"
   },
   {
    "duration": 6,
    "start_time": "2025-01-29T20:22:29.436Z"
   },
   {
    "duration": 5,
    "start_time": "2025-01-29T20:22:29.443Z"
   },
   {
    "duration": 4,
    "start_time": "2025-01-29T20:22:29.451Z"
   },
   {
    "duration": 5,
    "start_time": "2025-01-29T20:22:29.457Z"
   },
   {
    "duration": 45,
    "start_time": "2025-01-29T20:22:29.463Z"
   },
   {
    "duration": 9,
    "start_time": "2025-01-29T20:22:29.509Z"
   },
   {
    "duration": 5,
    "start_time": "2025-01-29T20:22:29.520Z"
   },
   {
    "duration": 12,
    "start_time": "2025-01-29T20:22:29.527Z"
   },
   {
    "duration": 10,
    "start_time": "2025-01-29T20:22:29.540Z"
   },
   {
    "duration": 3,
    "start_time": "2025-01-29T20:22:29.551Z"
   },
   {
    "duration": 6,
    "start_time": "2025-01-29T20:22:29.556Z"
   },
   {
    "duration": 51,
    "start_time": "2025-01-29T20:22:29.563Z"
   },
   {
    "duration": 6,
    "start_time": "2025-01-29T20:22:29.616Z"
   },
   {
    "duration": 4,
    "start_time": "2025-01-29T20:22:29.624Z"
   },
   {
    "duration": 9,
    "start_time": "2025-01-29T20:22:29.629Z"
   },
   {
    "duration": 4,
    "start_time": "2025-01-29T20:22:29.640Z"
   },
   {
    "duration": 3,
    "start_time": "2025-01-29T20:22:29.646Z"
   },
   {
    "duration": 4,
    "start_time": "2025-01-29T20:22:29.651Z"
   },
   {
    "duration": 55,
    "start_time": "2025-01-29T20:22:29.657Z"
   },
   {
    "duration": 7,
    "start_time": "2025-01-29T20:22:29.713Z"
   },
   {
    "duration": 3,
    "start_time": "2025-01-29T20:22:29.722Z"
   },
   {
    "duration": 3,
    "start_time": "2025-01-29T20:22:29.727Z"
   },
   {
    "duration": 8,
    "start_time": "2025-01-29T20:22:29.732Z"
   },
   {
    "duration": 3,
    "start_time": "2025-01-29T20:22:29.742Z"
   },
   {
    "duration": 3,
    "start_time": "2025-01-29T20:22:29.747Z"
   },
   {
    "duration": 9,
    "start_time": "2025-01-29T20:22:29.751Z"
   },
   {
    "duration": 47,
    "start_time": "2025-01-29T20:22:29.761Z"
   },
   {
    "duration": 6,
    "start_time": "2025-01-29T20:22:29.810Z"
   },
   {
    "duration": 113,
    "start_time": "2025-01-29T20:22:29.818Z"
   },
   {
    "duration": 5,
    "start_time": "2025-01-29T20:22:29.936Z"
   },
   {
    "duration": 391,
    "start_time": "2025-01-29T20:23:32.260Z"
   },
   {
    "duration": 4,
    "start_time": "2025-01-29T20:23:41.029Z"
   },
   {
    "duration": 4,
    "start_time": "2025-01-29T20:24:12.490Z"
   },
   {
    "duration": 4,
    "start_time": "2025-01-29T20:24:24.280Z"
   },
   {
    "duration": 156,
    "start_time": "2025-01-29T22:12:50.663Z"
   },
   {
    "duration": 2583,
    "start_time": "2025-01-29T22:12:57.631Z"
   },
   {
    "duration": 23,
    "start_time": "2025-01-29T22:13:00.216Z"
   },
   {
    "duration": 9,
    "start_time": "2025-01-29T22:13:00.241Z"
   },
   {
    "duration": 10,
    "start_time": "2025-01-29T22:13:00.251Z"
   },
   {
    "duration": 8,
    "start_time": "2025-01-29T22:13:00.264Z"
   },
   {
    "duration": 7,
    "start_time": "2025-01-29T22:13:00.274Z"
   },
   {
    "duration": 32,
    "start_time": "2025-01-29T22:13:00.282Z"
   },
   {
    "duration": 6,
    "start_time": "2025-01-29T22:13:00.315Z"
   },
   {
    "duration": 4,
    "start_time": "2025-01-29T22:13:00.322Z"
   },
   {
    "duration": 3,
    "start_time": "2025-01-29T22:13:00.328Z"
   },
   {
    "duration": 3,
    "start_time": "2025-01-29T22:13:00.332Z"
   },
   {
    "duration": 5,
    "start_time": "2025-01-29T22:13:00.337Z"
   },
   {
    "duration": 5,
    "start_time": "2025-01-29T22:13:00.343Z"
   },
   {
    "duration": 5,
    "start_time": "2025-01-29T22:13:00.351Z"
   },
   {
    "duration": 5,
    "start_time": "2025-01-29T22:13:00.358Z"
   },
   {
    "duration": 47,
    "start_time": "2025-01-29T22:13:00.365Z"
   },
   {
    "duration": 8,
    "start_time": "2025-01-29T22:13:00.414Z"
   },
   {
    "duration": 5,
    "start_time": "2025-01-29T22:13:00.423Z"
   },
   {
    "duration": 13,
    "start_time": "2025-01-29T22:13:00.429Z"
   },
   {
    "duration": 10,
    "start_time": "2025-01-29T22:13:00.443Z"
   },
   {
    "duration": 3,
    "start_time": "2025-01-29T22:13:00.455Z"
   },
   {
    "duration": 5,
    "start_time": "2025-01-29T22:13:00.460Z"
   },
   {
    "duration": 48,
    "start_time": "2025-01-29T22:13:00.466Z"
   },
   {
    "duration": 5,
    "start_time": "2025-01-29T22:13:00.516Z"
   },
   {
    "duration": 3,
    "start_time": "2025-01-29T22:13:00.523Z"
   },
   {
    "duration": 8,
    "start_time": "2025-01-29T22:13:00.528Z"
   },
   {
    "duration": 5,
    "start_time": "2025-01-29T22:13:00.538Z"
   },
   {
    "duration": 3,
    "start_time": "2025-01-29T22:13:00.545Z"
   },
   {
    "duration": 4,
    "start_time": "2025-01-29T22:13:00.550Z"
   },
   {
    "duration": 8,
    "start_time": "2025-01-29T22:13:00.555Z"
   },
   {
    "duration": 48,
    "start_time": "2025-01-29T22:13:00.565Z"
   },
   {
    "duration": 4,
    "start_time": "2025-01-29T22:13:00.615Z"
   },
   {
    "duration": 4,
    "start_time": "2025-01-29T22:13:00.620Z"
   },
   {
    "duration": 9,
    "start_time": "2025-01-29T22:13:00.625Z"
   },
   {
    "duration": 4,
    "start_time": "2025-01-29T22:13:00.636Z"
   },
   {
    "duration": 4,
    "start_time": "2025-01-29T22:13:00.641Z"
   },
   {
    "duration": 8,
    "start_time": "2025-01-29T22:13:00.646Z"
   },
   {
    "duration": 5,
    "start_time": "2025-01-29T22:13:00.656Z"
   },
   {
    "duration": 47,
    "start_time": "2025-01-29T22:13:00.663Z"
   },
   {
    "duration": 99,
    "start_time": "2025-01-29T22:13:00.712Z"
   },
   {
    "duration": 5,
    "start_time": "2025-01-29T22:13:00.815Z"
   },
   {
    "duration": 4,
    "start_time": "2025-01-29T22:22:28.866Z"
   },
   {
    "duration": 4,
    "start_time": "2025-01-29T22:36:14.694Z"
   },
   {
    "duration": 2823,
    "start_time": "2025-01-30T17:15:08.682Z"
   },
   {
    "duration": 23,
    "start_time": "2025-01-30T17:15:11.508Z"
   },
   {
    "duration": 10,
    "start_time": "2025-01-30T17:15:11.533Z"
   },
   {
    "duration": 9,
    "start_time": "2025-01-30T17:15:11.546Z"
   },
   {
    "duration": 10,
    "start_time": "2025-01-30T17:15:11.558Z"
   },
   {
    "duration": 7,
    "start_time": "2025-01-30T17:15:11.570Z"
   },
   {
    "duration": 7,
    "start_time": "2025-01-30T17:15:11.579Z"
   },
   {
    "duration": 7,
    "start_time": "2025-01-30T17:15:11.588Z"
   },
   {
    "duration": 4,
    "start_time": "2025-01-30T17:15:11.625Z"
   },
   {
    "duration": 3,
    "start_time": "2025-01-30T17:15:11.632Z"
   },
   {
    "duration": 4,
    "start_time": "2025-01-30T17:15:11.637Z"
   },
   {
    "duration": 6,
    "start_time": "2025-01-30T17:15:11.642Z"
   },
   {
    "duration": 6,
    "start_time": "2025-01-30T17:15:11.650Z"
   },
   {
    "duration": 5,
    "start_time": "2025-01-30T17:15:11.658Z"
   },
   {
    "duration": 5,
    "start_time": "2025-01-30T17:15:11.665Z"
   },
   {
    "duration": 5,
    "start_time": "2025-01-30T17:15:11.672Z"
   },
   {
    "duration": 51,
    "start_time": "2025-01-30T17:15:11.679Z"
   },
   {
    "duration": 6,
    "start_time": "2025-01-30T17:15:11.732Z"
   },
   {
    "duration": 14,
    "start_time": "2025-01-30T17:15:11.740Z"
   },
   {
    "duration": 12,
    "start_time": "2025-01-30T17:15:11.756Z"
   },
   {
    "duration": 5,
    "start_time": "2025-01-30T17:15:11.770Z"
   },
   {
    "duration": 3,
    "start_time": "2025-01-30T17:15:11.777Z"
   },
   {
    "duration": 47,
    "start_time": "2025-01-30T17:15:11.781Z"
   },
   {
    "duration": 6,
    "start_time": "2025-01-30T17:15:11.829Z"
   },
   {
    "duration": 7,
    "start_time": "2025-01-30T17:15:11.837Z"
   },
   {
    "duration": 5,
    "start_time": "2025-01-30T17:15:11.846Z"
   },
   {
    "duration": 4,
    "start_time": "2025-01-30T17:15:11.852Z"
   },
   {
    "duration": 8,
    "start_time": "2025-01-30T17:15:11.861Z"
   },
   {
    "duration": 4,
    "start_time": "2025-01-30T17:15:11.871Z"
   },
   {
    "duration": 49,
    "start_time": "2025-01-30T17:15:11.877Z"
   },
   {
    "duration": 6,
    "start_time": "2025-01-30T17:15:11.928Z"
   },
   {
    "duration": 7,
    "start_time": "2025-01-30T17:15:11.936Z"
   },
   {
    "duration": 126,
    "start_time": "2025-01-30T17:15:11.944Z"
   },
   {
    "duration": 616,
    "start_time": "2025-01-30T17:15:12.072Z"
   },
   {
    "duration": 5,
    "start_time": "2025-01-30T17:42:42.869Z"
   },
   {
    "duration": 140,
    "start_time": "2025-01-30T18:05:33.033Z"
   },
   {
    "duration": 7,
    "start_time": "2025-01-30T18:06:45.237Z"
   },
   {
    "duration": 12,
    "start_time": "2025-01-30T18:07:07.817Z"
   },
   {
    "duration": 7,
    "start_time": "2025-01-30T18:07:25.845Z"
   },
   {
    "duration": 90,
    "start_time": "2025-01-30T18:54:21.233Z"
   },
   {
    "duration": 89,
    "start_time": "2025-01-30T18:54:45.259Z"
   },
   {
    "duration": 806,
    "start_time": "2025-01-30T18:54:54.679Z"
   },
   {
    "duration": 15,
    "start_time": "2025-01-30T18:54:55.487Z"
   },
   {
    "duration": 10,
    "start_time": "2025-01-30T18:54:55.503Z"
   },
   {
    "duration": 13,
    "start_time": "2025-01-30T18:54:55.515Z"
   },
   {
    "duration": 8,
    "start_time": "2025-01-30T18:54:55.530Z"
   },
   {
    "duration": 6,
    "start_time": "2025-01-30T18:54:55.540Z"
   },
   {
    "duration": 7,
    "start_time": "2025-01-30T18:54:55.547Z"
   },
   {
    "duration": 7,
    "start_time": "2025-01-30T18:54:55.556Z"
   },
   {
    "duration": 4,
    "start_time": "2025-01-30T18:54:55.565Z"
   },
   {
    "duration": 3,
    "start_time": "2025-01-30T18:54:55.573Z"
   },
   {
    "duration": 4,
    "start_time": "2025-01-30T18:54:55.577Z"
   },
   {
    "duration": 43,
    "start_time": "2025-01-30T18:54:55.582Z"
   },
   {
    "duration": 6,
    "start_time": "2025-01-30T18:54:55.627Z"
   },
   {
    "duration": 5,
    "start_time": "2025-01-30T18:54:55.634Z"
   },
   {
    "duration": 6,
    "start_time": "2025-01-30T18:54:55.640Z"
   },
   {
    "duration": 4,
    "start_time": "2025-01-30T18:54:55.647Z"
   },
   {
    "duration": 9,
    "start_time": "2025-01-30T18:54:55.653Z"
   },
   {
    "duration": 5,
    "start_time": "2025-01-30T18:54:55.663Z"
   },
   {
    "duration": 55,
    "start_time": "2025-01-30T18:54:55.670Z"
   },
   {
    "duration": 12,
    "start_time": "2025-01-30T18:54:55.727Z"
   },
   {
    "duration": 6,
    "start_time": "2025-01-30T18:54:55.740Z"
   },
   {
    "duration": 3,
    "start_time": "2025-01-30T18:54:55.748Z"
   },
   {
    "duration": 7,
    "start_time": "2025-01-30T18:54:55.753Z"
   },
   {
    "duration": 5,
    "start_time": "2025-01-30T18:54:55.762Z"
   },
   {
    "duration": 7,
    "start_time": "2025-01-30T18:54:55.768Z"
   },
   {
    "duration": 3,
    "start_time": "2025-01-30T18:54:55.777Z"
   },
   {
    "duration": 43,
    "start_time": "2025-01-30T18:54:55.782Z"
   },
   {
    "duration": 7,
    "start_time": "2025-01-30T18:54:55.829Z"
   },
   {
    "duration": 3,
    "start_time": "2025-01-30T18:54:55.838Z"
   },
   {
    "duration": 9,
    "start_time": "2025-01-30T18:54:55.842Z"
   },
   {
    "duration": 4,
    "start_time": "2025-01-30T18:54:55.853Z"
   },
   {
    "duration": 165,
    "start_time": "2025-01-30T18:54:55.858Z"
   },
   {
    "duration": 7,
    "start_time": "2025-01-30T18:54:56.025Z"
   },
   {
    "duration": 98,
    "start_time": "2025-01-30T18:54:56.034Z"
   },
   {
    "duration": 9,
    "start_time": "2025-01-30T18:55:15.384Z"
   },
   {
    "duration": 7,
    "start_time": "2025-01-30T18:56:26.005Z"
   },
   {
    "duration": 168,
    "start_time": "2025-01-31T00:25:58.544Z"
   },
   {
    "duration": 12,
    "start_time": "2025-01-31T00:26:35.827Z"
   },
   {
    "duration": 2642,
    "start_time": "2025-01-31T00:26:43.561Z"
   },
   {
    "duration": 24,
    "start_time": "2025-01-31T00:26:46.205Z"
   },
   {
    "duration": 10,
    "start_time": "2025-01-31T00:26:46.230Z"
   },
   {
    "duration": 9,
    "start_time": "2025-01-31T00:26:46.242Z"
   },
   {
    "duration": 8,
    "start_time": "2025-01-31T00:26:46.252Z"
   },
   {
    "duration": 7,
    "start_time": "2025-01-31T00:26:46.263Z"
   },
   {
    "duration": 8,
    "start_time": "2025-01-31T00:26:46.272Z"
   },
   {
    "duration": 34,
    "start_time": "2025-01-31T00:26:46.282Z"
   },
   {
    "duration": 4,
    "start_time": "2025-01-31T00:26:46.318Z"
   },
   {
    "duration": 3,
    "start_time": "2025-01-31T00:26:46.326Z"
   },
   {
    "duration": 3,
    "start_time": "2025-01-31T00:26:46.330Z"
   },
   {
    "duration": 7,
    "start_time": "2025-01-31T00:26:46.335Z"
   },
   {
    "duration": 6,
    "start_time": "2025-01-31T00:26:46.344Z"
   },
   {
    "duration": 5,
    "start_time": "2025-01-31T00:26:46.352Z"
   },
   {
    "duration": 5,
    "start_time": "2025-01-31T00:26:46.358Z"
   },
   {
    "duration": 5,
    "start_time": "2025-01-31T00:26:46.410Z"
   },
   {
    "duration": 9,
    "start_time": "2025-01-31T00:26:46.417Z"
   },
   {
    "duration": 5,
    "start_time": "2025-01-31T00:26:46.428Z"
   },
   {
    "duration": 15,
    "start_time": "2025-01-31T00:26:46.436Z"
   },
   {
    "duration": 12,
    "start_time": "2025-01-31T00:26:46.453Z"
   },
   {
    "duration": 5,
    "start_time": "2025-01-31T00:26:46.467Z"
   },
   {
    "duration": 38,
    "start_time": "2025-01-31T00:26:46.474Z"
   },
   {
    "duration": 9,
    "start_time": "2025-01-31T00:26:46.513Z"
   },
   {
    "duration": 5,
    "start_time": "2025-01-31T00:26:46.524Z"
   },
   {
    "duration": 7,
    "start_time": "2025-01-31T00:26:46.530Z"
   },
   {
    "duration": 4,
    "start_time": "2025-01-31T00:26:46.539Z"
   },
   {
    "duration": 3,
    "start_time": "2025-01-31T00:26:46.545Z"
   },
   {
    "duration": 8,
    "start_time": "2025-01-31T00:26:46.552Z"
   },
   {
    "duration": 48,
    "start_time": "2025-01-31T00:26:46.562Z"
   },
   {
    "duration": 9,
    "start_time": "2025-01-31T00:26:46.612Z"
   },
   {
    "duration": 5,
    "start_time": "2025-01-31T00:26:46.623Z"
   },
   {
    "duration": 167,
    "start_time": "2025-01-31T00:26:46.630Z"
   },
   {
    "duration": 16,
    "start_time": "2025-01-31T00:26:46.798Z"
   },
   {
    "duration": 116,
    "start_time": "2025-01-31T00:26:46.817Z"
   },
   {
    "duration": 8,
    "start_time": "2025-01-31T00:26:46.934Z"
   },
   {
    "duration": 7,
    "start_time": "2025-01-31T00:26:46.943Z"
   },
   {
    "duration": 8,
    "start_time": "2025-01-31T00:28:24.745Z"
   },
   {
    "duration": 14,
    "start_time": "2025-01-31T00:29:02.613Z"
   },
   {
    "duration": 9,
    "start_time": "2025-01-31T00:32:18.909Z"
   },
   {
    "duration": 133,
    "start_time": "2025-01-31T00:38:46.183Z"
   },
   {
    "duration": 118,
    "start_time": "2025-01-31T00:39:02.613Z"
   },
   {
    "duration": 143,
    "start_time": "2025-01-31T00:39:51.080Z"
   },
   {
    "duration": 131,
    "start_time": "2025-01-31T00:39:59.291Z"
   },
   {
    "duration": 191,
    "start_time": "2025-01-31T00:56:52.268Z"
   },
   {
    "duration": 235,
    "start_time": "2025-01-31T00:57:28.342Z"
   },
   {
    "duration": 285,
    "start_time": "2025-01-31T00:58:03.384Z"
   },
   {
    "duration": 215,
    "start_time": "2025-01-31T00:58:24.524Z"
   },
   {
    "duration": 193,
    "start_time": "2025-01-31T00:58:40.443Z"
   },
   {
    "duration": 195,
    "start_time": "2025-01-31T00:58:53.815Z"
   },
   {
    "duration": 208,
    "start_time": "2025-01-31T00:59:09.714Z"
   },
   {
    "duration": 840,
    "start_time": "2025-01-31T01:05:44.697Z"
   },
   {
    "duration": 16,
    "start_time": "2025-01-31T01:05:45.539Z"
   },
   {
    "duration": 9,
    "start_time": "2025-01-31T01:05:45.559Z"
   },
   {
    "duration": 10,
    "start_time": "2025-01-31T01:05:45.571Z"
   },
   {
    "duration": 8,
    "start_time": "2025-01-31T01:05:45.582Z"
   },
   {
    "duration": 23,
    "start_time": "2025-01-31T01:05:45.591Z"
   },
   {
    "duration": 9,
    "start_time": "2025-01-31T01:05:45.616Z"
   },
   {
    "duration": 6,
    "start_time": "2025-01-31T01:05:45.627Z"
   },
   {
    "duration": 4,
    "start_time": "2025-01-31T01:05:45.634Z"
   },
   {
    "duration": 4,
    "start_time": "2025-01-31T01:05:45.641Z"
   },
   {
    "duration": 4,
    "start_time": "2025-01-31T01:05:45.646Z"
   },
   {
    "duration": 7,
    "start_time": "2025-01-31T01:05:45.652Z"
   },
   {
    "duration": 5,
    "start_time": "2025-01-31T01:05:45.660Z"
   },
   {
    "duration": 47,
    "start_time": "2025-01-31T01:05:45.666Z"
   },
   {
    "duration": 6,
    "start_time": "2025-01-31T01:05:45.716Z"
   },
   {
    "duration": 4,
    "start_time": "2025-01-31T01:05:45.724Z"
   },
   {
    "duration": 8,
    "start_time": "2025-01-31T01:05:45.730Z"
   },
   {
    "duration": 5,
    "start_time": "2025-01-31T01:05:45.740Z"
   },
   {
    "duration": 14,
    "start_time": "2025-01-31T01:05:45.747Z"
   },
   {
    "duration": 51,
    "start_time": "2025-01-31T01:05:45.762Z"
   },
   {
    "duration": 4,
    "start_time": "2025-01-31T01:05:45.815Z"
   },
   {
    "duration": 4,
    "start_time": "2025-01-31T01:05:45.821Z"
   },
   {
    "duration": 9,
    "start_time": "2025-01-31T01:05:45.826Z"
   },
   {
    "duration": 5,
    "start_time": "2025-01-31T01:05:45.837Z"
   },
   {
    "duration": 7,
    "start_time": "2025-01-31T01:05:45.843Z"
   },
   {
    "duration": 4,
    "start_time": "2025-01-31T01:05:45.851Z"
   },
   {
    "duration": 3,
    "start_time": "2025-01-31T01:05:45.857Z"
   },
   {
    "duration": 51,
    "start_time": "2025-01-31T01:05:45.864Z"
   },
   {
    "duration": 4,
    "start_time": "2025-01-31T01:05:45.917Z"
   },
   {
    "duration": 9,
    "start_time": "2025-01-31T01:05:45.923Z"
   },
   {
    "duration": 5,
    "start_time": "2025-01-31T01:05:45.933Z"
   },
   {
    "duration": 169,
    "start_time": "2025-01-31T01:05:45.940Z"
   },
   {
    "duration": 8,
    "start_time": "2025-01-31T01:05:46.110Z"
   },
   {
    "duration": 109,
    "start_time": "2025-01-31T01:05:46.119Z"
   },
   {
    "duration": 6,
    "start_time": "2025-01-31T01:05:46.232Z"
   },
   {
    "duration": 7,
    "start_time": "2025-01-31T01:05:46.240Z"
   },
   {
    "duration": 8,
    "start_time": "2025-01-31T01:05:46.249Z"
   },
   {
    "duration": 257,
    "start_time": "2025-01-31T01:05:46.259Z"
   },
   {
    "duration": 152,
    "start_time": "2025-01-31T01:23:33.701Z"
   },
   {
    "duration": 7,
    "start_time": "2025-01-31T01:23:36.229Z"
   },
   {
    "duration": 145,
    "start_time": "2025-01-31T01:24:04.904Z"
   },
   {
    "duration": 9,
    "start_time": "2025-01-31T01:24:06.660Z"
   },
   {
    "duration": 180,
    "start_time": "2025-01-31T14:50:07.146Z"
   },
   {
    "duration": 2667,
    "start_time": "2025-01-31T14:50:18.037Z"
   },
   {
    "duration": 21,
    "start_time": "2025-01-31T14:50:20.706Z"
   },
   {
    "duration": 10,
    "start_time": "2025-01-31T14:50:20.728Z"
   },
   {
    "duration": 14,
    "start_time": "2025-01-31T14:50:20.740Z"
   },
   {
    "duration": 10,
    "start_time": "2025-01-31T14:50:20.757Z"
   },
   {
    "duration": 8,
    "start_time": "2025-01-31T14:50:20.769Z"
   },
   {
    "duration": 10,
    "start_time": "2025-01-31T14:50:20.779Z"
   },
   {
    "duration": 8,
    "start_time": "2025-01-31T14:50:20.792Z"
   },
   {
    "duration": 5,
    "start_time": "2025-01-31T14:50:20.801Z"
   },
   {
    "duration": 38,
    "start_time": "2025-01-31T14:50:20.809Z"
   },
   {
    "duration": 3,
    "start_time": "2025-01-31T14:50:20.848Z"
   },
   {
    "duration": 7,
    "start_time": "2025-01-31T14:50:20.853Z"
   },
   {
    "duration": 5,
    "start_time": "2025-01-31T14:50:20.864Z"
   },
   {
    "duration": 4,
    "start_time": "2025-01-31T14:50:20.871Z"
   },
   {
    "duration": 8,
    "start_time": "2025-01-31T14:50:20.877Z"
   },
   {
    "duration": 5,
    "start_time": "2025-01-31T14:50:20.887Z"
   },
   {
    "duration": 12,
    "start_time": "2025-01-31T14:50:20.894Z"
   },
   {
    "duration": 36,
    "start_time": "2025-01-31T14:50:20.908Z"
   },
   {
    "duration": 15,
    "start_time": "2025-01-31T14:50:20.947Z"
   },
   {
    "duration": 10,
    "start_time": "2025-01-31T14:50:20.964Z"
   },
   {
    "duration": 5,
    "start_time": "2025-01-31T14:50:20.976Z"
   },
   {
    "duration": 3,
    "start_time": "2025-01-31T14:50:20.983Z"
   },
   {
    "duration": 8,
    "start_time": "2025-01-31T14:50:20.988Z"
   },
   {
    "duration": 4,
    "start_time": "2025-01-31T14:50:20.998Z"
   },
   {
    "duration": 44,
    "start_time": "2025-01-31T14:50:21.004Z"
   },
   {
    "duration": 5,
    "start_time": "2025-01-31T14:50:21.049Z"
   },
   {
    "duration": 5,
    "start_time": "2025-01-31T14:50:21.056Z"
   },
   {
    "duration": 9,
    "start_time": "2025-01-31T14:50:21.066Z"
   },
   {
    "duration": 5,
    "start_time": "2025-01-31T14:50:21.076Z"
   },
   {
    "duration": 12,
    "start_time": "2025-01-31T14:50:21.084Z"
   },
   {
    "duration": 5,
    "start_time": "2025-01-31T14:50:21.097Z"
   },
   {
    "duration": 219,
    "start_time": "2025-01-31T14:50:21.104Z"
   },
   {
    "duration": 9,
    "start_time": "2025-01-31T14:50:21.325Z"
   },
   {
    "duration": 87,
    "start_time": "2025-01-31T14:50:21.345Z"
   },
   {
    "duration": 7,
    "start_time": "2025-01-31T14:50:21.443Z"
   },
   {
    "duration": 5,
    "start_time": "2025-01-31T14:50:21.452Z"
   },
   {
    "duration": 8,
    "start_time": "2025-01-31T14:50:21.459Z"
   },
   {
    "duration": 238,
    "start_time": "2025-01-31T14:50:21.469Z"
   },
   {
    "duration": 139,
    "start_time": "2025-01-31T14:50:21.709Z"
   },
   {
    "duration": 5,
    "start_time": "2025-01-31T15:06:17.093Z"
   },
   {
    "duration": 2561,
    "start_time": "2025-01-31T16:22:58.387Z"
   },
   {
    "duration": 21,
    "start_time": "2025-01-31T16:23:00.951Z"
   },
   {
    "duration": 9,
    "start_time": "2025-01-31T16:23:00.973Z"
   },
   {
    "duration": 7,
    "start_time": "2025-01-31T16:23:00.984Z"
   },
   {
    "duration": 17,
    "start_time": "2025-01-31T16:23:00.993Z"
   },
   {
    "duration": 8,
    "start_time": "2025-01-31T16:23:01.011Z"
   },
   {
    "duration": 8,
    "start_time": "2025-01-31T16:23:01.021Z"
   },
   {
    "duration": 6,
    "start_time": "2025-01-31T16:23:01.030Z"
   },
   {
    "duration": 3,
    "start_time": "2025-01-31T16:23:01.038Z"
   },
   {
    "duration": 3,
    "start_time": "2025-01-31T16:23:01.043Z"
   },
   {
    "duration": 3,
    "start_time": "2025-01-31T16:23:01.047Z"
   },
   {
    "duration": 5,
    "start_time": "2025-01-31T16:23:01.051Z"
   },
   {
    "duration": 48,
    "start_time": "2025-01-31T16:23:01.058Z"
   },
   {
    "duration": 7,
    "start_time": "2025-01-31T16:23:01.110Z"
   },
   {
    "duration": 6,
    "start_time": "2025-01-31T16:23:01.119Z"
   },
   {
    "duration": 4,
    "start_time": "2025-01-31T16:23:01.128Z"
   },
   {
    "duration": 10,
    "start_time": "2025-01-31T16:23:01.134Z"
   },
   {
    "duration": 6,
    "start_time": "2025-01-31T16:23:01.145Z"
   },
   {
    "duration": 12,
    "start_time": "2025-01-31T16:23:01.153Z"
   },
   {
    "duration": 46,
    "start_time": "2025-01-31T16:23:01.167Z"
   },
   {
    "duration": 5,
    "start_time": "2025-01-31T16:23:01.214Z"
   },
   {
    "duration": 4,
    "start_time": "2025-01-31T16:23:01.221Z"
   },
   {
    "duration": 7,
    "start_time": "2025-01-31T16:23:01.227Z"
   },
   {
    "duration": 4,
    "start_time": "2025-01-31T16:23:01.236Z"
   },
   {
    "duration": 6,
    "start_time": "2025-01-31T16:23:01.241Z"
   },
   {
    "duration": 6,
    "start_time": "2025-01-31T16:23:01.249Z"
   },
   {
    "duration": 5,
    "start_time": "2025-01-31T16:23:01.257Z"
   },
   {
    "duration": 46,
    "start_time": "2025-01-31T16:23:01.264Z"
   },
   {
    "duration": 4,
    "start_time": "2025-01-31T16:23:01.312Z"
   },
   {
    "duration": 9,
    "start_time": "2025-01-31T16:23:01.317Z"
   },
   {
    "duration": 5,
    "start_time": "2025-01-31T16:23:01.327Z"
   },
   {
    "duration": 167,
    "start_time": "2025-01-31T16:23:01.333Z"
   },
   {
    "duration": 7,
    "start_time": "2025-01-31T16:23:01.504Z"
   },
   {
    "duration": 100,
    "start_time": "2025-01-31T16:23:01.513Z"
   },
   {
    "duration": 7,
    "start_time": "2025-01-31T16:23:01.614Z"
   },
   {
    "duration": 7,
    "start_time": "2025-01-31T16:23:01.622Z"
   },
   {
    "duration": 7,
    "start_time": "2025-01-31T16:23:01.630Z"
   },
   {
    "duration": 234,
    "start_time": "2025-01-31T16:23:01.639Z"
   },
   {
    "duration": 138,
    "start_time": "2025-01-31T16:23:01.875Z"
   },
   {
    "duration": 4,
    "start_time": "2025-01-31T16:23:02.014Z"
   },
   {
    "duration": 218,
    "start_time": "2025-01-31T16:27:23.312Z"
   },
   {
    "duration": 200,
    "start_time": "2025-01-31T16:29:25.842Z"
   },
   {
    "duration": 204,
    "start_time": "2025-01-31T16:31:39.036Z"
   },
   {
    "duration": 245,
    "start_time": "2025-01-31T16:34:07.405Z"
   },
   {
    "duration": 196,
    "start_time": "2025-01-31T16:34:45.198Z"
   },
   {
    "duration": 200,
    "start_time": "2025-01-31T16:35:02.162Z"
   },
   {
    "duration": 199,
    "start_time": "2025-01-31T16:35:30.327Z"
   },
   {
    "duration": 775,
    "start_time": "2025-01-31T16:36:47.102Z"
   },
   {
    "duration": 14,
    "start_time": "2025-01-31T16:36:47.879Z"
   },
   {
    "duration": 14,
    "start_time": "2025-01-31T16:36:47.895Z"
   },
   {
    "duration": 8,
    "start_time": "2025-01-31T16:36:47.910Z"
   },
   {
    "duration": 9,
    "start_time": "2025-01-31T16:36:47.920Z"
   },
   {
    "duration": 7,
    "start_time": "2025-01-31T16:36:47.930Z"
   },
   {
    "duration": 8,
    "start_time": "2025-01-31T16:36:47.938Z"
   },
   {
    "duration": 6,
    "start_time": "2025-01-31T16:36:47.947Z"
   },
   {
    "duration": 4,
    "start_time": "2025-01-31T16:36:47.955Z"
   },
   {
    "duration": 3,
    "start_time": "2025-01-31T16:36:47.960Z"
   },
   {
    "duration": 40,
    "start_time": "2025-01-31T16:36:47.965Z"
   },
   {
    "duration": 5,
    "start_time": "2025-01-31T16:36:48.007Z"
   },
   {
    "duration": 5,
    "start_time": "2025-01-31T16:36:48.014Z"
   },
   {
    "duration": 4,
    "start_time": "2025-01-31T16:36:48.023Z"
   },
   {
    "duration": 5,
    "start_time": "2025-01-31T16:36:48.029Z"
   },
   {
    "duration": 4,
    "start_time": "2025-01-31T16:36:48.036Z"
   },
   {
    "duration": 8,
    "start_time": "2025-01-31T16:36:48.042Z"
   },
   {
    "duration": 5,
    "start_time": "2025-01-31T16:36:48.051Z"
   },
   {
    "duration": 52,
    "start_time": "2025-01-31T16:36:48.059Z"
   },
   {
    "duration": 10,
    "start_time": "2025-01-31T16:36:48.113Z"
   },
   {
    "duration": 5,
    "start_time": "2025-01-31T16:36:48.124Z"
   },
   {
    "duration": 4,
    "start_time": "2025-01-31T16:36:48.130Z"
   },
   {
    "duration": 7,
    "start_time": "2025-01-31T16:36:48.136Z"
   },
   {
    "duration": 5,
    "start_time": "2025-01-31T16:36:48.144Z"
   },
   {
    "duration": 6,
    "start_time": "2025-01-31T16:36:48.150Z"
   },
   {
    "duration": 4,
    "start_time": "2025-01-31T16:36:48.158Z"
   },
   {
    "duration": 44,
    "start_time": "2025-01-31T16:36:48.163Z"
   },
   {
    "duration": 9,
    "start_time": "2025-01-31T16:36:48.209Z"
   },
   {
    "duration": 4,
    "start_time": "2025-01-31T16:36:48.220Z"
   },
   {
    "duration": 8,
    "start_time": "2025-01-31T16:36:48.226Z"
   },
   {
    "duration": 5,
    "start_time": "2025-01-31T16:36:48.235Z"
   },
   {
    "duration": 163,
    "start_time": "2025-01-31T16:36:48.242Z"
   },
   {
    "duration": 7,
    "start_time": "2025-01-31T16:36:48.406Z"
   },
   {
    "duration": 89,
    "start_time": "2025-01-31T16:36:48.416Z"
   },
   {
    "duration": 6,
    "start_time": "2025-01-31T16:36:48.507Z"
   },
   {
    "duration": 6,
    "start_time": "2025-01-31T16:36:48.514Z"
   },
   {
    "duration": 8,
    "start_time": "2025-01-31T16:36:48.521Z"
   },
   {
    "duration": 249,
    "start_time": "2025-01-31T16:36:48.530Z"
   },
   {
    "duration": 208,
    "start_time": "2025-01-31T16:36:48.781Z"
   },
   {
    "duration": 848,
    "start_time": "2025-01-31T16:37:17.221Z"
   },
   {
    "duration": 11,
    "start_time": "2025-01-31T16:37:18.071Z"
   },
   {
    "duration": 9,
    "start_time": "2025-01-31T16:37:18.083Z"
   },
   {
    "duration": 19,
    "start_time": "2025-01-31T16:37:18.093Z"
   },
   {
    "duration": 8,
    "start_time": "2025-01-31T16:37:18.115Z"
   },
   {
    "duration": 7,
    "start_time": "2025-01-31T16:37:18.124Z"
   },
   {
    "duration": 8,
    "start_time": "2025-01-31T16:37:18.133Z"
   },
   {
    "duration": 7,
    "start_time": "2025-01-31T16:37:18.143Z"
   },
   {
    "duration": 4,
    "start_time": "2025-01-31T16:37:18.151Z"
   },
   {
    "duration": 3,
    "start_time": "2025-01-31T16:37:18.157Z"
   },
   {
    "duration": 43,
    "start_time": "2025-01-31T16:37:18.162Z"
   },
   {
    "duration": 5,
    "start_time": "2025-01-31T16:37:18.208Z"
   },
   {
    "duration": 6,
    "start_time": "2025-01-31T16:37:18.215Z"
   },
   {
    "duration": 4,
    "start_time": "2025-01-31T16:37:18.225Z"
   },
   {
    "duration": 4,
    "start_time": "2025-01-31T16:37:18.231Z"
   },
   {
    "duration": 4,
    "start_time": "2025-01-31T16:37:18.237Z"
   },
   {
    "duration": 8,
    "start_time": "2025-01-31T16:37:18.242Z"
   },
   {
    "duration": 5,
    "start_time": "2025-01-31T16:37:18.251Z"
   },
   {
    "duration": 57,
    "start_time": "2025-01-31T16:37:18.257Z"
   },
   {
    "duration": 10,
    "start_time": "2025-01-31T16:37:18.315Z"
   },
   {
    "duration": 4,
    "start_time": "2025-01-31T16:37:18.326Z"
   },
   {
    "duration": 3,
    "start_time": "2025-01-31T16:37:18.332Z"
   },
   {
    "duration": 8,
    "start_time": "2025-01-31T16:37:18.336Z"
   },
   {
    "duration": 4,
    "start_time": "2025-01-31T16:37:18.345Z"
   },
   {
    "duration": 6,
    "start_time": "2025-01-31T16:37:18.351Z"
   },
   {
    "duration": 3,
    "start_time": "2025-01-31T16:37:18.359Z"
   },
   {
    "duration": 3,
    "start_time": "2025-01-31T16:37:18.405Z"
   },
   {
    "duration": 9,
    "start_time": "2025-01-31T16:37:18.409Z"
   },
   {
    "duration": 4,
    "start_time": "2025-01-31T16:37:18.419Z"
   },
   {
    "duration": 9,
    "start_time": "2025-01-31T16:37:18.425Z"
   },
   {
    "duration": 4,
    "start_time": "2025-01-31T16:37:18.435Z"
   },
   {
    "duration": 165,
    "start_time": "2025-01-31T16:37:18.440Z"
   },
   {
    "duration": 7,
    "start_time": "2025-01-31T16:37:18.607Z"
   },
   {
    "duration": 104,
    "start_time": "2025-01-31T16:37:18.615Z"
   },
   {
    "duration": 6,
    "start_time": "2025-01-31T16:37:18.720Z"
   },
   {
    "duration": 7,
    "start_time": "2025-01-31T16:37:18.727Z"
   },
   {
    "duration": 7,
    "start_time": "2025-01-31T16:37:18.735Z"
   },
   {
    "duration": 251,
    "start_time": "2025-01-31T16:37:18.743Z"
   },
   {
    "duration": 205,
    "start_time": "2025-01-31T16:37:18.995Z"
   },
   {
    "duration": 255,
    "start_time": "2025-01-31T19:01:28.530Z"
   },
   {
    "duration": 792,
    "start_time": "2025-01-31T19:01:39.106Z"
   },
   {
    "duration": 14,
    "start_time": "2025-01-31T19:01:39.900Z"
   },
   {
    "duration": 8,
    "start_time": "2025-01-31T19:01:39.916Z"
   },
   {
    "duration": 9,
    "start_time": "2025-01-31T19:01:39.925Z"
   },
   {
    "duration": 7,
    "start_time": "2025-01-31T19:01:39.937Z"
   },
   {
    "duration": 7,
    "start_time": "2025-01-31T19:01:39.946Z"
   },
   {
    "duration": 8,
    "start_time": "2025-01-31T19:01:39.954Z"
   },
   {
    "duration": 7,
    "start_time": "2025-01-31T19:01:39.963Z"
   },
   {
    "duration": 4,
    "start_time": "2025-01-31T19:01:40.005Z"
   },
   {
    "duration": 4,
    "start_time": "2025-01-31T19:01:40.010Z"
   },
   {
    "duration": 3,
    "start_time": "2025-01-31T19:01:40.015Z"
   },
   {
    "duration": 5,
    "start_time": "2025-01-31T19:01:40.019Z"
   },
   {
    "duration": 5,
    "start_time": "2025-01-31T19:01:40.026Z"
   },
   {
    "duration": 4,
    "start_time": "2025-01-31T19:01:40.035Z"
   },
   {
    "duration": 5,
    "start_time": "2025-01-31T19:01:40.040Z"
   },
   {
    "duration": 4,
    "start_time": "2025-01-31T19:01:40.046Z"
   },
   {
    "duration": 54,
    "start_time": "2025-01-31T19:01:40.052Z"
   },
   {
    "duration": 6,
    "start_time": "2025-01-31T19:01:40.108Z"
   },
   {
    "duration": 14,
    "start_time": "2025-01-31T19:01:40.116Z"
   },
   {
    "duration": 13,
    "start_time": "2025-01-31T19:01:40.132Z"
   },
   {
    "duration": 5,
    "start_time": "2025-01-31T19:01:40.146Z"
   },
   {
    "duration": 3,
    "start_time": "2025-01-31T19:01:40.154Z"
   },
   {
    "duration": 8,
    "start_time": "2025-01-31T19:01:40.158Z"
   },
   {
    "duration": 39,
    "start_time": "2025-01-31T19:01:40.168Z"
   },
   {
    "duration": 7,
    "start_time": "2025-01-31T19:01:40.209Z"
   },
   {
    "duration": 3,
    "start_time": "2025-01-31T19:01:40.218Z"
   },
   {
    "duration": 3,
    "start_time": "2025-01-31T19:01:40.223Z"
   },
   {
    "duration": 7,
    "start_time": "2025-01-31T19:01:40.228Z"
   },
   {
    "duration": 3,
    "start_time": "2025-01-31T19:01:40.237Z"
   },
   {
    "duration": 8,
    "start_time": "2025-01-31T19:01:40.241Z"
   },
   {
    "duration": 4,
    "start_time": "2025-01-31T19:01:40.251Z"
   },
   {
    "duration": 183,
    "start_time": "2025-01-31T19:01:40.256Z"
   },
   {
    "duration": 7,
    "start_time": "2025-01-31T19:01:40.441Z"
   },
   {
    "duration": 94,
    "start_time": "2025-01-31T19:01:40.449Z"
   },
   {
    "duration": 6,
    "start_time": "2025-01-31T19:01:40.545Z"
   },
   {
    "duration": 6,
    "start_time": "2025-01-31T19:01:40.552Z"
   },
   {
    "duration": 7,
    "start_time": "2025-01-31T19:01:40.559Z"
   },
   {
    "duration": 262,
    "start_time": "2025-01-31T19:01:40.568Z"
   },
   {
    "duration": 203,
    "start_time": "2025-01-31T19:01:40.832Z"
   },
   {
    "duration": 275,
    "start_time": "2025-01-31T19:01:41.037Z"
   },
   {
    "duration": 838,
    "start_time": "2025-01-31T19:02:00.767Z"
   },
   {
    "duration": 10,
    "start_time": "2025-01-31T19:02:01.608Z"
   },
   {
    "duration": 8,
    "start_time": "2025-01-31T19:02:01.620Z"
   },
   {
    "duration": 8,
    "start_time": "2025-01-31T19:02:01.630Z"
   },
   {
    "duration": 8,
    "start_time": "2025-01-31T19:02:01.640Z"
   },
   {
    "duration": 7,
    "start_time": "2025-01-31T19:02:01.650Z"
   },
   {
    "duration": 9,
    "start_time": "2025-01-31T19:02:01.659Z"
   },
   {
    "duration": 39,
    "start_time": "2025-01-31T19:02:01.669Z"
   },
   {
    "duration": 4,
    "start_time": "2025-01-31T19:02:01.710Z"
   },
   {
    "duration": 3,
    "start_time": "2025-01-31T19:02:01.716Z"
   },
   {
    "duration": 3,
    "start_time": "2025-01-31T19:02:01.720Z"
   },
   {
    "duration": 6,
    "start_time": "2025-01-31T19:02:01.725Z"
   },
   {
    "duration": 5,
    "start_time": "2025-01-31T19:02:01.732Z"
   },
   {
    "duration": 4,
    "start_time": "2025-01-31T19:02:01.741Z"
   },
   {
    "duration": 5,
    "start_time": "2025-01-31T19:02:01.747Z"
   },
   {
    "duration": 4,
    "start_time": "2025-01-31T19:02:01.753Z"
   },
   {
    "duration": 53,
    "start_time": "2025-01-31T19:02:01.758Z"
   },
   {
    "duration": 5,
    "start_time": "2025-01-31T19:02:01.813Z"
   },
   {
    "duration": 14,
    "start_time": "2025-01-31T19:02:01.819Z"
   },
   {
    "duration": 9,
    "start_time": "2025-01-31T19:02:01.835Z"
   },
   {
    "duration": 4,
    "start_time": "2025-01-31T19:02:01.847Z"
   },
   {
    "duration": 2,
    "start_time": "2025-01-31T19:02:01.853Z"
   },
   {
    "duration": 7,
    "start_time": "2025-01-31T19:02:01.857Z"
   },
   {
    "duration": 41,
    "start_time": "2025-01-31T19:02:01.866Z"
   },
   {
    "duration": 6,
    "start_time": "2025-01-31T19:02:01.908Z"
   },
   {
    "duration": 4,
    "start_time": "2025-01-31T19:02:01.916Z"
   },
   {
    "duration": 3,
    "start_time": "2025-01-31T19:02:01.921Z"
   },
   {
    "duration": 7,
    "start_time": "2025-01-31T19:02:01.926Z"
   },
   {
    "duration": 3,
    "start_time": "2025-01-31T19:02:01.935Z"
   },
   {
    "duration": 8,
    "start_time": "2025-01-31T19:02:01.940Z"
   },
   {
    "duration": 4,
    "start_time": "2025-01-31T19:02:01.949Z"
   },
   {
    "duration": 177,
    "start_time": "2025-01-31T19:02:01.956Z"
   },
   {
    "duration": 9,
    "start_time": "2025-01-31T19:02:02.135Z"
   },
   {
    "duration": 100,
    "start_time": "2025-01-31T19:02:02.145Z"
   },
   {
    "duration": 6,
    "start_time": "2025-01-31T19:02:02.247Z"
   },
   {
    "duration": 6,
    "start_time": "2025-01-31T19:02:02.256Z"
   },
   {
    "duration": 9,
    "start_time": "2025-01-31T19:02:02.263Z"
   },
   {
    "duration": 287,
    "start_time": "2025-01-31T19:02:02.275Z"
   },
   {
    "duration": 214,
    "start_time": "2025-01-31T19:02:02.563Z"
   },
   {
    "duration": 284,
    "start_time": "2025-01-31T19:02:02.778Z"
   },
   {
    "duration": 782,
    "start_time": "2025-01-31T19:02:59.507Z"
   },
   {
    "duration": 14,
    "start_time": "2025-01-31T19:03:00.291Z"
   },
   {
    "duration": 9,
    "start_time": "2025-01-31T19:03:00.307Z"
   },
   {
    "duration": 8,
    "start_time": "2025-01-31T19:03:00.319Z"
   },
   {
    "duration": 7,
    "start_time": "2025-01-31T19:03:00.330Z"
   },
   {
    "duration": 8,
    "start_time": "2025-01-31T19:03:00.339Z"
   },
   {
    "duration": 9,
    "start_time": "2025-01-31T19:03:00.348Z"
   },
   {
    "duration": 6,
    "start_time": "2025-01-31T19:03:00.358Z"
   },
   {
    "duration": 41,
    "start_time": "2025-01-31T19:03:00.365Z"
   },
   {
    "duration": 3,
    "start_time": "2025-01-31T19:03:00.408Z"
   },
   {
    "duration": 3,
    "start_time": "2025-01-31T19:03:00.413Z"
   },
   {
    "duration": 5,
    "start_time": "2025-01-31T19:03:00.417Z"
   },
   {
    "duration": 5,
    "start_time": "2025-01-31T19:03:00.424Z"
   },
   {
    "duration": 4,
    "start_time": "2025-01-31T19:03:00.432Z"
   },
   {
    "duration": 4,
    "start_time": "2025-01-31T19:03:00.438Z"
   },
   {
    "duration": 4,
    "start_time": "2025-01-31T19:03:00.444Z"
   },
   {
    "duration": 8,
    "start_time": "2025-01-31T19:03:00.449Z"
   },
   {
    "duration": 5,
    "start_time": "2025-01-31T19:03:00.505Z"
   },
   {
    "duration": 12,
    "start_time": "2025-01-31T19:03:00.512Z"
   },
   {
    "duration": 10,
    "start_time": "2025-01-31T19:03:00.525Z"
   },
   {
    "duration": 4,
    "start_time": "2025-01-31T19:03:00.537Z"
   },
   {
    "duration": 2,
    "start_time": "2025-01-31T19:03:00.543Z"
   },
   {
    "duration": 7,
    "start_time": "2025-01-31T19:03:00.547Z"
   },
   {
    "duration": 4,
    "start_time": "2025-01-31T19:03:00.556Z"
   },
   {
    "duration": 44,
    "start_time": "2025-01-31T19:03:00.562Z"
   },
   {
    "duration": 4,
    "start_time": "2025-01-31T19:03:00.608Z"
   },
   {
    "duration": 4,
    "start_time": "2025-01-31T19:03:00.614Z"
   },
   {
    "duration": 8,
    "start_time": "2025-01-31T19:03:00.620Z"
   },
   {
    "duration": 5,
    "start_time": "2025-01-31T19:03:00.630Z"
   },
   {
    "duration": 9,
    "start_time": "2025-01-31T19:03:00.637Z"
   },
   {
    "duration": 6,
    "start_time": "2025-01-31T19:03:00.648Z"
   },
   {
    "duration": 174,
    "start_time": "2025-01-31T19:03:00.657Z"
   },
   {
    "duration": 7,
    "start_time": "2025-01-31T19:03:00.833Z"
   },
   {
    "duration": 99,
    "start_time": "2025-01-31T19:03:00.841Z"
   },
   {
    "duration": 6,
    "start_time": "2025-01-31T19:03:00.942Z"
   },
   {
    "duration": 6,
    "start_time": "2025-01-31T19:03:00.950Z"
   },
   {
    "duration": 7,
    "start_time": "2025-01-31T19:03:00.957Z"
   },
   {
    "duration": 260,
    "start_time": "2025-01-31T19:03:00.966Z"
   },
   {
    "duration": 224,
    "start_time": "2025-01-31T19:03:01.227Z"
   },
   {
    "duration": 7,
    "start_time": "2025-01-31T19:03:01.452Z"
   },
   {
    "duration": 12,
    "start_time": "2025-01-31T19:03:45.099Z"
   },
   {
    "duration": 8,
    "start_time": "2025-01-31T19:04:05.822Z"
   },
   {
    "duration": 838,
    "start_time": "2025-01-31T19:05:54.612Z"
   },
   {
    "duration": 12,
    "start_time": "2025-01-31T19:05:55.452Z"
   },
   {
    "duration": 8,
    "start_time": "2025-01-31T19:05:55.466Z"
   },
   {
    "duration": 7,
    "start_time": "2025-01-31T19:05:55.476Z"
   },
   {
    "duration": 25,
    "start_time": "2025-01-31T19:05:55.486Z"
   },
   {
    "duration": 8,
    "start_time": "2025-01-31T19:05:55.513Z"
   },
   {
    "duration": 8,
    "start_time": "2025-01-31T19:05:55.523Z"
   },
   {
    "duration": 6,
    "start_time": "2025-01-31T19:05:55.532Z"
   },
   {
    "duration": 4,
    "start_time": "2025-01-31T19:05:55.539Z"
   },
   {
    "duration": 3,
    "start_time": "2025-01-31T19:05:55.544Z"
   },
   {
    "duration": 3,
    "start_time": "2025-01-31T19:05:55.549Z"
   },
   {
    "duration": 5,
    "start_time": "2025-01-31T19:05:55.553Z"
   },
   {
    "duration": 47,
    "start_time": "2025-01-31T19:05:55.559Z"
   },
   {
    "duration": 4,
    "start_time": "2025-01-31T19:05:55.610Z"
   },
   {
    "duration": 5,
    "start_time": "2025-01-31T19:05:55.616Z"
   },
   {
    "duration": 4,
    "start_time": "2025-01-31T19:05:55.623Z"
   },
   {
    "duration": 8,
    "start_time": "2025-01-31T19:05:55.628Z"
   },
   {
    "duration": 4,
    "start_time": "2025-01-31T19:05:55.638Z"
   },
   {
    "duration": 11,
    "start_time": "2025-01-31T19:05:55.644Z"
   },
   {
    "duration": 50,
    "start_time": "2025-01-31T19:05:55.657Z"
   },
   {
    "duration": 5,
    "start_time": "2025-01-31T19:05:55.709Z"
   },
   {
    "duration": 4,
    "start_time": "2025-01-31T19:05:55.715Z"
   },
   {
    "duration": 8,
    "start_time": "2025-01-31T19:05:55.720Z"
   },
   {
    "duration": 4,
    "start_time": "2025-01-31T19:05:55.729Z"
   },
   {
    "duration": 6,
    "start_time": "2025-01-31T19:05:55.735Z"
   },
   {
    "duration": 4,
    "start_time": "2025-01-31T19:05:55.742Z"
   },
   {
    "duration": 4,
    "start_time": "2025-01-31T19:05:55.748Z"
   },
   {
    "duration": 53,
    "start_time": "2025-01-31T19:05:55.753Z"
   },
   {
    "duration": 3,
    "start_time": "2025-01-31T19:05:55.808Z"
   },
   {
    "duration": 9,
    "start_time": "2025-01-31T19:05:55.813Z"
   },
   {
    "duration": 5,
    "start_time": "2025-01-31T19:05:55.823Z"
   },
   {
    "duration": 152,
    "start_time": "2025-01-31T19:05:55.829Z"
   },
   {
    "duration": 8,
    "start_time": "2025-01-31T19:05:55.983Z"
   },
   {
    "duration": 94,
    "start_time": "2025-01-31T19:05:55.992Z"
   },
   {
    "duration": 5,
    "start_time": "2025-01-31T19:05:56.088Z"
   },
   {
    "duration": 14,
    "start_time": "2025-01-31T19:05:56.095Z"
   },
   {
    "duration": 8,
    "start_time": "2025-01-31T19:05:56.111Z"
   },
   {
    "duration": 273,
    "start_time": "2025-01-31T19:05:56.121Z"
   },
   {
    "duration": 207,
    "start_time": "2025-01-31T19:05:56.396Z"
   },
   {
    "duration": 6,
    "start_time": "2025-01-31T19:05:56.604Z"
   },
   {
    "duration": 9,
    "start_time": "2025-01-31T19:05:56.615Z"
   },
   {
    "duration": 5,
    "start_time": "2025-01-31T19:06:55.343Z"
   },
   {
    "duration": 263,
    "start_time": "2025-01-31T19:14:47.181Z"
   },
   {
    "duration": 776,
    "start_time": "2025-01-31T19:14:58.411Z"
   },
   {
    "duration": 11,
    "start_time": "2025-01-31T19:14:59.189Z"
   },
   {
    "duration": 9,
    "start_time": "2025-01-31T19:14:59.205Z"
   },
   {
    "duration": 8,
    "start_time": "2025-01-31T19:14:59.215Z"
   },
   {
    "duration": 7,
    "start_time": "2025-01-31T19:14:59.225Z"
   },
   {
    "duration": 6,
    "start_time": "2025-01-31T19:14:59.234Z"
   },
   {
    "duration": 8,
    "start_time": "2025-01-31T19:14:59.242Z"
   },
   {
    "duration": 5,
    "start_time": "2025-01-31T19:14:59.252Z"
   },
   {
    "duration": 5,
    "start_time": "2025-01-31T19:14:59.259Z"
   },
   {
    "duration": 4,
    "start_time": "2025-01-31T19:14:59.305Z"
   },
   {
    "duration": 3,
    "start_time": "2025-01-31T19:14:59.310Z"
   },
   {
    "duration": 6,
    "start_time": "2025-01-31T19:14:59.314Z"
   },
   {
    "duration": 5,
    "start_time": "2025-01-31T19:14:59.322Z"
   },
   {
    "duration": 5,
    "start_time": "2025-01-31T19:14:59.328Z"
   },
   {
    "duration": 5,
    "start_time": "2025-01-31T19:14:59.335Z"
   },
   {
    "duration": 5,
    "start_time": "2025-01-31T19:14:59.341Z"
   },
   {
    "duration": 8,
    "start_time": "2025-01-31T19:14:59.347Z"
   },
   {
    "duration": 5,
    "start_time": "2025-01-31T19:14:59.357Z"
   },
   {
    "duration": 53,
    "start_time": "2025-01-31T19:14:59.363Z"
   },
   {
    "duration": 12,
    "start_time": "2025-01-31T19:14:59.418Z"
   },
   {
    "duration": 5,
    "start_time": "2025-01-31T19:14:59.433Z"
   },
   {
    "duration": 3,
    "start_time": "2025-01-31T19:14:59.439Z"
   },
   {
    "duration": 7,
    "start_time": "2025-01-31T19:14:59.444Z"
   },
   {
    "duration": 4,
    "start_time": "2025-01-31T19:14:59.453Z"
   },
   {
    "duration": 7,
    "start_time": "2025-01-31T19:14:59.458Z"
   },
   {
    "duration": 3,
    "start_time": "2025-01-31T19:14:59.506Z"
   },
   {
    "duration": 3,
    "start_time": "2025-01-31T19:14:59.512Z"
   },
   {
    "duration": 7,
    "start_time": "2025-01-31T19:14:59.519Z"
   },
   {
    "duration": 3,
    "start_time": "2025-01-31T19:14:59.528Z"
   },
   {
    "duration": 8,
    "start_time": "2025-01-31T19:14:59.533Z"
   },
   {
    "duration": 4,
    "start_time": "2025-01-31T19:14:59.542Z"
   },
   {
    "duration": 174,
    "start_time": "2025-01-31T19:14:59.547Z"
   },
   {
    "duration": 7,
    "start_time": "2025-01-31T19:14:59.722Z"
   },
   {
    "duration": 96,
    "start_time": "2025-01-31T19:14:59.731Z"
   },
   {
    "duration": 6,
    "start_time": "2025-01-31T19:14:59.828Z"
   },
   {
    "duration": 6,
    "start_time": "2025-01-31T19:14:59.836Z"
   },
   {
    "duration": 7,
    "start_time": "2025-01-31T19:14:59.843Z"
   },
   {
    "duration": 263,
    "start_time": "2025-01-31T19:14:59.851Z"
   },
   {
    "duration": 202,
    "start_time": "2025-01-31T19:15:00.116Z"
   },
   {
    "duration": 6,
    "start_time": "2025-01-31T19:15:00.320Z"
   },
   {
    "duration": 9,
    "start_time": "2025-01-31T19:15:00.327Z"
   },
   {
    "duration": 276,
    "start_time": "2025-01-31T19:15:00.337Z"
   },
   {
    "duration": 196,
    "start_time": "2025-01-31T19:16:03.384Z"
   },
   {
    "duration": 6,
    "start_time": "2025-01-31T19:39:40.817Z"
   },
   {
    "duration": 5,
    "start_time": "2025-01-31T19:41:03.455Z"
   },
   {
    "duration": 5,
    "start_time": "2025-01-31T19:41:34.700Z"
   },
   {
    "duration": 264,
    "start_time": "2025-01-31T19:42:04.048Z"
   },
   {
    "duration": 820,
    "start_time": "2025-01-31T19:45:14.177Z"
   },
   {
    "duration": 19,
    "start_time": "2025-01-31T19:45:14.999Z"
   },
   {
    "duration": 9,
    "start_time": "2025-01-31T19:45:15.019Z"
   },
   {
    "duration": 7,
    "start_time": "2025-01-31T19:45:15.031Z"
   },
   {
    "duration": 8,
    "start_time": "2025-01-31T19:45:15.039Z"
   },
   {
    "duration": 7,
    "start_time": "2025-01-31T19:45:15.048Z"
   },
   {
    "duration": 8,
    "start_time": "2025-01-31T19:45:15.057Z"
   },
   {
    "duration": 7,
    "start_time": "2025-01-31T19:45:15.067Z"
   },
   {
    "duration": 31,
    "start_time": "2025-01-31T19:45:15.076Z"
   },
   {
    "duration": 2,
    "start_time": "2025-01-31T19:45:15.112Z"
   },
   {
    "duration": 3,
    "start_time": "2025-01-31T19:45:15.116Z"
   },
   {
    "duration": 5,
    "start_time": "2025-01-31T19:45:15.121Z"
   },
   {
    "duration": 5,
    "start_time": "2025-01-31T19:45:15.128Z"
   },
   {
    "duration": 5,
    "start_time": "2025-01-31T19:45:15.135Z"
   },
   {
    "duration": 6,
    "start_time": "2025-01-31T19:45:15.141Z"
   },
   {
    "duration": 5,
    "start_time": "2025-01-31T19:45:15.148Z"
   },
   {
    "duration": 53,
    "start_time": "2025-01-31T19:45:15.155Z"
   },
   {
    "duration": 5,
    "start_time": "2025-01-31T19:45:15.209Z"
   },
   {
    "duration": 13,
    "start_time": "2025-01-31T19:45:15.216Z"
   },
   {
    "duration": 9,
    "start_time": "2025-01-31T19:45:15.231Z"
   },
   {
    "duration": 5,
    "start_time": "2025-01-31T19:45:15.242Z"
   },
   {
    "duration": 3,
    "start_time": "2025-01-31T19:45:15.249Z"
   },
   {
    "duration": 8,
    "start_time": "2025-01-31T19:45:15.254Z"
   },
   {
    "duration": 45,
    "start_time": "2025-01-31T19:45:15.263Z"
   },
   {
    "duration": 6,
    "start_time": "2025-01-31T19:45:15.310Z"
   },
   {
    "duration": 3,
    "start_time": "2025-01-31T19:45:15.318Z"
   },
   {
    "duration": 3,
    "start_time": "2025-01-31T19:45:15.323Z"
   },
   {
    "duration": 6,
    "start_time": "2025-01-31T19:45:15.330Z"
   },
   {
    "duration": 3,
    "start_time": "2025-01-31T19:45:15.338Z"
   },
   {
    "duration": 8,
    "start_time": "2025-01-31T19:45:15.342Z"
   },
   {
    "duration": 4,
    "start_time": "2025-01-31T19:45:15.352Z"
   },
   {
    "duration": 181,
    "start_time": "2025-01-31T19:45:15.357Z"
   },
   {
    "duration": 7,
    "start_time": "2025-01-31T19:45:15.540Z"
   },
   {
    "duration": 97,
    "start_time": "2025-01-31T19:45:15.548Z"
   },
   {
    "duration": 6,
    "start_time": "2025-01-31T19:45:15.646Z"
   },
   {
    "duration": 5,
    "start_time": "2025-01-31T19:45:15.654Z"
   },
   {
    "duration": 7,
    "start_time": "2025-01-31T19:45:15.661Z"
   },
   {
    "duration": 245,
    "start_time": "2025-01-31T19:45:15.669Z"
   },
   {
    "duration": 207,
    "start_time": "2025-01-31T19:45:15.916Z"
   },
   {
    "duration": 6,
    "start_time": "2025-01-31T19:45:16.125Z"
   },
   {
    "duration": 8,
    "start_time": "2025-01-31T19:45:16.133Z"
   },
   {
    "duration": 296,
    "start_time": "2025-01-31T19:45:16.142Z"
   },
   {
    "duration": 5,
    "start_time": "2025-01-31T19:45:16.440Z"
   },
   {
    "duration": 5,
    "start_time": "2025-01-31T19:45:46.622Z"
   },
   {
    "duration": 5,
    "start_time": "2025-01-31T19:46:07.228Z"
   },
   {
    "duration": 288,
    "start_time": "2025-01-31T19:46:19.320Z"
   },
   {
    "duration": 270,
    "start_time": "2025-01-31T19:48:57.372Z"
   },
   {
    "duration": 5,
    "start_time": "2025-01-31T19:49:13.760Z"
   },
   {
    "duration": 263,
    "start_time": "2025-01-31T19:49:55.972Z"
   },
   {
    "duration": 291,
    "start_time": "2025-01-31T19:50:50.017Z"
   },
   {
    "duration": 3,
    "start_time": "2025-01-31T20:13:24.580Z"
   },
   {
    "duration": 647,
    "start_time": "2025-01-31T20:15:33.262Z"
   },
   {
    "duration": 42,
    "start_time": "2025-01-31T20:16:30.123Z"
   },
   {
    "duration": 42,
    "start_time": "2025-01-31T20:17:06.959Z"
   },
   {
    "duration": 3,
    "start_time": "2025-01-31T20:17:46.463Z"
   },
   {
    "duration": 14,
    "start_time": "2025-01-31T20:18:13.563Z"
   },
   {
    "duration": 8,
    "start_time": "2025-01-31T20:18:43.336Z"
   },
   {
    "duration": 4,
    "start_time": "2025-01-31T20:21:34.214Z"
   },
   {
    "duration": 3,
    "start_time": "2025-01-31T20:22:04.063Z"
   },
   {
    "duration": 849,
    "start_time": "2025-01-31T20:36:23.667Z"
   },
   {
    "duration": 15,
    "start_time": "2025-01-31T20:38:44.706Z"
   },
   {
    "duration": 9,
    "start_time": "2025-01-31T20:38:53.657Z"
   },
   {
    "duration": 144,
    "start_time": "2025-01-31T20:45:37.506Z"
   },
   {
    "duration": 156,
    "start_time": "2025-01-31T21:03:58.501Z"
   },
   {
    "duration": 211,
    "start_time": "2025-01-31T21:04:50.154Z"
   },
   {
    "duration": 8,
    "start_time": "2025-02-01T19:47:59.905Z"
   },
   {
    "duration": 2635,
    "start_time": "2025-02-01T20:01:02.978Z"
   },
   {
    "duration": 16,
    "start_time": "2025-02-01T20:01:05.615Z"
   },
   {
    "duration": 9,
    "start_time": "2025-02-01T20:01:05.632Z"
   },
   {
    "duration": 8,
    "start_time": "2025-02-01T20:01:05.644Z"
   },
   {
    "duration": 8,
    "start_time": "2025-02-01T20:01:05.654Z"
   },
   {
    "duration": 7,
    "start_time": "2025-02-01T20:01:05.664Z"
   },
   {
    "duration": 8,
    "start_time": "2025-02-01T20:01:05.672Z"
   },
   {
    "duration": 7,
    "start_time": "2025-02-01T20:01:05.682Z"
   },
   {
    "duration": 41,
    "start_time": "2025-02-01T20:01:05.690Z"
   },
   {
    "duration": 3,
    "start_time": "2025-02-01T20:01:05.735Z"
   },
   {
    "duration": 3,
    "start_time": "2025-02-01T20:01:05.740Z"
   },
   {
    "duration": 6,
    "start_time": "2025-02-01T20:01:05.745Z"
   },
   {
    "duration": 4,
    "start_time": "2025-02-01T20:01:05.754Z"
   },
   {
    "duration": 5,
    "start_time": "2025-02-01T20:01:05.760Z"
   },
   {
    "duration": 5,
    "start_time": "2025-02-01T20:01:05.767Z"
   },
   {
    "duration": 5,
    "start_time": "2025-02-01T20:01:05.774Z"
   },
   {
    "duration": 8,
    "start_time": "2025-02-01T20:01:05.781Z"
   },
   {
    "duration": 47,
    "start_time": "2025-02-01T20:01:05.790Z"
   },
   {
    "duration": 13,
    "start_time": "2025-02-01T20:01:05.838Z"
   },
   {
    "duration": 10,
    "start_time": "2025-02-01T20:01:05.852Z"
   },
   {
    "duration": 5,
    "start_time": "2025-02-01T20:01:05.863Z"
   },
   {
    "duration": 4,
    "start_time": "2025-02-01T20:01:05.869Z"
   },
   {
    "duration": 9,
    "start_time": "2025-02-01T20:01:05.874Z"
   },
   {
    "duration": 6,
    "start_time": "2025-02-01T20:01:05.884Z"
   },
   {
    "duration": 46,
    "start_time": "2025-02-01T20:01:05.891Z"
   },
   {
    "duration": 4,
    "start_time": "2025-02-01T20:01:05.938Z"
   },
   {
    "duration": 4,
    "start_time": "2025-02-01T20:01:05.944Z"
   },
   {
    "duration": 7,
    "start_time": "2025-02-01T20:01:05.952Z"
   },
   {
    "duration": 5,
    "start_time": "2025-02-01T20:01:05.961Z"
   },
   {
    "duration": 9,
    "start_time": "2025-02-01T20:01:05.967Z"
   },
   {
    "duration": 5,
    "start_time": "2025-02-01T20:01:05.978Z"
   },
   {
    "duration": 184,
    "start_time": "2025-02-01T20:01:05.984Z"
   },
   {
    "duration": 8,
    "start_time": "2025-02-01T20:01:06.170Z"
   },
   {
    "duration": 101,
    "start_time": "2025-02-01T20:01:06.180Z"
   },
   {
    "duration": 6,
    "start_time": "2025-02-01T20:01:06.283Z"
   },
   {
    "duration": 6,
    "start_time": "2025-02-01T20:01:06.291Z"
   },
   {
    "duration": 8,
    "start_time": "2025-02-01T20:01:06.298Z"
   },
   {
    "duration": 268,
    "start_time": "2025-02-01T20:01:06.308Z"
   },
   {
    "duration": 205,
    "start_time": "2025-02-01T20:01:06.578Z"
   },
   {
    "duration": 6,
    "start_time": "2025-02-01T20:01:06.785Z"
   },
   {
    "duration": 9,
    "start_time": "2025-02-01T20:01:06.792Z"
   },
   {
    "duration": 341,
    "start_time": "2025-02-01T20:01:06.803Z"
   },
   {
    "duration": 6,
    "start_time": "2025-02-01T20:01:07.145Z"
   },
   {
    "duration": 9,
    "start_time": "2025-02-01T20:01:07.153Z"
   },
   {
    "duration": 234,
    "start_time": "2025-02-01T20:01:07.164Z"
   },
   {
    "duration": 184,
    "start_time": "2025-02-01T20:01:07.400Z"
   },
   {
    "duration": 289,
    "start_time": "2025-02-01T20:01:32.056Z"
   },
   {
    "duration": 759,
    "start_time": "2025-02-01T20:03:02.163Z"
   },
   {
    "duration": 229,
    "start_time": "2025-02-01T20:21:30.831Z"
   },
   {
    "duration": 177,
    "start_time": "2025-02-01T20:22:33.395Z"
   },
   {
    "duration": 249,
    "start_time": "2025-02-01T20:23:18.639Z"
   },
   {
    "duration": 217,
    "start_time": "2025-02-01T20:23:26.972Z"
   },
   {
    "duration": 217,
    "start_time": "2025-02-01T20:23:35.871Z"
   },
   {
    "duration": 218,
    "start_time": "2025-02-01T20:23:44.221Z"
   },
   {
    "duration": 193,
    "start_time": "2025-02-01T20:23:57.109Z"
   },
   {
    "duration": 180,
    "start_time": "2025-02-01T20:24:19.096Z"
   },
   {
    "duration": 223,
    "start_time": "2025-02-01T20:24:32.446Z"
   },
   {
    "duration": 231,
    "start_time": "2025-02-01T20:24:44.023Z"
   },
   {
    "duration": 217,
    "start_time": "2025-02-01T20:24:48.581Z"
   },
   {
    "duration": 180,
    "start_time": "2025-02-01T20:24:59.018Z"
   },
   {
    "duration": 199,
    "start_time": "2025-02-01T20:25:11.795Z"
   },
   {
    "duration": 188,
    "start_time": "2025-02-01T20:25:22.507Z"
   },
   {
    "duration": 225,
    "start_time": "2025-02-01T20:25:32.521Z"
   },
   {
    "duration": 205,
    "start_time": "2025-02-01T20:35:20.830Z"
   },
   {
    "duration": 204,
    "start_time": "2025-02-01T20:41:35.538Z"
   },
   {
    "duration": 215,
    "start_time": "2025-02-01T20:41:48.770Z"
   },
   {
    "duration": 326,
    "start_time": "2025-02-01T20:42:27.759Z"
   },
   {
    "duration": 221,
    "start_time": "2025-02-01T20:42:38.198Z"
   },
   {
    "duration": 257,
    "start_time": "2025-02-01T20:44:41.701Z"
   },
   {
    "duration": 209,
    "start_time": "2025-02-01T20:44:51.476Z"
   },
   {
    "duration": 859,
    "start_time": "2025-02-01T20:45:27.229Z"
   },
   {
    "duration": 13,
    "start_time": "2025-02-01T20:45:28.090Z"
   },
   {
    "duration": 9,
    "start_time": "2025-02-01T20:45:28.104Z"
   },
   {
    "duration": 24,
    "start_time": "2025-02-01T20:45:28.117Z"
   },
   {
    "duration": 9,
    "start_time": "2025-02-01T20:45:28.143Z"
   },
   {
    "duration": 7,
    "start_time": "2025-02-01T20:45:28.153Z"
   },
   {
    "duration": 9,
    "start_time": "2025-02-01T20:45:28.162Z"
   },
   {
    "duration": 8,
    "start_time": "2025-02-01T20:45:28.173Z"
   },
   {
    "duration": 4,
    "start_time": "2025-02-01T20:45:28.182Z"
   },
   {
    "duration": 2,
    "start_time": "2025-02-01T20:45:28.190Z"
   },
   {
    "duration": 2,
    "start_time": "2025-02-01T20:45:28.232Z"
   },
   {
    "duration": 7,
    "start_time": "2025-02-01T20:45:28.236Z"
   },
   {
    "duration": 6,
    "start_time": "2025-02-01T20:45:28.245Z"
   },
   {
    "duration": 5,
    "start_time": "2025-02-01T20:45:28.253Z"
   },
   {
    "duration": 6,
    "start_time": "2025-02-01T20:45:28.260Z"
   },
   {
    "duration": 5,
    "start_time": "2025-02-01T20:45:28.267Z"
   },
   {
    "duration": 9,
    "start_time": "2025-02-01T20:45:28.275Z"
   },
   {
    "duration": 5,
    "start_time": "2025-02-01T20:45:28.285Z"
   },
   {
    "duration": 53,
    "start_time": "2025-02-01T20:45:28.292Z"
   },
   {
    "duration": 11,
    "start_time": "2025-02-01T20:45:28.347Z"
   },
   {
    "duration": 4,
    "start_time": "2025-02-01T20:45:28.360Z"
   },
   {
    "duration": 3,
    "start_time": "2025-02-01T20:45:28.366Z"
   },
   {
    "duration": 9,
    "start_time": "2025-02-01T20:45:28.371Z"
   },
   {
    "duration": 5,
    "start_time": "2025-02-01T20:45:28.382Z"
   },
   {
    "duration": 44,
    "start_time": "2025-02-01T20:45:28.389Z"
   },
   {
    "duration": 4,
    "start_time": "2025-02-01T20:45:28.435Z"
   },
   {
    "duration": 4,
    "start_time": "2025-02-01T20:45:28.441Z"
   },
   {
    "duration": 9,
    "start_time": "2025-02-01T20:45:28.449Z"
   },
   {
    "duration": 4,
    "start_time": "2025-02-01T20:45:28.460Z"
   },
   {
    "duration": 9,
    "start_time": "2025-02-01T20:45:28.465Z"
   },
   {
    "duration": 5,
    "start_time": "2025-02-01T20:45:28.476Z"
   },
   {
    "duration": 189,
    "start_time": "2025-02-01T20:45:28.483Z"
   },
   {
    "duration": 8,
    "start_time": "2025-02-01T20:45:28.674Z"
   },
   {
    "duration": 98,
    "start_time": "2025-02-01T20:45:28.683Z"
   },
   {
    "duration": 6,
    "start_time": "2025-02-01T20:45:28.783Z"
   },
   {
    "duration": 6,
    "start_time": "2025-02-01T20:45:28.791Z"
   },
   {
    "duration": 8,
    "start_time": "2025-02-01T20:45:28.798Z"
   },
   {
    "duration": 272,
    "start_time": "2025-02-01T20:45:28.808Z"
   },
   {
    "duration": 213,
    "start_time": "2025-02-01T20:45:29.082Z"
   },
   {
    "duration": 6,
    "start_time": "2025-02-01T20:45:29.298Z"
   },
   {
    "duration": 10,
    "start_time": "2025-02-01T20:45:29.306Z"
   },
   {
    "duration": 334,
    "start_time": "2025-02-01T20:45:29.317Z"
   },
   {
    "duration": 5,
    "start_time": "2025-02-01T20:45:29.653Z"
   },
   {
    "duration": 8,
    "start_time": "2025-02-01T20:45:29.661Z"
   },
   {
    "duration": 232,
    "start_time": "2025-02-01T20:45:29.670Z"
   },
   {
    "duration": 202,
    "start_time": "2025-02-01T20:45:29.905Z"
   },
   {
    "duration": 207,
    "start_time": "2025-02-01T20:48:36.757Z"
   },
   {
    "duration": 214,
    "start_time": "2025-02-01T20:49:11.495Z"
   },
   {
    "duration": 203,
    "start_time": "2025-02-01T20:49:39.224Z"
   },
   {
    "duration": 216,
    "start_time": "2025-02-01T20:49:50.639Z"
   },
   {
    "duration": 7,
    "start_time": "2025-02-01T21:13:02.753Z"
   },
   {
    "duration": 278,
    "start_time": "2025-02-01T21:13:18.398Z"
   },
   {
    "duration": 881,
    "start_time": "2025-02-01T21:42:20.836Z"
   },
   {
    "duration": 17,
    "start_time": "2025-02-01T21:42:21.719Z"
   },
   {
    "duration": 9,
    "start_time": "2025-02-01T21:42:21.738Z"
   },
   {
    "duration": 9,
    "start_time": "2025-02-01T21:42:21.751Z"
   },
   {
    "duration": 10,
    "start_time": "2025-02-01T21:42:21.761Z"
   },
   {
    "duration": 8,
    "start_time": "2025-02-01T21:42:21.773Z"
   },
   {
    "duration": 9,
    "start_time": "2025-02-01T21:42:21.782Z"
   },
   {
    "duration": 39,
    "start_time": "2025-02-01T21:42:21.792Z"
   },
   {
    "duration": 4,
    "start_time": "2025-02-01T21:42:21.833Z"
   },
   {
    "duration": 2,
    "start_time": "2025-02-01T21:42:21.841Z"
   },
   {
    "duration": 3,
    "start_time": "2025-02-01T21:42:21.845Z"
   },
   {
    "duration": 6,
    "start_time": "2025-02-01T21:42:21.850Z"
   },
   {
    "duration": 5,
    "start_time": "2025-02-01T21:42:21.858Z"
   },
   {
    "duration": 4,
    "start_time": "2025-02-01T21:42:21.865Z"
   },
   {
    "duration": 5,
    "start_time": "2025-02-01T21:42:21.871Z"
   },
   {
    "duration": 4,
    "start_time": "2025-02-01T21:42:21.878Z"
   },
   {
    "duration": 9,
    "start_time": "2025-02-01T21:42:21.931Z"
   },
   {
    "duration": 6,
    "start_time": "2025-02-01T21:42:21.943Z"
   },
   {
    "duration": 15,
    "start_time": "2025-02-01T21:42:21.951Z"
   },
   {
    "duration": 11,
    "start_time": "2025-02-01T21:42:21.969Z"
   },
   {
    "duration": 6,
    "start_time": "2025-02-01T21:42:21.982Z"
   },
   {
    "duration": 4,
    "start_time": "2025-02-01T21:42:21.990Z"
   },
   {
    "duration": 45,
    "start_time": "2025-02-01T21:42:21.995Z"
   },
   {
    "duration": 4,
    "start_time": "2025-02-01T21:42:22.042Z"
   },
   {
    "duration": 7,
    "start_time": "2025-02-01T21:42:22.048Z"
   },
   {
    "duration": 4,
    "start_time": "2025-02-01T21:42:22.057Z"
   },
   {
    "duration": 3,
    "start_time": "2025-02-01T21:42:22.064Z"
   },
   {
    "duration": 8,
    "start_time": "2025-02-01T21:42:22.071Z"
   },
   {
    "duration": 4,
    "start_time": "2025-02-01T21:42:22.081Z"
   },
   {
    "duration": 50,
    "start_time": "2025-02-01T21:42:22.087Z"
   },
   {
    "duration": 6,
    "start_time": "2025-02-01T21:42:22.139Z"
   },
   {
    "duration": 163,
    "start_time": "2025-02-01T21:42:22.147Z"
   },
   {
    "duration": 8,
    "start_time": "2025-02-01T21:42:22.312Z"
   },
   {
    "duration": 95,
    "start_time": "2025-02-01T21:42:22.321Z"
   },
   {
    "duration": 18,
    "start_time": "2025-02-01T21:42:22.418Z"
   },
   {
    "duration": 6,
    "start_time": "2025-02-01T21:42:22.439Z"
   },
   {
    "duration": 8,
    "start_time": "2025-02-01T21:42:22.446Z"
   },
   {
    "duration": 256,
    "start_time": "2025-02-01T21:42:22.456Z"
   },
   {
    "duration": 207,
    "start_time": "2025-02-01T21:42:22.714Z"
   },
   {
    "duration": 10,
    "start_time": "2025-02-01T21:42:22.923Z"
   },
   {
    "duration": 9,
    "start_time": "2025-02-01T21:42:22.935Z"
   },
   {
    "duration": 379,
    "start_time": "2025-02-01T21:42:22.945Z"
   },
   {
    "duration": 6,
    "start_time": "2025-02-01T21:42:23.326Z"
   },
   {
    "duration": 9,
    "start_time": "2025-02-01T21:42:23.333Z"
   },
   {
    "duration": 223,
    "start_time": "2025-02-01T21:42:23.344Z"
   },
   {
    "duration": 7,
    "start_time": "2025-02-01T21:42:23.569Z"
   },
   {
    "duration": 266,
    "start_time": "2025-02-01T21:42:23.577Z"
   },
   {
    "duration": 9,
    "start_time": "2025-02-01T21:43:25.526Z"
   },
   {
    "duration": 8,
    "start_time": "2025-02-01T22:22:16.388Z"
   },
   {
    "duration": 879,
    "start_time": "2025-02-01T22:25:28.546Z"
   },
   {
    "duration": 12,
    "start_time": "2025-02-01T22:25:29.428Z"
   },
   {
    "duration": 9,
    "start_time": "2025-02-01T22:25:29.441Z"
   },
   {
    "duration": 8,
    "start_time": "2025-02-01T22:25:29.452Z"
   },
   {
    "duration": 8,
    "start_time": "2025-02-01T22:25:29.462Z"
   },
   {
    "duration": 7,
    "start_time": "2025-02-01T22:25:29.472Z"
   },
   {
    "duration": 7,
    "start_time": "2025-02-01T22:25:29.481Z"
   },
   {
    "duration": 42,
    "start_time": "2025-02-01T22:25:29.490Z"
   },
   {
    "duration": 3,
    "start_time": "2025-02-01T22:25:29.534Z"
   },
   {
    "duration": 3,
    "start_time": "2025-02-01T22:25:29.541Z"
   },
   {
    "duration": 5,
    "start_time": "2025-02-01T22:25:29.545Z"
   },
   {
    "duration": 6,
    "start_time": "2025-02-01T22:25:29.552Z"
   },
   {
    "duration": 5,
    "start_time": "2025-02-01T22:25:29.560Z"
   },
   {
    "duration": 5,
    "start_time": "2025-02-01T22:25:29.567Z"
   },
   {
    "duration": 6,
    "start_time": "2025-02-01T22:25:29.573Z"
   },
   {
    "duration": 4,
    "start_time": "2025-02-01T22:25:29.581Z"
   },
   {
    "duration": 50,
    "start_time": "2025-02-01T22:25:29.586Z"
   },
   {
    "duration": 5,
    "start_time": "2025-02-01T22:25:29.638Z"
   },
   {
    "duration": 12,
    "start_time": "2025-02-01T22:25:29.645Z"
   },
   {
    "duration": 9,
    "start_time": "2025-02-01T22:25:29.659Z"
   },
   {
    "duration": 5,
    "start_time": "2025-02-01T22:25:29.670Z"
   },
   {
    "duration": 4,
    "start_time": "2025-02-01T22:25:29.676Z"
   },
   {
    "duration": 7,
    "start_time": "2025-02-01T22:25:29.682Z"
   },
   {
    "duration": 41,
    "start_time": "2025-02-01T22:25:29.691Z"
   },
   {
    "duration": 6,
    "start_time": "2025-02-01T22:25:29.734Z"
   },
   {
    "duration": 4,
    "start_time": "2025-02-01T22:25:29.742Z"
   },
   {
    "duration": 4,
    "start_time": "2025-02-01T22:25:29.747Z"
   },
   {
    "duration": 8,
    "start_time": "2025-02-01T22:25:29.756Z"
   },
   {
    "duration": 5,
    "start_time": "2025-02-01T22:25:29.766Z"
   },
   {
    "duration": 10,
    "start_time": "2025-02-01T22:25:29.772Z"
   },
   {
    "duration": 48,
    "start_time": "2025-02-01T22:25:29.784Z"
   },
   {
    "duration": 147,
    "start_time": "2025-02-01T22:25:29.833Z"
   },
   {
    "duration": 7,
    "start_time": "2025-02-01T22:25:29.982Z"
   },
   {
    "duration": 100,
    "start_time": "2025-02-01T22:25:29.991Z"
   },
   {
    "duration": 6,
    "start_time": "2025-02-01T22:25:30.093Z"
   },
   {
    "duration": 6,
    "start_time": "2025-02-01T22:25:30.101Z"
   },
   {
    "duration": 26,
    "start_time": "2025-02-01T22:25:30.108Z"
   },
   {
    "duration": 244,
    "start_time": "2025-02-01T22:25:30.136Z"
   },
   {
    "duration": 215,
    "start_time": "2025-02-01T22:25:30.382Z"
   },
   {
    "duration": 8,
    "start_time": "2025-02-01T22:25:30.598Z"
   },
   {
    "duration": 8,
    "start_time": "2025-02-01T22:25:30.608Z"
   },
   {
    "duration": 344,
    "start_time": "2025-02-01T22:25:30.631Z"
   },
   {
    "duration": 3,
    "start_time": "2025-02-01T22:25:30.977Z"
   },
   {
    "duration": 9,
    "start_time": "2025-02-01T22:25:30.982Z"
   },
   {
    "duration": 226,
    "start_time": "2025-02-01T22:25:30.992Z"
   },
   {
    "duration": 14,
    "start_time": "2025-02-01T22:25:31.219Z"
   },
   {
    "duration": 7,
    "start_time": "2025-02-01T22:25:31.235Z"
   },
   {
    "duration": 291,
    "start_time": "2025-02-01T22:25:31.244Z"
   },
   {
    "duration": 336,
    "start_time": "2025-02-01T22:42:20.429Z"
   },
   {
    "duration": 116,
    "start_time": "2025-02-01T22:43:35.858Z"
   },
   {
    "duration": 8,
    "start_time": "2025-02-01T22:43:44.304Z"
   },
   {
    "duration": 3,
    "start_time": "2025-02-01T22:46:05.418Z"
   },
   {
    "duration": 5,
    "start_time": "2025-02-01T22:47:28.345Z"
   },
   {
    "duration": 4,
    "start_time": "2025-02-01T22:50:29.415Z"
   },
   {
    "duration": 5,
    "start_time": "2025-02-01T22:51:07.509Z"
   },
   {
    "duration": 3,
    "start_time": "2025-02-01T22:54:36.896Z"
   },
   {
    "duration": 9,
    "start_time": "2025-02-01T22:54:43.041Z"
   },
   {
    "duration": 9,
    "start_time": "2025-02-01T22:55:03.480Z"
   },
   {
    "duration": 92,
    "start_time": "2025-02-01T22:59:15.126Z"
   },
   {
    "duration": 139,
    "start_time": "2025-02-01T23:16:54.739Z"
   },
   {
    "duration": 221,
    "start_time": "2025-02-01T23:18:12.704Z"
   },
   {
    "duration": 5,
    "start_time": "2025-02-01T23:20:29.879Z"
   },
   {
    "duration": 145,
    "start_time": "2025-02-01T23:20:34.698Z"
   },
   {
    "duration": 136,
    "start_time": "2025-02-01T23:21:40.152Z"
   },
   {
    "duration": 136,
    "start_time": "2025-02-01T23:21:56.831Z"
   },
   {
    "duration": 148,
    "start_time": "2025-02-01T23:22:11.268Z"
   },
   {
    "duration": 134,
    "start_time": "2025-02-01T23:22:21.988Z"
   },
   {
    "duration": 137,
    "start_time": "2025-02-01T23:22:34.178Z"
   },
   {
    "duration": 5,
    "start_time": "2025-02-01T23:50:45.649Z"
   },
   {
    "duration": 121,
    "start_time": "2025-02-02T00:06:41.198Z"
   },
   {
    "duration": 3,
    "start_time": "2025-02-02T00:07:02.792Z"
   },
   {
    "duration": 4,
    "start_time": "2025-02-02T00:07:33.478Z"
   },
   {
    "duration": 8,
    "start_time": "2025-02-02T00:08:45.850Z"
   },
   {
    "duration": 9,
    "start_time": "2025-02-02T00:09:22.352Z"
   },
   {
    "duration": 6,
    "start_time": "2025-02-02T00:09:34.874Z"
   },
   {
    "duration": 146,
    "start_time": "2025-02-02T00:20:38.978Z"
   },
   {
    "duration": 4,
    "start_time": "2025-02-02T00:25:00.371Z"
   },
   {
    "duration": 159,
    "start_time": "2025-02-02T18:31:02.639Z"
   },
   {
    "duration": 2626,
    "start_time": "2025-02-02T18:31:09.032Z"
   },
   {
    "duration": 19,
    "start_time": "2025-02-02T18:31:11.661Z"
   },
   {
    "duration": 8,
    "start_time": "2025-02-02T18:31:11.681Z"
   },
   {
    "duration": 8,
    "start_time": "2025-02-02T18:31:11.693Z"
   },
   {
    "duration": 10,
    "start_time": "2025-02-02T18:31:11.702Z"
   },
   {
    "duration": 25,
    "start_time": "2025-02-02T18:31:11.713Z"
   },
   {
    "duration": 9,
    "start_time": "2025-02-02T18:31:11.739Z"
   },
   {
    "duration": 8,
    "start_time": "2025-02-02T18:31:11.749Z"
   },
   {
    "duration": 5,
    "start_time": "2025-02-02T18:31:11.759Z"
   },
   {
    "duration": 3,
    "start_time": "2025-02-02T18:31:11.768Z"
   },
   {
    "duration": 3,
    "start_time": "2025-02-02T18:31:11.773Z"
   },
   {
    "duration": 6,
    "start_time": "2025-02-02T18:31:11.778Z"
   },
   {
    "duration": 46,
    "start_time": "2025-02-02T18:31:11.786Z"
   },
   {
    "duration": 5,
    "start_time": "2025-02-02T18:31:11.834Z"
   },
   {
    "duration": 5,
    "start_time": "2025-02-02T18:31:11.841Z"
   },
   {
    "duration": 5,
    "start_time": "2025-02-02T18:31:11.848Z"
   },
   {
    "duration": 10,
    "start_time": "2025-02-02T18:31:11.854Z"
   },
   {
    "duration": 5,
    "start_time": "2025-02-02T18:31:11.866Z"
   },
   {
    "duration": 13,
    "start_time": "2025-02-02T18:31:11.872Z"
   },
   {
    "duration": 47,
    "start_time": "2025-02-02T18:31:11.887Z"
   },
   {
    "duration": 5,
    "start_time": "2025-02-02T18:31:11.935Z"
   },
   {
    "duration": 3,
    "start_time": "2025-02-02T18:31:11.943Z"
   },
   {
    "duration": 10,
    "start_time": "2025-02-02T18:31:11.949Z"
   },
   {
    "duration": 7,
    "start_time": "2025-02-02T18:31:11.961Z"
   },
   {
    "duration": 8,
    "start_time": "2025-02-02T18:31:11.970Z"
   },
   {
    "duration": 4,
    "start_time": "2025-02-02T18:31:11.979Z"
   },
   {
    "duration": 47,
    "start_time": "2025-02-02T18:31:11.985Z"
   },
   {
    "duration": 8,
    "start_time": "2025-02-02T18:31:12.037Z"
   },
   {
    "duration": 4,
    "start_time": "2025-02-02T18:31:12.047Z"
   },
   {
    "duration": 9,
    "start_time": "2025-02-02T18:31:12.052Z"
   },
   {
    "duration": 4,
    "start_time": "2025-02-02T18:31:12.063Z"
   },
   {
    "duration": 170,
    "start_time": "2025-02-02T18:31:12.069Z"
   },
   {
    "duration": 7,
    "start_time": "2025-02-02T18:31:12.241Z"
   },
   {
    "duration": 107,
    "start_time": "2025-02-02T18:31:12.249Z"
   },
   {
    "duration": 7,
    "start_time": "2025-02-02T18:31:12.358Z"
   },
   {
    "duration": 5,
    "start_time": "2025-02-02T18:31:12.366Z"
   },
   {
    "duration": 8,
    "start_time": "2025-02-02T18:31:12.373Z"
   },
   {
    "duration": 253,
    "start_time": "2025-02-02T18:31:12.383Z"
   },
   {
    "duration": 212,
    "start_time": "2025-02-02T18:31:12.637Z"
   },
   {
    "duration": 6,
    "start_time": "2025-02-02T18:31:12.851Z"
   },
   {
    "duration": 9,
    "start_time": "2025-02-02T18:31:12.858Z"
   },
   {
    "duration": 288,
    "start_time": "2025-02-02T18:31:12.868Z"
   },
   {
    "duration": 4,
    "start_time": "2025-02-02T18:31:13.158Z"
   },
   {
    "duration": 9,
    "start_time": "2025-02-02T18:31:13.163Z"
   },
   {
    "duration": 243,
    "start_time": "2025-02-02T18:31:13.174Z"
   },
   {
    "duration": 12,
    "start_time": "2025-02-02T18:31:13.419Z"
   },
   {
    "duration": 7,
    "start_time": "2025-02-02T18:31:13.433Z"
   },
   {
    "duration": 292,
    "start_time": "2025-02-02T18:31:13.442Z"
   },
   {
    "duration": 125,
    "start_time": "2025-02-02T18:31:13.736Z"
   },
   {
    "duration": 2,
    "start_time": "2025-02-02T18:31:13.863Z"
   },
   {
    "duration": 4,
    "start_time": "2025-02-02T18:31:13.867Z"
   },
   {
    "duration": 6,
    "start_time": "2025-02-02T18:31:13.873Z"
   },
   {
    "duration": 162,
    "start_time": "2025-02-02T18:31:13.881Z"
   },
   {
    "duration": 4,
    "start_time": "2025-02-02T18:31:14.045Z"
   },
   {
    "duration": 143,
    "start_time": "2025-02-02T18:31:14.051Z"
   },
   {
    "duration": 2,
    "start_time": "2025-02-02T18:31:14.196Z"
   },
   {
    "duration": 4,
    "start_time": "2025-02-02T18:31:14.200Z"
   },
   {
    "duration": 9,
    "start_time": "2025-02-02T18:31:14.206Z"
   },
   {
    "duration": 207,
    "start_time": "2025-02-02T18:31:14.232Z"
   },
   {
    "duration": 5,
    "start_time": "2025-02-02T18:31:14.440Z"
   },
   {
    "duration": 8,
    "start_time": "2025-02-02T18:32:05.357Z"
   },
   {
    "duration": 58,
    "start_time": "2025-02-02T18:51:46.954Z"
   },
   {
    "duration": 7,
    "start_time": "2025-02-02T18:51:57.465Z"
   },
   {
    "duration": 3,
    "start_time": "2025-02-02T19:07:12.920Z"
   },
   {
    "duration": 2660,
    "start_time": "2025-02-02T21:50:00.589Z"
   },
   {
    "duration": 19,
    "start_time": "2025-02-02T21:50:03.251Z"
   },
   {
    "duration": 9,
    "start_time": "2025-02-02T21:50:03.272Z"
   },
   {
    "duration": 9,
    "start_time": "2025-02-02T21:50:03.282Z"
   },
   {
    "duration": 9,
    "start_time": "2025-02-02T21:50:03.293Z"
   },
   {
    "duration": 8,
    "start_time": "2025-02-02T21:50:03.303Z"
   },
   {
    "duration": 9,
    "start_time": "2025-02-02T21:50:03.332Z"
   },
   {
    "duration": 6,
    "start_time": "2025-02-02T21:50:03.343Z"
   },
   {
    "duration": 5,
    "start_time": "2025-02-02T21:50:03.350Z"
   },
   {
    "duration": 4,
    "start_time": "2025-02-02T21:50:03.356Z"
   },
   {
    "duration": 4,
    "start_time": "2025-02-02T21:50:03.361Z"
   },
   {
    "duration": 7,
    "start_time": "2025-02-02T21:50:03.366Z"
   },
   {
    "duration": 6,
    "start_time": "2025-02-02T21:50:03.374Z"
   },
   {
    "duration": 5,
    "start_time": "2025-02-02T21:50:03.383Z"
   },
   {
    "duration": 45,
    "start_time": "2025-02-02T21:50:03.389Z"
   },
   {
    "duration": 4,
    "start_time": "2025-02-02T21:50:03.436Z"
   },
   {
    "duration": 9,
    "start_time": "2025-02-02T21:50:03.442Z"
   },
   {
    "duration": 5,
    "start_time": "2025-02-02T21:50:03.452Z"
   },
   {
    "duration": 12,
    "start_time": "2025-02-02T21:50:03.459Z"
   },
   {
    "duration": 10,
    "start_time": "2025-02-02T21:50:03.472Z"
   },
   {
    "duration": 4,
    "start_time": "2025-02-02T21:50:03.483Z"
   },
   {
    "duration": 42,
    "start_time": "2025-02-02T21:50:03.489Z"
   },
   {
    "duration": 8,
    "start_time": "2025-02-02T21:50:03.533Z"
   },
   {
    "duration": 5,
    "start_time": "2025-02-02T21:50:03.543Z"
   },
   {
    "duration": 7,
    "start_time": "2025-02-02T21:50:03.550Z"
   },
   {
    "duration": 4,
    "start_time": "2025-02-02T21:50:03.558Z"
   },
   {
    "duration": 4,
    "start_time": "2025-02-02T21:50:03.563Z"
   },
   {
    "duration": 8,
    "start_time": "2025-02-02T21:50:03.569Z"
   },
   {
    "duration": 4,
    "start_time": "2025-02-02T21:50:03.578Z"
   },
   {
    "duration": 48,
    "start_time": "2025-02-02T21:50:03.585Z"
   },
   {
    "duration": 4,
    "start_time": "2025-02-02T21:50:03.635Z"
   },
   {
    "duration": 152,
    "start_time": "2025-02-02T21:50:03.641Z"
   },
   {
    "duration": 8,
    "start_time": "2025-02-02T21:50:03.795Z"
   },
   {
    "duration": 109,
    "start_time": "2025-02-02T21:50:03.805Z"
   },
   {
    "duration": 17,
    "start_time": "2025-02-02T21:50:03.916Z"
   },
   {
    "duration": 6,
    "start_time": "2025-02-02T21:50:03.935Z"
   },
   {
    "duration": 7,
    "start_time": "2025-02-02T21:50:03.943Z"
   },
   {
    "duration": 255,
    "start_time": "2025-02-02T21:50:03.953Z"
   },
   {
    "duration": 212,
    "start_time": "2025-02-02T21:50:04.210Z"
   },
   {
    "duration": 11,
    "start_time": "2025-02-02T21:50:04.423Z"
   },
   {
    "duration": 8,
    "start_time": "2025-02-02T21:50:04.440Z"
   },
   {
    "duration": 301,
    "start_time": "2025-02-02T21:50:04.449Z"
   },
   {
    "duration": 3,
    "start_time": "2025-02-02T21:50:04.752Z"
   },
   {
    "duration": 9,
    "start_time": "2025-02-02T21:50:04.757Z"
   },
   {
    "duration": 243,
    "start_time": "2025-02-02T21:50:04.768Z"
   },
   {
    "duration": 6,
    "start_time": "2025-02-02T21:50:05.013Z"
   },
   {
    "duration": 6,
    "start_time": "2025-02-02T21:50:05.032Z"
   },
   {
    "duration": 294,
    "start_time": "2025-02-02T21:50:05.040Z"
   },
   {
    "duration": 132,
    "start_time": "2025-02-02T21:50:05.337Z"
   },
   {
    "duration": 2,
    "start_time": "2025-02-02T21:50:05.471Z"
   },
   {
    "duration": 5,
    "start_time": "2025-02-02T21:50:05.475Z"
   },
   {
    "duration": 7,
    "start_time": "2025-02-02T21:50:05.481Z"
   },
   {
    "duration": 167,
    "start_time": "2025-02-02T21:50:05.490Z"
   },
   {
    "duration": 4,
    "start_time": "2025-02-02T21:50:05.659Z"
   },
   {
    "duration": 128,
    "start_time": "2025-02-02T21:50:05.665Z"
   },
   {
    "duration": 3,
    "start_time": "2025-02-02T21:50:05.794Z"
   },
   {
    "duration": 5,
    "start_time": "2025-02-02T21:50:05.798Z"
   },
   {
    "duration": 28,
    "start_time": "2025-02-02T21:50:05.805Z"
   },
   {
    "duration": 153,
    "start_time": "2025-02-02T21:50:05.835Z"
   },
   {
    "duration": 8,
    "start_time": "2025-02-02T21:50:05.990Z"
   },
   {
    "duration": 67,
    "start_time": "2025-02-02T21:50:06.000Z"
   },
   {
    "duration": 2,
    "start_time": "2025-02-02T21:50:06.069Z"
   },
   {
    "duration": 65,
    "start_time": "2025-02-02T21:51:24.622Z"
   },
   {
    "duration": 2,
    "start_time": "2025-02-02T21:52:10.692Z"
   },
   {
    "duration": 7,
    "start_time": "2025-02-02T22:06:54.080Z"
   },
   {
    "duration": 274,
    "start_time": "2025-02-02T22:11:48.612Z"
   },
   {
    "duration": 847,
    "start_time": "2025-02-02T22:12:20.136Z"
   },
   {
    "duration": 16,
    "start_time": "2025-02-02T22:12:20.985Z"
   },
   {
    "duration": 10,
    "start_time": "2025-02-02T22:12:21.002Z"
   },
   {
    "duration": 20,
    "start_time": "2025-02-02T22:12:21.015Z"
   },
   {
    "duration": 9,
    "start_time": "2025-02-02T22:12:21.037Z"
   },
   {
    "duration": 7,
    "start_time": "2025-02-02T22:12:21.048Z"
   },
   {
    "duration": 7,
    "start_time": "2025-02-02T22:12:21.057Z"
   },
   {
    "duration": 7,
    "start_time": "2025-02-02T22:12:21.066Z"
   },
   {
    "duration": 4,
    "start_time": "2025-02-02T22:12:21.075Z"
   },
   {
    "duration": 3,
    "start_time": "2025-02-02T22:12:21.082Z"
   },
   {
    "duration": 3,
    "start_time": "2025-02-02T22:12:21.086Z"
   },
   {
    "duration": 44,
    "start_time": "2025-02-02T22:12:21.091Z"
   },
   {
    "duration": 5,
    "start_time": "2025-02-02T22:12:21.137Z"
   },
   {
    "duration": 4,
    "start_time": "2025-02-02T22:12:21.144Z"
   },
   {
    "duration": 4,
    "start_time": "2025-02-02T22:12:21.150Z"
   },
   {
    "duration": 4,
    "start_time": "2025-02-02T22:12:21.156Z"
   },
   {
    "duration": 9,
    "start_time": "2025-02-02T22:12:21.161Z"
   },
   {
    "duration": 6,
    "start_time": "2025-02-02T22:12:21.171Z"
   },
   {
    "duration": 52,
    "start_time": "2025-02-02T22:12:21.180Z"
   },
   {
    "duration": 10,
    "start_time": "2025-02-02T22:12:21.233Z"
   },
   {
    "duration": 5,
    "start_time": "2025-02-02T22:12:21.245Z"
   },
   {
    "duration": 4,
    "start_time": "2025-02-02T22:12:21.251Z"
   },
   {
    "duration": 8,
    "start_time": "2025-02-02T22:12:21.256Z"
   },
   {
    "duration": 5,
    "start_time": "2025-02-02T22:12:21.266Z"
   },
   {
    "duration": 8,
    "start_time": "2025-02-02T22:12:21.272Z"
   },
   {
    "duration": 4,
    "start_time": "2025-02-02T22:12:21.281Z"
   },
   {
    "duration": 3,
    "start_time": "2025-02-02T22:12:21.287Z"
   },
   {
    "duration": 8,
    "start_time": "2025-02-02T22:12:21.336Z"
   },
   {
    "duration": 4,
    "start_time": "2025-02-02T22:12:21.345Z"
   },
   {
    "duration": 9,
    "start_time": "2025-02-02T22:12:21.350Z"
   },
   {
    "duration": 5,
    "start_time": "2025-02-02T22:12:21.361Z"
   },
   {
    "duration": 165,
    "start_time": "2025-02-02T22:12:21.367Z"
   },
   {
    "duration": 7,
    "start_time": "2025-02-02T22:12:21.534Z"
   },
   {
    "duration": 97,
    "start_time": "2025-02-02T22:12:21.543Z"
   },
   {
    "duration": 6,
    "start_time": "2025-02-02T22:12:21.642Z"
   },
   {
    "duration": 5,
    "start_time": "2025-02-02T22:12:21.651Z"
   },
   {
    "duration": 7,
    "start_time": "2025-02-02T22:12:21.658Z"
   },
   {
    "duration": 257,
    "start_time": "2025-02-02T22:12:21.667Z"
   },
   {
    "duration": 227,
    "start_time": "2025-02-02T22:12:21.925Z"
   },
   {
    "duration": 6,
    "start_time": "2025-02-02T22:12:22.154Z"
   },
   {
    "duration": 9,
    "start_time": "2025-02-02T22:12:22.162Z"
   },
   {
    "duration": 367,
    "start_time": "2025-02-02T22:12:22.173Z"
   },
   {
    "duration": 4,
    "start_time": "2025-02-02T22:12:22.542Z"
   },
   {
    "duration": 9,
    "start_time": "2025-02-02T22:12:22.548Z"
   },
   {
    "duration": 233,
    "start_time": "2025-02-02T22:12:22.559Z"
   },
   {
    "duration": 7,
    "start_time": "2025-02-02T22:12:22.793Z"
   },
   {
    "duration": 7,
    "start_time": "2025-02-02T22:12:22.801Z"
   },
   {
    "duration": 312,
    "start_time": "2025-02-02T22:12:22.810Z"
   },
   {
    "duration": 134,
    "start_time": "2025-02-02T22:12:23.131Z"
   },
   {
    "duration": 3,
    "start_time": "2025-02-02T22:12:23.267Z"
   },
   {
    "duration": 6,
    "start_time": "2025-02-02T22:12:23.271Z"
   },
   {
    "duration": 7,
    "start_time": "2025-02-02T22:12:23.279Z"
   },
   {
    "duration": 160,
    "start_time": "2025-02-02T22:12:23.288Z"
   },
   {
    "duration": 5,
    "start_time": "2025-02-02T22:12:23.451Z"
   },
   {
    "duration": 131,
    "start_time": "2025-02-02T22:12:23.457Z"
   },
   {
    "duration": 3,
    "start_time": "2025-02-02T22:12:23.589Z"
   },
   {
    "duration": 6,
    "start_time": "2025-02-02T22:12:23.594Z"
   },
   {
    "duration": 7,
    "start_time": "2025-02-02T22:12:23.602Z"
   },
   {
    "duration": 160,
    "start_time": "2025-02-02T22:12:23.610Z"
   },
   {
    "duration": 4,
    "start_time": "2025-02-02T22:12:23.772Z"
   },
   {
    "duration": 76,
    "start_time": "2025-02-02T22:12:23.778Z"
   },
   {
    "duration": 2,
    "start_time": "2025-02-02T22:12:23.856Z"
   },
   {
    "duration": 86,
    "start_time": "2025-02-02T22:12:23.860Z"
   },
   {
    "duration": 2,
    "start_time": "2025-02-02T22:12:23.948Z"
   },
   {
    "duration": 6,
    "start_time": "2025-02-02T22:12:23.952Z"
   },
   {
    "duration": 241,
    "start_time": "2025-02-02T22:12:23.960Z"
   },
   {
    "duration": 880,
    "start_time": "2025-02-02T22:16:16.948Z"
   },
   {
    "duration": 13,
    "start_time": "2025-02-02T22:16:17.832Z"
   },
   {
    "duration": 9,
    "start_time": "2025-02-02T22:16:17.847Z"
   },
   {
    "duration": 8,
    "start_time": "2025-02-02T22:16:17.859Z"
   },
   {
    "duration": 8,
    "start_time": "2025-02-02T22:16:17.868Z"
   },
   {
    "duration": 8,
    "start_time": "2025-02-02T22:16:17.878Z"
   },
   {
    "duration": 7,
    "start_time": "2025-02-02T22:16:17.888Z"
   },
   {
    "duration": 42,
    "start_time": "2025-02-02T22:16:17.897Z"
   },
   {
    "duration": 7,
    "start_time": "2025-02-02T22:16:17.941Z"
   },
   {
    "duration": 3,
    "start_time": "2025-02-02T22:16:17.951Z"
   },
   {
    "duration": 3,
    "start_time": "2025-02-02T22:16:17.956Z"
   },
   {
    "duration": 6,
    "start_time": "2025-02-02T22:16:17.960Z"
   },
   {
    "duration": 5,
    "start_time": "2025-02-02T22:16:17.968Z"
   },
   {
    "duration": 4,
    "start_time": "2025-02-02T22:16:17.975Z"
   },
   {
    "duration": 5,
    "start_time": "2025-02-02T22:16:17.981Z"
   },
   {
    "duration": 5,
    "start_time": "2025-02-02T22:16:17.987Z"
   },
   {
    "duration": 50,
    "start_time": "2025-02-02T22:16:17.993Z"
   },
   {
    "duration": 6,
    "start_time": "2025-02-02T22:16:18.045Z"
   },
   {
    "duration": 13,
    "start_time": "2025-02-02T22:16:18.053Z"
   },
   {
    "duration": 12,
    "start_time": "2025-02-02T22:16:18.067Z"
   },
   {
    "duration": 9,
    "start_time": "2025-02-02T22:16:18.082Z"
   },
   {
    "duration": 11,
    "start_time": "2025-02-02T22:16:18.093Z"
   },
   {
    "duration": 26,
    "start_time": "2025-02-02T22:16:18.108Z"
   },
   {
    "duration": 7,
    "start_time": "2025-02-02T22:16:18.136Z"
   },
   {
    "duration": 6,
    "start_time": "2025-02-02T22:16:18.146Z"
   },
   {
    "duration": 3,
    "start_time": "2025-02-02T22:16:18.154Z"
   },
   {
    "duration": 3,
    "start_time": "2025-02-02T22:16:18.159Z"
   },
   {
    "duration": 7,
    "start_time": "2025-02-02T22:16:18.167Z"
   },
   {
    "duration": 4,
    "start_time": "2025-02-02T22:16:18.175Z"
   },
   {
    "duration": 8,
    "start_time": "2025-02-02T22:16:18.181Z"
   },
   {
    "duration": 44,
    "start_time": "2025-02-02T22:16:18.190Z"
   },
   {
    "duration": 153,
    "start_time": "2025-02-02T22:16:18.235Z"
   },
   {
    "duration": 7,
    "start_time": "2025-02-02T22:16:18.390Z"
   },
   {
    "duration": 93,
    "start_time": "2025-02-02T22:16:18.399Z"
   },
   {
    "duration": 7,
    "start_time": "2025-02-02T22:16:18.493Z"
   },
   {
    "duration": 5,
    "start_time": "2025-02-02T22:16:18.502Z"
   },
   {
    "duration": 23,
    "start_time": "2025-02-02T22:16:18.509Z"
   },
   {
    "duration": 238,
    "start_time": "2025-02-02T22:16:18.534Z"
   },
   {
    "duration": 208,
    "start_time": "2025-02-02T22:16:18.773Z"
   },
   {
    "duration": 6,
    "start_time": "2025-02-02T22:16:18.983Z"
   },
   {
    "duration": 9,
    "start_time": "2025-02-02T22:16:18.990Z"
   },
   {
    "duration": 349,
    "start_time": "2025-02-02T22:16:19.000Z"
   },
   {
    "duration": 4,
    "start_time": "2025-02-02T22:16:19.351Z"
   },
   {
    "duration": 9,
    "start_time": "2025-02-02T22:16:19.356Z"
   },
   {
    "duration": 229,
    "start_time": "2025-02-02T22:16:19.367Z"
   },
   {
    "duration": 7,
    "start_time": "2025-02-02T22:16:19.597Z"
   },
   {
    "duration": 7,
    "start_time": "2025-02-02T22:16:19.606Z"
   },
   {
    "duration": 319,
    "start_time": "2025-02-02T22:16:19.614Z"
   },
   {
    "duration": 127,
    "start_time": "2025-02-02T22:16:19.935Z"
   },
   {
    "duration": 3,
    "start_time": "2025-02-02T22:16:20.064Z"
   },
   {
    "duration": 5,
    "start_time": "2025-02-02T22:16:20.069Z"
   },
   {
    "duration": 7,
    "start_time": "2025-02-02T22:16:20.076Z"
   },
   {
    "duration": 171,
    "start_time": "2025-02-02T22:16:20.084Z"
   },
   {
    "duration": 4,
    "start_time": "2025-02-02T22:16:20.257Z"
   },
   {
    "duration": 133,
    "start_time": "2025-02-02T22:16:20.262Z"
   },
   {
    "duration": 3,
    "start_time": "2025-02-02T22:16:20.397Z"
   },
   {
    "duration": 10,
    "start_time": "2025-02-02T22:16:20.403Z"
   },
   {
    "duration": 18,
    "start_time": "2025-02-02T22:16:20.418Z"
   },
   {
    "duration": 156,
    "start_time": "2025-02-02T22:16:20.438Z"
   },
   {
    "duration": 4,
    "start_time": "2025-02-02T22:16:20.596Z"
   },
   {
    "duration": 67,
    "start_time": "2025-02-02T22:16:20.602Z"
   },
   {
    "duration": 3,
    "start_time": "2025-02-02T22:16:20.670Z"
   },
   {
    "duration": 80,
    "start_time": "2025-02-02T22:16:20.674Z"
   },
   {
    "duration": 3,
    "start_time": "2025-02-02T22:16:20.755Z"
   },
   {
    "duration": 6,
    "start_time": "2025-02-02T22:16:20.759Z"
   },
   {
    "duration": 16,
    "start_time": "2025-02-02T22:16:20.767Z"
   },
   {
    "duration": 858,
    "start_time": "2025-02-02T23:08:48.849Z"
   },
   {
    "duration": 12,
    "start_time": "2025-02-02T23:08:49.709Z"
   },
   {
    "duration": 12,
    "start_time": "2025-02-02T23:08:49.723Z"
   },
   {
    "duration": 8,
    "start_time": "2025-02-02T23:08:49.737Z"
   },
   {
    "duration": 9,
    "start_time": "2025-02-02T23:08:49.746Z"
   },
   {
    "duration": 10,
    "start_time": "2025-02-02T23:08:49.761Z"
   },
   {
    "duration": 12,
    "start_time": "2025-02-02T23:08:49.773Z"
   },
   {
    "duration": 8,
    "start_time": "2025-02-02T23:08:49.787Z"
   },
   {
    "duration": 4,
    "start_time": "2025-02-02T23:08:49.798Z"
   },
   {
    "duration": 3,
    "start_time": "2025-02-02T23:08:49.834Z"
   },
   {
    "duration": 2,
    "start_time": "2025-02-02T23:08:49.840Z"
   },
   {
    "duration": 7,
    "start_time": "2025-02-02T23:08:49.843Z"
   },
   {
    "duration": 6,
    "start_time": "2025-02-02T23:08:49.852Z"
   },
   {
    "duration": 4,
    "start_time": "2025-02-02T23:08:49.860Z"
   },
   {
    "duration": 5,
    "start_time": "2025-02-02T23:08:49.866Z"
   },
   {
    "duration": 5,
    "start_time": "2025-02-02T23:08:49.872Z"
   },
   {
    "duration": 9,
    "start_time": "2025-02-02T23:08:49.879Z"
   },
   {
    "duration": 6,
    "start_time": "2025-02-02T23:08:49.932Z"
   },
   {
    "duration": 13,
    "start_time": "2025-02-02T23:08:49.939Z"
   },
   {
    "duration": 10,
    "start_time": "2025-02-02T23:08:49.954Z"
   },
   {
    "duration": 4,
    "start_time": "2025-02-02T23:08:49.966Z"
   },
   {
    "duration": 3,
    "start_time": "2025-02-02T23:08:49.972Z"
   },
   {
    "duration": 10,
    "start_time": "2025-02-02T23:08:49.977Z"
   },
   {
    "duration": 43,
    "start_time": "2025-02-02T23:08:49.988Z"
   },
   {
    "duration": 7,
    "start_time": "2025-02-02T23:08:50.033Z"
   },
   {
    "duration": 5,
    "start_time": "2025-02-02T23:08:50.041Z"
   },
   {
    "duration": 3,
    "start_time": "2025-02-02T23:08:50.049Z"
   },
   {
    "duration": 8,
    "start_time": "2025-02-02T23:08:50.057Z"
   },
   {
    "duration": 4,
    "start_time": "2025-02-02T23:08:50.066Z"
   },
   {
    "duration": 10,
    "start_time": "2025-02-02T23:08:50.071Z"
   },
   {
    "duration": 4,
    "start_time": "2025-02-02T23:08:50.083Z"
   },
   {
    "duration": 187,
    "start_time": "2025-02-02T23:08:50.089Z"
   },
   {
    "duration": 8,
    "start_time": "2025-02-02T23:08:50.279Z"
   },
   {
    "duration": 94,
    "start_time": "2025-02-02T23:08:50.289Z"
   },
   {
    "duration": 7,
    "start_time": "2025-02-02T23:08:50.385Z"
   },
   {
    "duration": 6,
    "start_time": "2025-02-02T23:08:50.394Z"
   },
   {
    "duration": 34,
    "start_time": "2025-02-02T23:08:50.402Z"
   },
   {
    "duration": 239,
    "start_time": "2025-02-02T23:08:50.437Z"
   },
   {
    "duration": 203,
    "start_time": "2025-02-02T23:08:50.678Z"
   },
   {
    "duration": 7,
    "start_time": "2025-02-02T23:08:50.882Z"
   },
   {
    "duration": 8,
    "start_time": "2025-02-02T23:08:50.891Z"
   },
   {
    "duration": 348,
    "start_time": "2025-02-02T23:08:50.901Z"
   },
   {
    "duration": 4,
    "start_time": "2025-02-02T23:08:51.251Z"
   },
   {
    "duration": 8,
    "start_time": "2025-02-02T23:08:51.257Z"
   },
   {
    "duration": 366,
    "start_time": "2025-02-02T23:08:51.266Z"
   },
   {
    "duration": 0,
    "start_time": "2025-02-02T23:08:51.635Z"
   },
   {
    "duration": 0,
    "start_time": "2025-02-02T23:08:51.636Z"
   },
   {
    "duration": 0,
    "start_time": "2025-02-02T23:08:51.637Z"
   },
   {
    "duration": 0,
    "start_time": "2025-02-02T23:08:51.638Z"
   },
   {
    "duration": 0,
    "start_time": "2025-02-02T23:08:51.640Z"
   },
   {
    "duration": 0,
    "start_time": "2025-02-02T23:08:51.641Z"
   },
   {
    "duration": 0,
    "start_time": "2025-02-02T23:08:51.643Z"
   },
   {
    "duration": 0,
    "start_time": "2025-02-02T23:08:51.644Z"
   },
   {
    "duration": 0,
    "start_time": "2025-02-02T23:08:51.645Z"
   },
   {
    "duration": 0,
    "start_time": "2025-02-02T23:08:51.647Z"
   },
   {
    "duration": 0,
    "start_time": "2025-02-02T23:08:51.648Z"
   },
   {
    "duration": 0,
    "start_time": "2025-02-02T23:08:51.650Z"
   },
   {
    "duration": 0,
    "start_time": "2025-02-02T23:08:51.651Z"
   },
   {
    "duration": 0,
    "start_time": "2025-02-02T23:08:51.652Z"
   },
   {
    "duration": 0,
    "start_time": "2025-02-02T23:08:51.653Z"
   },
   {
    "duration": 0,
    "start_time": "2025-02-02T23:08:51.654Z"
   },
   {
    "duration": 0,
    "start_time": "2025-02-02T23:08:51.654Z"
   },
   {
    "duration": 0,
    "start_time": "2025-02-02T23:08:51.656Z"
   },
   {
    "duration": 0,
    "start_time": "2025-02-02T23:08:51.657Z"
   },
   {
    "duration": 0,
    "start_time": "2025-02-02T23:08:51.658Z"
   },
   {
    "duration": 0,
    "start_time": "2025-02-02T23:08:51.659Z"
   },
   {
    "duration": 865,
    "start_time": "2025-02-02T23:09:43.434Z"
   },
   {
    "duration": 11,
    "start_time": "2025-02-02T23:09:44.301Z"
   },
   {
    "duration": 18,
    "start_time": "2025-02-02T23:09:44.313Z"
   },
   {
    "duration": 10,
    "start_time": "2025-02-02T23:09:44.333Z"
   },
   {
    "duration": 8,
    "start_time": "2025-02-02T23:09:44.344Z"
   },
   {
    "duration": 7,
    "start_time": "2025-02-02T23:09:44.354Z"
   },
   {
    "duration": 9,
    "start_time": "2025-02-02T23:09:44.362Z"
   },
   {
    "duration": 7,
    "start_time": "2025-02-02T23:09:44.373Z"
   },
   {
    "duration": 4,
    "start_time": "2025-02-02T23:09:44.382Z"
   },
   {
    "duration": 3,
    "start_time": "2025-02-02T23:09:44.389Z"
   },
   {
    "duration": 38,
    "start_time": "2025-02-02T23:09:44.393Z"
   },
   {
    "duration": 6,
    "start_time": "2025-02-02T23:09:44.433Z"
   },
   {
    "duration": 6,
    "start_time": "2025-02-02T23:09:44.440Z"
   },
   {
    "duration": 5,
    "start_time": "2025-02-02T23:09:44.447Z"
   },
   {
    "duration": 5,
    "start_time": "2025-02-02T23:09:44.454Z"
   },
   {
    "duration": 5,
    "start_time": "2025-02-02T23:09:44.461Z"
   },
   {
    "duration": 9,
    "start_time": "2025-02-02T23:09:44.467Z"
   },
   {
    "duration": 4,
    "start_time": "2025-02-02T23:09:44.479Z"
   },
   {
    "duration": 58,
    "start_time": "2025-02-02T23:09:44.485Z"
   },
   {
    "duration": 11,
    "start_time": "2025-02-02T23:09:44.544Z"
   },
   {
    "duration": 5,
    "start_time": "2025-02-02T23:09:44.557Z"
   },
   {
    "duration": 3,
    "start_time": "2025-02-02T23:09:44.563Z"
   },
   {
    "duration": 8,
    "start_time": "2025-02-02T23:09:44.569Z"
   },
   {
    "duration": 5,
    "start_time": "2025-02-02T23:09:44.579Z"
   },
   {
    "duration": 7,
    "start_time": "2025-02-02T23:09:44.585Z"
   },
   {
    "duration": 39,
    "start_time": "2025-02-02T23:09:44.593Z"
   },
   {
    "duration": 4,
    "start_time": "2025-02-02T23:09:44.634Z"
   },
   {
    "duration": 8,
    "start_time": "2025-02-02T23:09:44.643Z"
   },
   {
    "duration": 4,
    "start_time": "2025-02-02T23:09:44.653Z"
   },
   {
    "duration": 9,
    "start_time": "2025-02-02T23:09:44.658Z"
   },
   {
    "duration": 5,
    "start_time": "2025-02-02T23:09:44.669Z"
   },
   {
    "duration": 171,
    "start_time": "2025-02-02T23:09:44.675Z"
   },
   {
    "duration": 7,
    "start_time": "2025-02-02T23:09:44.848Z"
   },
   {
    "duration": 104,
    "start_time": "2025-02-02T23:09:44.857Z"
   },
   {
    "duration": 6,
    "start_time": "2025-02-02T23:09:44.964Z"
   },
   {
    "duration": 8,
    "start_time": "2025-02-02T23:09:44.972Z"
   },
   {
    "duration": 9,
    "start_time": "2025-02-02T23:09:44.982Z"
   },
   {
    "duration": 259,
    "start_time": "2025-02-02T23:09:44.993Z"
   },
   {
    "duration": 209,
    "start_time": "2025-02-02T23:09:45.254Z"
   },
   {
    "duration": 6,
    "start_time": "2025-02-02T23:09:45.465Z"
   },
   {
    "duration": 10,
    "start_time": "2025-02-02T23:09:45.473Z"
   },
   {
    "duration": 358,
    "start_time": "2025-02-02T23:09:45.485Z"
   },
   {
    "duration": 3,
    "start_time": "2025-02-02T23:09:45.845Z"
   },
   {
    "duration": 8,
    "start_time": "2025-02-02T23:09:45.850Z"
   },
   {
    "duration": 228,
    "start_time": "2025-02-02T23:09:45.861Z"
   },
   {
    "duration": 6,
    "start_time": "2025-02-02T23:09:46.091Z"
   },
   {
    "duration": 7,
    "start_time": "2025-02-02T23:09:46.099Z"
   },
   {
    "duration": 319,
    "start_time": "2025-02-02T23:09:46.107Z"
   },
   {
    "duration": 130,
    "start_time": "2025-02-02T23:09:46.431Z"
   },
   {
    "duration": 4,
    "start_time": "2025-02-02T23:09:46.562Z"
   },
   {
    "duration": 5,
    "start_time": "2025-02-02T23:09:46.567Z"
   },
   {
    "duration": 7,
    "start_time": "2025-02-02T23:09:46.573Z"
   },
   {
    "duration": 158,
    "start_time": "2025-02-02T23:09:46.582Z"
   },
   {
    "duration": 5,
    "start_time": "2025-02-02T23:09:46.742Z"
   },
   {
    "duration": 137,
    "start_time": "2025-02-02T23:09:46.748Z"
   },
   {
    "duration": 4,
    "start_time": "2025-02-02T23:09:46.887Z"
   },
   {
    "duration": 3,
    "start_time": "2025-02-02T23:09:46.893Z"
   },
   {
    "duration": 6,
    "start_time": "2025-02-02T23:09:46.898Z"
   },
   {
    "duration": 164,
    "start_time": "2025-02-02T23:09:46.905Z"
   },
   {
    "duration": 5,
    "start_time": "2025-02-02T23:09:47.071Z"
   },
   {
    "duration": 87,
    "start_time": "2025-02-02T23:09:47.079Z"
   },
   {
    "duration": 3,
    "start_time": "2025-02-02T23:09:47.167Z"
   },
   {
    "duration": 78,
    "start_time": "2025-02-02T23:09:47.171Z"
   },
   {
    "duration": 2,
    "start_time": "2025-02-02T23:09:47.251Z"
   },
   {
    "duration": 6,
    "start_time": "2025-02-02T23:09:47.255Z"
   },
   {
    "duration": 16,
    "start_time": "2025-02-02T23:09:47.262Z"
   },
   {
    "duration": 6,
    "start_time": "2025-02-03T00:02:00.502Z"
   },
   {
    "duration": 871,
    "start_time": "2025-02-03T00:02:15.079Z"
   },
   {
    "duration": 15,
    "start_time": "2025-02-03T00:02:15.952Z"
   },
   {
    "duration": 12,
    "start_time": "2025-02-03T00:02:15.969Z"
   },
   {
    "duration": 9,
    "start_time": "2025-02-03T00:02:15.984Z"
   },
   {
    "duration": 9,
    "start_time": "2025-02-03T00:02:15.996Z"
   },
   {
    "duration": 8,
    "start_time": "2025-02-03T00:02:16.031Z"
   },
   {
    "duration": 9,
    "start_time": "2025-02-03T00:02:16.041Z"
   },
   {
    "duration": 8,
    "start_time": "2025-02-03T00:02:16.051Z"
   },
   {
    "duration": 3,
    "start_time": "2025-02-03T00:02:16.061Z"
   },
   {
    "duration": 3,
    "start_time": "2025-02-03T00:02:16.068Z"
   },
   {
    "duration": 4,
    "start_time": "2025-02-03T00:02:16.072Z"
   },
   {
    "duration": 6,
    "start_time": "2025-02-03T00:02:16.077Z"
   },
   {
    "duration": 5,
    "start_time": "2025-02-03T00:02:16.085Z"
   },
   {
    "duration": 43,
    "start_time": "2025-02-03T00:02:16.091Z"
   },
   {
    "duration": 6,
    "start_time": "2025-02-03T00:02:16.137Z"
   },
   {
    "duration": 4,
    "start_time": "2025-02-03T00:02:16.145Z"
   },
   {
    "duration": 10,
    "start_time": "2025-02-03T00:02:16.151Z"
   },
   {
    "duration": 5,
    "start_time": "2025-02-03T00:02:16.162Z"
   },
   {
    "duration": 5,
    "start_time": "2025-02-03T00:02:16.169Z"
   },
   {
    "duration": 11,
    "start_time": "2025-02-03T00:02:16.176Z"
   },
   {
    "duration": 6,
    "start_time": "2025-02-03T00:02:16.230Z"
   },
   {
    "duration": 4,
    "start_time": "2025-02-03T00:02:16.237Z"
   },
   {
    "duration": 9,
    "start_time": "2025-02-03T00:02:16.243Z"
   },
   {
    "duration": 6,
    "start_time": "2025-02-03T00:02:16.253Z"
   },
   {
    "duration": 8,
    "start_time": "2025-02-03T00:02:16.261Z"
   },
   {
    "duration": 4,
    "start_time": "2025-02-03T00:02:16.271Z"
   },
   {
    "duration": 6,
    "start_time": "2025-02-03T00:02:16.276Z"
   },
   {
    "duration": 46,
    "start_time": "2025-02-03T00:02:16.286Z"
   },
   {
    "duration": 4,
    "start_time": "2025-02-03T00:02:16.334Z"
   },
   {
    "duration": 10,
    "start_time": "2025-02-03T00:02:16.339Z"
   },
   {
    "duration": 5,
    "start_time": "2025-02-03T00:02:16.350Z"
   },
   {
    "duration": 160,
    "start_time": "2025-02-03T00:02:16.357Z"
   },
   {
    "duration": 12,
    "start_time": "2025-02-03T00:02:16.519Z"
   },
   {
    "duration": 98,
    "start_time": "2025-02-03T00:02:16.533Z"
   },
   {
    "duration": 6,
    "start_time": "2025-02-03T00:02:16.633Z"
   },
   {
    "duration": 5,
    "start_time": "2025-02-03T00:02:16.641Z"
   },
   {
    "duration": 9,
    "start_time": "2025-02-03T00:02:16.648Z"
   },
   {
    "duration": 262,
    "start_time": "2025-02-03T00:02:16.658Z"
   },
   {
    "duration": 211,
    "start_time": "2025-02-03T00:02:16.922Z"
   },
   {
    "duration": 7,
    "start_time": "2025-02-03T00:02:17.135Z"
   },
   {
    "duration": 9,
    "start_time": "2025-02-03T00:02:17.144Z"
   },
   {
    "duration": 383,
    "start_time": "2025-02-03T00:02:17.154Z"
   },
   {
    "duration": 4,
    "start_time": "2025-02-03T00:02:17.538Z"
   },
   {
    "duration": 10,
    "start_time": "2025-02-03T00:02:17.543Z"
   },
   {
    "duration": 242,
    "start_time": "2025-02-03T00:02:17.555Z"
   },
   {
    "duration": 6,
    "start_time": "2025-02-03T00:02:17.799Z"
   },
   {
    "duration": 8,
    "start_time": "2025-02-03T00:02:17.807Z"
   },
   {
    "duration": 308,
    "start_time": "2025-02-03T00:02:17.831Z"
   },
   {
    "duration": 134,
    "start_time": "2025-02-03T00:02:18.142Z"
   },
   {
    "duration": 4,
    "start_time": "2025-02-03T00:02:18.278Z"
   },
   {
    "duration": 4,
    "start_time": "2025-02-03T00:02:18.284Z"
   },
   {
    "duration": 7,
    "start_time": "2025-02-03T00:02:18.290Z"
   },
   {
    "duration": 172,
    "start_time": "2025-02-03T00:02:18.298Z"
   },
   {
    "duration": 4,
    "start_time": "2025-02-03T00:02:18.472Z"
   },
   {
    "duration": 128,
    "start_time": "2025-02-03T00:02:18.478Z"
   },
   {
    "duration": 3,
    "start_time": "2025-02-03T00:02:18.608Z"
   },
   {
    "duration": 9,
    "start_time": "2025-02-03T00:02:18.612Z"
   },
   {
    "duration": 12,
    "start_time": "2025-02-03T00:02:18.623Z"
   },
   {
    "duration": 143,
    "start_time": "2025-02-03T00:02:18.637Z"
   },
   {
    "duration": 4,
    "start_time": "2025-02-03T00:02:18.782Z"
   },
   {
    "duration": 72,
    "start_time": "2025-02-03T00:02:18.787Z"
   },
   {
    "duration": 2,
    "start_time": "2025-02-03T00:02:18.861Z"
   },
   {
    "duration": 93,
    "start_time": "2025-02-03T00:02:18.865Z"
   },
   {
    "duration": 3,
    "start_time": "2025-02-03T00:02:18.960Z"
   },
   {
    "duration": 11,
    "start_time": "2025-02-03T00:02:18.965Z"
   },
   {
    "duration": 17,
    "start_time": "2025-02-03T00:02:18.978Z"
   },
   {
    "duration": 161,
    "start_time": "2025-02-03T18:10:04.284Z"
   },
   {
    "duration": 2566,
    "start_time": "2025-02-03T18:10:11.623Z"
   },
   {
    "duration": 20,
    "start_time": "2025-02-03T18:10:14.192Z"
   },
   {
    "duration": 8,
    "start_time": "2025-02-03T18:10:14.214Z"
   },
   {
    "duration": 8,
    "start_time": "2025-02-03T18:10:14.223Z"
   },
   {
    "duration": 13,
    "start_time": "2025-02-03T18:10:14.234Z"
   },
   {
    "duration": 7,
    "start_time": "2025-02-03T18:10:14.248Z"
   },
   {
    "duration": 9,
    "start_time": "2025-02-03T18:10:14.257Z"
   },
   {
    "duration": 5,
    "start_time": "2025-02-03T18:10:14.267Z"
   },
   {
    "duration": 4,
    "start_time": "2025-02-03T18:10:14.274Z"
   },
   {
    "duration": 3,
    "start_time": "2025-02-03T18:10:14.279Z"
   },
   {
    "duration": 3,
    "start_time": "2025-02-03T18:10:14.284Z"
   },
   {
    "duration": 5,
    "start_time": "2025-02-03T18:10:14.288Z"
   },
   {
    "duration": 49,
    "start_time": "2025-02-03T18:10:14.295Z"
   },
   {
    "duration": 4,
    "start_time": "2025-02-03T18:10:14.347Z"
   },
   {
    "duration": 6,
    "start_time": "2025-02-03T18:10:14.353Z"
   },
   {
    "duration": 4,
    "start_time": "2025-02-03T18:10:14.360Z"
   },
   {
    "duration": 10,
    "start_time": "2025-02-03T18:10:14.366Z"
   },
   {
    "duration": 5,
    "start_time": "2025-02-03T18:10:14.377Z"
   },
   {
    "duration": 4,
    "start_time": "2025-02-03T18:10:14.383Z"
   },
   {
    "duration": 5,
    "start_time": "2025-02-03T18:10:14.389Z"
   },
   {
    "duration": 53,
    "start_time": "2025-02-03T18:10:14.395Z"
   },
   {
    "duration": 4,
    "start_time": "2025-02-03T18:10:14.450Z"
   },
   {
    "duration": 4,
    "start_time": "2025-02-03T18:10:14.456Z"
   },
   {
    "duration": 8,
    "start_time": "2025-02-03T18:10:14.463Z"
   },
   {
    "duration": 5,
    "start_time": "2025-02-03T18:10:14.472Z"
   },
   {
    "duration": 6,
    "start_time": "2025-02-03T18:10:14.479Z"
   },
   {
    "duration": 4,
    "start_time": "2025-02-03T18:10:14.486Z"
   },
   {
    "duration": 4,
    "start_time": "2025-02-03T18:10:14.491Z"
   },
   {
    "duration": 48,
    "start_time": "2025-02-03T18:10:14.496Z"
   },
   {
    "duration": 5,
    "start_time": "2025-02-03T18:10:14.546Z"
   },
   {
    "duration": 9,
    "start_time": "2025-02-03T18:10:14.553Z"
   },
   {
    "duration": 7,
    "start_time": "2025-02-03T18:10:14.564Z"
   },
   {
    "duration": 186,
    "start_time": "2025-02-03T18:10:14.574Z"
   },
   {
    "duration": 7,
    "start_time": "2025-02-03T18:10:14.762Z"
   },
   {
    "duration": 100,
    "start_time": "2025-02-03T18:10:14.770Z"
   },
   {
    "duration": 7,
    "start_time": "2025-02-03T18:10:14.872Z"
   },
   {
    "duration": 5,
    "start_time": "2025-02-03T18:10:14.881Z"
   },
   {
    "duration": 8,
    "start_time": "2025-02-03T18:10:14.887Z"
   },
   {
    "duration": 259,
    "start_time": "2025-02-03T18:10:14.896Z"
   },
   {
    "duration": 213,
    "start_time": "2025-02-03T18:10:15.157Z"
   },
   {
    "duration": 6,
    "start_time": "2025-02-03T18:10:15.376Z"
   },
   {
    "duration": 7,
    "start_time": "2025-02-03T18:10:15.384Z"
   },
   {
    "duration": 328,
    "start_time": "2025-02-03T18:10:15.393Z"
   },
   {
    "duration": 3,
    "start_time": "2025-02-03T18:10:15.724Z"
   },
   {
    "duration": 16,
    "start_time": "2025-02-03T18:10:15.730Z"
   },
   {
    "duration": 220,
    "start_time": "2025-02-03T18:10:15.747Z"
   },
   {
    "duration": 7,
    "start_time": "2025-02-03T18:10:15.969Z"
   },
   {
    "duration": 7,
    "start_time": "2025-02-03T18:10:15.978Z"
   },
   {
    "duration": 289,
    "start_time": "2025-02-03T18:10:15.987Z"
   },
   {
    "duration": 122,
    "start_time": "2025-02-03T18:10:16.278Z"
   },
   {
    "duration": 2,
    "start_time": "2025-02-03T18:10:16.402Z"
   },
   {
    "duration": 5,
    "start_time": "2025-02-03T18:10:16.406Z"
   },
   {
    "duration": 6,
    "start_time": "2025-02-03T18:10:16.412Z"
   },
   {
    "duration": 207,
    "start_time": "2025-02-03T18:10:16.443Z"
   },
   {
    "duration": 5,
    "start_time": "2025-02-03T18:10:16.652Z"
   },
   {
    "duration": 126,
    "start_time": "2025-02-03T18:10:16.660Z"
   },
   {
    "duration": 3,
    "start_time": "2025-02-03T18:10:16.788Z"
   },
   {
    "duration": 5,
    "start_time": "2025-02-03T18:10:16.793Z"
   },
   {
    "duration": 8,
    "start_time": "2025-02-03T18:10:16.801Z"
   },
   {
    "duration": 159,
    "start_time": "2025-02-03T18:10:16.811Z"
   },
   {
    "duration": 5,
    "start_time": "2025-02-03T18:10:16.972Z"
   },
   {
    "duration": 75,
    "start_time": "2025-02-03T18:10:16.978Z"
   },
   {
    "duration": 3,
    "start_time": "2025-02-03T18:10:17.055Z"
   },
   {
    "duration": 91,
    "start_time": "2025-02-03T18:10:17.061Z"
   },
   {
    "duration": 3,
    "start_time": "2025-02-03T18:10:17.154Z"
   },
   {
    "duration": 7,
    "start_time": "2025-02-03T18:10:17.160Z"
   },
   {
    "duration": 16,
    "start_time": "2025-02-03T18:10:17.169Z"
   },
   {
    "duration": 806,
    "start_time": "2025-02-03T18:40:12.128Z"
   },
   {
    "duration": 23,
    "start_time": "2025-02-03T18:40:12.937Z"
   },
   {
    "duration": 16,
    "start_time": "2025-02-03T18:40:12.969Z"
   },
   {
    "duration": 9,
    "start_time": "2025-02-03T18:40:12.988Z"
   },
   {
    "duration": 9,
    "start_time": "2025-02-03T18:40:12.999Z"
   },
   {
    "duration": 7,
    "start_time": "2025-02-03T18:40:13.010Z"
   },
   {
    "duration": 8,
    "start_time": "2025-02-03T18:40:13.018Z"
   },
   {
    "duration": 15,
    "start_time": "2025-02-03T18:40:13.029Z"
   },
   {
    "duration": 3,
    "start_time": "2025-02-03T18:40:13.045Z"
   },
   {
    "duration": 3,
    "start_time": "2025-02-03T18:40:13.052Z"
   },
   {
    "duration": 3,
    "start_time": "2025-02-03T18:40:13.056Z"
   },
   {
    "duration": 7,
    "start_time": "2025-02-03T18:40:13.061Z"
   },
   {
    "duration": 5,
    "start_time": "2025-02-03T18:40:13.070Z"
   },
   {
    "duration": 5,
    "start_time": "2025-02-03T18:40:13.077Z"
   },
   {
    "duration": 5,
    "start_time": "2025-02-03T18:40:13.083Z"
   },
   {
    "duration": 5,
    "start_time": "2025-02-03T18:40:13.089Z"
   },
   {
    "duration": 49,
    "start_time": "2025-02-03T18:40:13.096Z"
   },
   {
    "duration": 4,
    "start_time": "2025-02-03T18:40:13.147Z"
   },
   {
    "duration": 6,
    "start_time": "2025-02-03T18:40:13.153Z"
   },
   {
    "duration": 5,
    "start_time": "2025-02-03T18:40:13.162Z"
   },
   {
    "duration": 10,
    "start_time": "2025-02-03T18:40:13.170Z"
   },
   {
    "duration": 5,
    "start_time": "2025-02-03T18:40:13.181Z"
   },
   {
    "duration": 3,
    "start_time": "2025-02-03T18:40:13.188Z"
   },
   {
    "duration": 8,
    "start_time": "2025-02-03T18:40:13.192Z"
   },
   {
    "duration": 44,
    "start_time": "2025-02-03T18:40:13.202Z"
   },
   {
    "duration": 6,
    "start_time": "2025-02-03T18:40:13.248Z"
   },
   {
    "duration": 4,
    "start_time": "2025-02-03T18:40:13.256Z"
   },
   {
    "duration": 4,
    "start_time": "2025-02-03T18:40:13.266Z"
   },
   {
    "duration": 8,
    "start_time": "2025-02-03T18:40:13.271Z"
   },
   {
    "duration": 4,
    "start_time": "2025-02-03T18:40:13.281Z"
   },
   {
    "duration": 9,
    "start_time": "2025-02-03T18:40:13.287Z"
   },
   {
    "duration": 48,
    "start_time": "2025-02-03T18:40:13.297Z"
   },
   {
    "duration": 155,
    "start_time": "2025-02-03T18:40:13.346Z"
   },
   {
    "duration": 8,
    "start_time": "2025-02-03T18:40:13.503Z"
   },
   {
    "duration": 102,
    "start_time": "2025-02-03T18:40:13.512Z"
   },
   {
    "duration": 6,
    "start_time": "2025-02-03T18:40:13.616Z"
   },
   {
    "duration": 19,
    "start_time": "2025-02-03T18:40:13.624Z"
   },
   {
    "duration": 6,
    "start_time": "2025-02-03T18:40:13.645Z"
   },
   {
    "duration": 260,
    "start_time": "2025-02-03T18:40:13.653Z"
   },
   {
    "duration": 251,
    "start_time": "2025-02-03T18:40:13.915Z"
   },
   {
    "duration": 6,
    "start_time": "2025-02-03T18:40:14.168Z"
   },
   {
    "duration": 7,
    "start_time": "2025-02-03T18:40:14.177Z"
   },
   {
    "duration": 368,
    "start_time": "2025-02-03T18:40:14.186Z"
   },
   {
    "duration": 5,
    "start_time": "2025-02-03T18:40:14.557Z"
   },
   {
    "duration": 9,
    "start_time": "2025-02-03T18:40:14.563Z"
   },
   {
    "duration": 240,
    "start_time": "2025-02-03T18:40:14.574Z"
   },
   {
    "duration": 7,
    "start_time": "2025-02-03T18:40:14.816Z"
   },
   {
    "duration": 20,
    "start_time": "2025-02-03T18:40:14.824Z"
   },
   {
    "duration": 309,
    "start_time": "2025-02-03T18:40:14.846Z"
   },
   {
    "duration": 129,
    "start_time": "2025-02-03T18:40:15.159Z"
   },
   {
    "duration": 3,
    "start_time": "2025-02-03T18:40:15.289Z"
   },
   {
    "duration": 4,
    "start_time": "2025-02-03T18:40:15.294Z"
   },
   {
    "duration": 6,
    "start_time": "2025-02-03T18:40:15.301Z"
   },
   {
    "duration": 161,
    "start_time": "2025-02-03T18:40:15.309Z"
   },
   {
    "duration": 5,
    "start_time": "2025-02-03T18:40:15.471Z"
   },
   {
    "duration": 135,
    "start_time": "2025-02-03T18:40:15.477Z"
   },
   {
    "duration": 4,
    "start_time": "2025-02-03T18:40:15.613Z"
   },
   {
    "duration": 4,
    "start_time": "2025-02-03T18:40:15.619Z"
   },
   {
    "duration": 20,
    "start_time": "2025-02-03T18:40:15.624Z"
   },
   {
    "duration": 155,
    "start_time": "2025-02-03T18:40:15.646Z"
   },
   {
    "duration": 4,
    "start_time": "2025-02-03T18:40:15.803Z"
   },
   {
    "duration": 72,
    "start_time": "2025-02-03T18:40:15.809Z"
   },
   {
    "duration": 2,
    "start_time": "2025-02-03T18:40:15.883Z"
   },
   {
    "duration": 79,
    "start_time": "2025-02-03T18:40:15.887Z"
   },
   {
    "duration": 2,
    "start_time": "2025-02-03T18:40:15.968Z"
   },
   {
    "duration": 7,
    "start_time": "2025-02-03T18:40:15.971Z"
   },
   {
    "duration": 15,
    "start_time": "2025-02-03T18:40:15.980Z"
   },
   {
    "duration": 17,
    "start_time": "2025-02-03T19:50:29.574Z"
   },
   {
    "duration": 849,
    "start_time": "2025-02-03T20:35:13.093Z"
   },
   {
    "duration": 13,
    "start_time": "2025-02-03T20:35:13.945Z"
   },
   {
    "duration": 9,
    "start_time": "2025-02-03T20:35:13.960Z"
   },
   {
    "duration": 8,
    "start_time": "2025-02-03T20:35:13.972Z"
   },
   {
    "duration": 8,
    "start_time": "2025-02-03T20:35:13.982Z"
   },
   {
    "duration": 7,
    "start_time": "2025-02-03T20:35:13.992Z"
   },
   {
    "duration": 9,
    "start_time": "2025-02-03T20:35:14.001Z"
   },
   {
    "duration": 7,
    "start_time": "2025-02-03T20:35:14.043Z"
   },
   {
    "duration": 4,
    "start_time": "2025-02-03T20:35:14.052Z"
   },
   {
    "duration": 2,
    "start_time": "2025-02-03T20:35:14.060Z"
   },
   {
    "duration": 3,
    "start_time": "2025-02-03T20:35:14.064Z"
   },
   {
    "duration": 7,
    "start_time": "2025-02-03T20:35:14.068Z"
   },
   {
    "duration": 6,
    "start_time": "2025-02-03T20:35:14.076Z"
   },
   {
    "duration": 5,
    "start_time": "2025-02-03T20:35:14.083Z"
   },
   {
    "duration": 5,
    "start_time": "2025-02-03T20:35:14.090Z"
   },
   {
    "duration": 46,
    "start_time": "2025-02-03T20:35:14.097Z"
   },
   {
    "duration": 8,
    "start_time": "2025-02-03T20:35:14.145Z"
   },
   {
    "duration": 5,
    "start_time": "2025-02-03T20:35:14.156Z"
   },
   {
    "duration": 4,
    "start_time": "2025-02-03T20:35:14.163Z"
   },
   {
    "duration": 5,
    "start_time": "2025-02-03T20:35:14.169Z"
   },
   {
    "duration": 13,
    "start_time": "2025-02-03T20:35:14.175Z"
   },
   {
    "duration": 4,
    "start_time": "2025-02-03T20:35:14.190Z"
   },
   {
    "duration": 3,
    "start_time": "2025-02-03T20:35:14.196Z"
   },
   {
    "duration": 8,
    "start_time": "2025-02-03T20:35:14.242Z"
   },
   {
    "duration": 5,
    "start_time": "2025-02-03T20:35:14.251Z"
   },
   {
    "duration": 7,
    "start_time": "2025-02-03T20:35:14.257Z"
   },
   {
    "duration": 3,
    "start_time": "2025-02-03T20:35:14.266Z"
   },
   {
    "duration": 3,
    "start_time": "2025-02-03T20:35:14.274Z"
   },
   {
    "duration": 9,
    "start_time": "2025-02-03T20:35:14.279Z"
   },
   {
    "duration": 3,
    "start_time": "2025-02-03T20:35:14.290Z"
   },
   {
    "duration": 50,
    "start_time": "2025-02-03T20:35:14.295Z"
   },
   {
    "duration": 5,
    "start_time": "2025-02-03T20:35:14.347Z"
   },
   {
    "duration": 157,
    "start_time": "2025-02-03T20:35:14.354Z"
   },
   {
    "duration": 8,
    "start_time": "2025-02-03T20:35:14.513Z"
   },
   {
    "duration": 98,
    "start_time": "2025-02-03T20:35:14.522Z"
   },
   {
    "duration": 6,
    "start_time": "2025-02-03T20:35:14.622Z"
   },
   {
    "duration": 17,
    "start_time": "2025-02-03T20:35:14.630Z"
   },
   {
    "duration": 9,
    "start_time": "2025-02-03T20:35:14.648Z"
   },
   {
    "duration": 244,
    "start_time": "2025-02-03T20:35:14.659Z"
   },
   {
    "duration": 204,
    "start_time": "2025-02-03T20:35:14.905Z"
   },
   {
    "duration": 7,
    "start_time": "2025-02-03T20:35:15.110Z"
   },
   {
    "duration": 26,
    "start_time": "2025-02-03T20:35:15.118Z"
   },
   {
    "duration": 333,
    "start_time": "2025-02-03T20:35:15.145Z"
   },
   {
    "duration": 4,
    "start_time": "2025-02-03T20:35:15.480Z"
   },
   {
    "duration": 9,
    "start_time": "2025-02-03T20:35:15.485Z"
   },
   {
    "duration": 230,
    "start_time": "2025-02-03T20:35:15.495Z"
   },
   {
    "duration": 18,
    "start_time": "2025-02-03T20:35:15.727Z"
   },
   {
    "duration": 8,
    "start_time": "2025-02-03T20:35:15.749Z"
   },
   {
    "duration": 291,
    "start_time": "2025-02-03T20:35:15.760Z"
   },
   {
    "duration": 132,
    "start_time": "2025-02-03T20:35:16.053Z"
   },
   {
    "duration": 3,
    "start_time": "2025-02-03T20:35:16.187Z"
   },
   {
    "duration": 5,
    "start_time": "2025-02-03T20:35:16.192Z"
   },
   {
    "duration": 6,
    "start_time": "2025-02-03T20:35:16.199Z"
   },
   {
    "duration": 156,
    "start_time": "2025-02-03T20:35:16.207Z"
   },
   {
    "duration": 5,
    "start_time": "2025-02-03T20:35:16.365Z"
   },
   {
    "duration": 149,
    "start_time": "2025-02-03T20:35:16.372Z"
   },
   {
    "duration": 3,
    "start_time": "2025-02-03T20:35:16.522Z"
   },
   {
    "duration": 3,
    "start_time": "2025-02-03T20:35:16.543Z"
   },
   {
    "duration": 7,
    "start_time": "2025-02-03T20:35:16.548Z"
   },
   {
    "duration": 150,
    "start_time": "2025-02-03T20:35:16.556Z"
   },
   {
    "duration": 4,
    "start_time": "2025-02-03T20:35:16.708Z"
   },
   {
    "duration": 82,
    "start_time": "2025-02-03T20:35:16.714Z"
   },
   {
    "duration": 3,
    "start_time": "2025-02-03T20:35:16.797Z"
   },
   {
    "duration": 93,
    "start_time": "2025-02-03T20:35:16.802Z"
   },
   {
    "duration": 3,
    "start_time": "2025-02-03T20:35:16.897Z"
   },
   {
    "duration": 6,
    "start_time": "2025-02-03T20:35:16.901Z"
   },
   {
    "duration": 35,
    "start_time": "2025-02-03T20:35:16.909Z"
   },
   {
    "duration": 9,
    "start_time": "2025-02-03T20:36:47.296Z"
   },
   {
    "duration": 8,
    "start_time": "2025-02-03T21:06:49.377Z"
   },
   {
    "duration": 7,
    "start_time": "2025-02-03T21:07:02.124Z"
   },
   {
    "duration": 5,
    "start_time": "2025-02-03T21:07:30.086Z"
   },
   {
    "duration": 10,
    "start_time": "2025-02-03T21:11:05.537Z"
   },
   {
    "duration": 12,
    "start_time": "2025-02-03T21:11:26.351Z"
   },
   {
    "duration": 163,
    "start_time": "2025-02-03T22:18:31.408Z"
   },
   {
    "duration": 2606,
    "start_time": "2025-02-03T22:18:41.405Z"
   },
   {
    "duration": 17,
    "start_time": "2025-02-03T22:18:44.013Z"
   },
   {
    "duration": 9,
    "start_time": "2025-02-03T22:18:44.031Z"
   },
   {
    "duration": 9,
    "start_time": "2025-02-03T22:18:44.042Z"
   },
   {
    "duration": 8,
    "start_time": "2025-02-03T22:18:44.054Z"
   },
   {
    "duration": 7,
    "start_time": "2025-02-03T22:18:44.063Z"
   },
   {
    "duration": 33,
    "start_time": "2025-02-03T22:18:44.072Z"
   },
   {
    "duration": 6,
    "start_time": "2025-02-03T22:18:44.107Z"
   },
   {
    "duration": 4,
    "start_time": "2025-02-03T22:18:44.114Z"
   },
   {
    "duration": 3,
    "start_time": "2025-02-03T22:18:44.119Z"
   },
   {
    "duration": 2,
    "start_time": "2025-02-03T22:18:44.124Z"
   },
   {
    "duration": 5,
    "start_time": "2025-02-03T22:18:44.128Z"
   },
   {
    "duration": 5,
    "start_time": "2025-02-03T22:18:44.135Z"
   },
   {
    "duration": 5,
    "start_time": "2025-02-03T22:18:44.146Z"
   },
   {
    "duration": 8,
    "start_time": "2025-02-03T22:18:44.153Z"
   },
   {
    "duration": 44,
    "start_time": "2025-02-03T22:18:44.163Z"
   },
   {
    "duration": 9,
    "start_time": "2025-02-03T22:18:44.209Z"
   },
   {
    "duration": 5,
    "start_time": "2025-02-03T22:18:44.219Z"
   },
   {
    "duration": 5,
    "start_time": "2025-02-03T22:18:44.226Z"
   },
   {
    "duration": 4,
    "start_time": "2025-02-03T22:18:44.232Z"
   },
   {
    "duration": 11,
    "start_time": "2025-02-03T22:18:44.238Z"
   },
   {
    "duration": 7,
    "start_time": "2025-02-03T22:18:44.250Z"
   },
   {
    "duration": 4,
    "start_time": "2025-02-03T22:18:44.258Z"
   },
   {
    "duration": 43,
    "start_time": "2025-02-03T22:18:44.264Z"
   },
   {
    "duration": 8,
    "start_time": "2025-02-03T22:18:44.309Z"
   },
   {
    "duration": 4,
    "start_time": "2025-02-03T22:18:44.319Z"
   },
   {
    "duration": 6,
    "start_time": "2025-02-03T22:18:44.325Z"
   },
   {
    "duration": 3,
    "start_time": "2025-02-03T22:18:44.333Z"
   },
   {
    "duration": 3,
    "start_time": "2025-02-03T22:18:44.338Z"
   },
   {
    "duration": 8,
    "start_time": "2025-02-03T22:18:44.342Z"
   },
   {
    "duration": 4,
    "start_time": "2025-02-03T22:18:44.351Z"
   },
   {
    "duration": 54,
    "start_time": "2025-02-03T22:18:44.357Z"
   },
   {
    "duration": 5,
    "start_time": "2025-02-03T22:18:44.413Z"
   },
   {
    "duration": 153,
    "start_time": "2025-02-03T22:18:44.420Z"
   },
   {
    "duration": 6,
    "start_time": "2025-02-03T22:18:44.575Z"
   },
   {
    "duration": 98,
    "start_time": "2025-02-03T22:18:44.583Z"
   },
   {
    "duration": 6,
    "start_time": "2025-02-03T22:18:44.682Z"
   },
   {
    "duration": 19,
    "start_time": "2025-02-03T22:18:44.690Z"
   },
   {
    "duration": 8,
    "start_time": "2025-02-03T22:18:44.711Z"
   },
   {
    "duration": 256,
    "start_time": "2025-02-03T22:18:44.721Z"
   },
   {
    "duration": 210,
    "start_time": "2025-02-03T22:18:44.982Z"
   },
   {
    "duration": 12,
    "start_time": "2025-02-03T22:18:45.193Z"
   },
   {
    "duration": 8,
    "start_time": "2025-02-03T22:18:45.206Z"
   },
   {
    "duration": 303,
    "start_time": "2025-02-03T22:18:45.216Z"
   },
   {
    "duration": 4,
    "start_time": "2025-02-03T22:18:45.522Z"
   },
   {
    "duration": 9,
    "start_time": "2025-02-03T22:18:45.528Z"
   },
   {
    "duration": 230,
    "start_time": "2025-02-03T22:18:45.538Z"
   },
   {
    "duration": 6,
    "start_time": "2025-02-03T22:18:45.770Z"
   },
   {
    "duration": 7,
    "start_time": "2025-02-03T22:18:45.777Z"
   },
   {
    "duration": 307,
    "start_time": "2025-02-03T22:18:45.785Z"
   },
   {
    "duration": 138,
    "start_time": "2025-02-03T22:18:46.094Z"
   },
   {
    "duration": 2,
    "start_time": "2025-02-03T22:18:46.234Z"
   },
   {
    "duration": 4,
    "start_time": "2025-02-03T22:18:46.238Z"
   },
   {
    "duration": 7,
    "start_time": "2025-02-03T22:18:46.244Z"
   },
   {
    "duration": 164,
    "start_time": "2025-02-03T22:18:46.252Z"
   },
   {
    "duration": 6,
    "start_time": "2025-02-03T22:18:46.419Z"
   },
   {
    "duration": 136,
    "start_time": "2025-02-03T22:18:46.426Z"
   },
   {
    "duration": 3,
    "start_time": "2025-02-03T22:18:46.564Z"
   },
   {
    "duration": 4,
    "start_time": "2025-02-03T22:18:46.569Z"
   },
   {
    "duration": 6,
    "start_time": "2025-02-03T22:18:46.574Z"
   },
   {
    "duration": 140,
    "start_time": "2025-02-03T22:18:46.605Z"
   },
   {
    "duration": 6,
    "start_time": "2025-02-03T22:18:46.746Z"
   },
   {
    "duration": 75,
    "start_time": "2025-02-03T22:18:46.754Z"
   },
   {
    "duration": 2,
    "start_time": "2025-02-03T22:18:46.831Z"
   },
   {
    "duration": 87,
    "start_time": "2025-02-03T22:18:46.835Z"
   },
   {
    "duration": 3,
    "start_time": "2025-02-03T22:18:46.923Z"
   },
   {
    "duration": 6,
    "start_time": "2025-02-03T22:18:46.928Z"
   },
   {
    "duration": 16,
    "start_time": "2025-02-03T22:18:46.935Z"
   },
   {
    "duration": 817,
    "start_time": "2025-02-03T22:24:41.350Z"
   },
   {
    "duration": 11,
    "start_time": "2025-02-03T22:24:42.168Z"
   },
   {
    "duration": 8,
    "start_time": "2025-02-03T22:24:42.181Z"
   },
   {
    "duration": 20,
    "start_time": "2025-02-03T22:24:42.191Z"
   },
   {
    "duration": 9,
    "start_time": "2025-02-03T22:24:42.214Z"
   },
   {
    "duration": 7,
    "start_time": "2025-02-03T22:24:42.225Z"
   },
   {
    "duration": 9,
    "start_time": "2025-02-03T22:24:42.234Z"
   },
   {
    "duration": 6,
    "start_time": "2025-02-03T22:24:42.244Z"
   },
   {
    "duration": 3,
    "start_time": "2025-02-03T22:24:42.252Z"
   },
   {
    "duration": 3,
    "start_time": "2025-02-03T22:24:42.257Z"
   },
   {
    "duration": 3,
    "start_time": "2025-02-03T22:24:42.261Z"
   },
   {
    "duration": 5,
    "start_time": "2025-02-03T22:24:42.306Z"
   },
   {
    "duration": 6,
    "start_time": "2025-02-03T22:24:42.313Z"
   },
   {
    "duration": 4,
    "start_time": "2025-02-03T22:24:42.322Z"
   },
   {
    "duration": 5,
    "start_time": "2025-02-03T22:24:42.327Z"
   },
   {
    "duration": 5,
    "start_time": "2025-02-03T22:24:42.334Z"
   },
   {
    "duration": 8,
    "start_time": "2025-02-03T22:24:42.340Z"
   },
   {
    "duration": 4,
    "start_time": "2025-02-03T22:24:42.350Z"
   },
   {
    "duration": 49,
    "start_time": "2025-02-03T22:24:42.356Z"
   },
   {
    "duration": 6,
    "start_time": "2025-02-03T22:24:42.408Z"
   },
   {
    "duration": 18,
    "start_time": "2025-02-03T22:24:42.415Z"
   },
   {
    "duration": 8,
    "start_time": "2025-02-03T22:24:42.435Z"
   },
   {
    "duration": 6,
    "start_time": "2025-02-03T22:24:42.445Z"
   },
   {
    "duration": 4,
    "start_time": "2025-02-03T22:24:42.453Z"
   },
   {
    "duration": 8,
    "start_time": "2025-02-03T22:24:42.459Z"
   },
   {
    "duration": 39,
    "start_time": "2025-02-03T22:24:42.469Z"
   },
   {
    "duration": 8,
    "start_time": "2025-02-03T22:24:42.510Z"
   },
   {
    "duration": 4,
    "start_time": "2025-02-03T22:24:42.520Z"
   },
   {
    "duration": 3,
    "start_time": "2025-02-03T22:24:42.526Z"
   },
   {
    "duration": 7,
    "start_time": "2025-02-03T22:24:42.531Z"
   },
   {
    "duration": 4,
    "start_time": "2025-02-03T22:24:42.540Z"
   },
   {
    "duration": 8,
    "start_time": "2025-02-03T22:24:42.545Z"
   },
   {
    "duration": 6,
    "start_time": "2025-02-03T22:24:42.554Z"
   },
   {
    "duration": 198,
    "start_time": "2025-02-03T22:24:42.562Z"
   },
   {
    "duration": 6,
    "start_time": "2025-02-03T22:24:42.762Z"
   },
   {
    "duration": 96,
    "start_time": "2025-02-03T22:24:42.770Z"
   },
   {
    "duration": 8,
    "start_time": "2025-02-03T22:24:42.868Z"
   },
   {
    "duration": 5,
    "start_time": "2025-02-03T22:24:42.878Z"
   },
   {
    "duration": 21,
    "start_time": "2025-02-03T22:24:42.885Z"
   },
   {
    "duration": 249,
    "start_time": "2025-02-03T22:24:42.908Z"
   },
   {
    "duration": 202,
    "start_time": "2025-02-03T22:24:43.162Z"
   },
   {
    "duration": 6,
    "start_time": "2025-02-03T22:24:43.366Z"
   },
   {
    "duration": 8,
    "start_time": "2025-02-03T22:24:43.374Z"
   },
   {
    "duration": 330,
    "start_time": "2025-02-03T22:24:43.385Z"
   },
   {
    "duration": 4,
    "start_time": "2025-02-03T22:24:43.717Z"
   },
   {
    "duration": 8,
    "start_time": "2025-02-03T22:24:43.723Z"
   },
   {
    "duration": 218,
    "start_time": "2025-02-03T22:24:43.733Z"
   },
   {
    "duration": 7,
    "start_time": "2025-02-03T22:24:43.953Z"
   },
   {
    "duration": 7,
    "start_time": "2025-02-03T22:24:43.961Z"
   },
   {
    "duration": 335,
    "start_time": "2025-02-03T22:24:43.970Z"
   },
   {
    "duration": 125,
    "start_time": "2025-02-03T22:24:44.307Z"
   },
   {
    "duration": 3,
    "start_time": "2025-02-03T22:24:44.434Z"
   },
   {
    "duration": 4,
    "start_time": "2025-02-03T22:24:44.439Z"
   },
   {
    "duration": 10,
    "start_time": "2025-02-03T22:24:44.444Z"
   },
   {
    "duration": 155,
    "start_time": "2025-02-03T22:24:44.456Z"
   },
   {
    "duration": 5,
    "start_time": "2025-02-03T22:24:44.613Z"
   },
   {
    "duration": 131,
    "start_time": "2025-02-03T22:24:44.620Z"
   },
   {
    "duration": 4,
    "start_time": "2025-02-03T22:24:44.752Z"
   },
   {
    "duration": 4,
    "start_time": "2025-02-03T22:24:44.757Z"
   },
   {
    "duration": 6,
    "start_time": "2025-02-03T22:24:44.763Z"
   },
   {
    "duration": 165,
    "start_time": "2025-02-03T22:24:44.771Z"
   },
   {
    "duration": 4,
    "start_time": "2025-02-03T22:24:44.938Z"
   },
   {
    "duration": 73,
    "start_time": "2025-02-03T22:24:44.944Z"
   },
   {
    "duration": 3,
    "start_time": "2025-02-03T22:24:45.019Z"
   },
   {
    "duration": 88,
    "start_time": "2025-02-03T22:24:45.024Z"
   },
   {
    "duration": 3,
    "start_time": "2025-02-03T22:24:45.114Z"
   },
   {
    "duration": 10,
    "start_time": "2025-02-03T22:24:45.120Z"
   },
   {
    "duration": 17,
    "start_time": "2025-02-03T22:24:45.132Z"
   },
   {
    "duration": 10,
    "start_time": "2025-02-03T22:25:34.392Z"
   },
   {
    "duration": 801,
    "start_time": "2025-02-03T22:27:22.876Z"
   },
   {
    "duration": 11,
    "start_time": "2025-02-03T22:27:23.679Z"
   },
   {
    "duration": 14,
    "start_time": "2025-02-03T22:27:23.692Z"
   },
   {
    "duration": 8,
    "start_time": "2025-02-03T22:27:23.709Z"
   },
   {
    "duration": 9,
    "start_time": "2025-02-03T22:27:23.718Z"
   },
   {
    "duration": 7,
    "start_time": "2025-02-03T22:27:23.728Z"
   },
   {
    "duration": 8,
    "start_time": "2025-02-03T22:27:23.737Z"
   },
   {
    "duration": 5,
    "start_time": "2025-02-03T22:27:23.746Z"
   },
   {
    "duration": 4,
    "start_time": "2025-02-03T22:27:23.752Z"
   },
   {
    "duration": 2,
    "start_time": "2025-02-03T22:27:23.760Z"
   },
   {
    "duration": 43,
    "start_time": "2025-02-03T22:27:23.764Z"
   },
   {
    "duration": 6,
    "start_time": "2025-02-03T22:27:23.809Z"
   },
   {
    "duration": 5,
    "start_time": "2025-02-03T22:27:23.817Z"
   },
   {
    "duration": 5,
    "start_time": "2025-02-03T22:27:23.823Z"
   },
   {
    "duration": 5,
    "start_time": "2025-02-03T22:27:23.829Z"
   },
   {
    "duration": 4,
    "start_time": "2025-02-03T22:27:23.836Z"
   },
   {
    "duration": 8,
    "start_time": "2025-02-03T22:27:23.841Z"
   },
   {
    "duration": 4,
    "start_time": "2025-02-03T22:27:23.851Z"
   },
   {
    "duration": 51,
    "start_time": "2025-02-03T22:27:23.857Z"
   },
   {
    "duration": 5,
    "start_time": "2025-02-03T22:27:23.910Z"
   },
   {
    "duration": 11,
    "start_time": "2025-02-03T22:27:23.917Z"
   },
   {
    "duration": 7,
    "start_time": "2025-02-03T22:27:23.930Z"
   },
   {
    "duration": 5,
    "start_time": "2025-02-03T22:27:23.938Z"
   },
   {
    "duration": 3,
    "start_time": "2025-02-03T22:27:23.945Z"
   },
   {
    "duration": 7,
    "start_time": "2025-02-03T22:27:23.949Z"
   },
   {
    "duration": 48,
    "start_time": "2025-02-03T22:27:23.958Z"
   },
   {
    "duration": 7,
    "start_time": "2025-02-03T22:27:24.008Z"
   },
   {
    "duration": 3,
    "start_time": "2025-02-03T22:27:24.021Z"
   },
   {
    "duration": 3,
    "start_time": "2025-02-03T22:27:24.026Z"
   },
   {
    "duration": 8,
    "start_time": "2025-02-03T22:27:24.031Z"
   },
   {
    "duration": 5,
    "start_time": "2025-02-03T22:27:24.040Z"
   },
   {
    "duration": 9,
    "start_time": "2025-02-03T22:27:24.046Z"
   },
   {
    "duration": 5,
    "start_time": "2025-02-03T22:27:24.057Z"
   },
   {
    "duration": 211,
    "start_time": "2025-02-03T22:27:24.063Z"
   },
   {
    "duration": 8,
    "start_time": "2025-02-03T22:27:24.276Z"
   },
   {
    "duration": 110,
    "start_time": "2025-02-03T22:27:24.286Z"
   },
   {
    "duration": 12,
    "start_time": "2025-02-03T22:27:24.398Z"
   },
   {
    "duration": 5,
    "start_time": "2025-02-03T22:27:24.413Z"
   },
   {
    "duration": 7,
    "start_time": "2025-02-03T22:27:24.419Z"
   },
   {
    "duration": 246,
    "start_time": "2025-02-03T22:27:24.428Z"
   },
   {
    "duration": 209,
    "start_time": "2025-02-03T22:27:24.676Z"
   },
   {
    "duration": 5,
    "start_time": "2025-02-03T22:27:24.887Z"
   },
   {
    "duration": 18,
    "start_time": "2025-02-03T22:27:24.894Z"
   },
   {
    "duration": 317,
    "start_time": "2025-02-03T22:27:24.913Z"
   },
   {
    "duration": 5,
    "start_time": "2025-02-03T22:27:25.231Z"
   },
   {
    "duration": 8,
    "start_time": "2025-02-03T22:27:25.237Z"
   },
   {
    "duration": 240,
    "start_time": "2025-02-03T22:27:25.247Z"
   },
   {
    "duration": 16,
    "start_time": "2025-02-03T22:27:25.489Z"
   },
   {
    "duration": 7,
    "start_time": "2025-02-03T22:27:25.507Z"
   },
   {
    "duration": 294,
    "start_time": "2025-02-03T22:27:25.516Z"
   },
   {
    "duration": 132,
    "start_time": "2025-02-03T22:27:25.812Z"
   },
   {
    "duration": 3,
    "start_time": "2025-02-03T22:27:25.946Z"
   },
   {
    "duration": 4,
    "start_time": "2025-02-03T22:27:25.951Z"
   },
   {
    "duration": 6,
    "start_time": "2025-02-03T22:27:25.956Z"
   },
   {
    "duration": 160,
    "start_time": "2025-02-03T22:27:25.964Z"
   },
   {
    "duration": 4,
    "start_time": "2025-02-03T22:27:26.127Z"
   },
   {
    "duration": 133,
    "start_time": "2025-02-03T22:27:26.132Z"
   },
   {
    "duration": 3,
    "start_time": "2025-02-03T22:27:26.266Z"
   },
   {
    "duration": 4,
    "start_time": "2025-02-03T22:27:26.270Z"
   },
   {
    "duration": 30,
    "start_time": "2025-02-03T22:27:26.275Z"
   },
   {
    "duration": 137,
    "start_time": "2025-02-03T22:27:26.307Z"
   },
   {
    "duration": 5,
    "start_time": "2025-02-03T22:27:26.446Z"
   },
   {
    "duration": 83,
    "start_time": "2025-02-03T22:27:26.453Z"
   },
   {
    "duration": 4,
    "start_time": "2025-02-03T22:27:26.538Z"
   },
   {
    "duration": 86,
    "start_time": "2025-02-03T22:27:26.543Z"
   },
   {
    "duration": 2,
    "start_time": "2025-02-03T22:27:26.630Z"
   },
   {
    "duration": 6,
    "start_time": "2025-02-03T22:27:26.634Z"
   },
   {
    "duration": 16,
    "start_time": "2025-02-03T22:27:26.642Z"
   },
   {
    "duration": 409,
    "start_time": "2025-02-03T22:45:53.778Z"
   },
   {
    "duration": 162,
    "start_time": "2025-02-03T22:46:41.284Z"
   },
   {
    "duration": 144,
    "start_time": "2025-02-03T22:48:05.844Z"
   },
   {
    "duration": 146,
    "start_time": "2025-02-03T22:48:11.915Z"
   },
   {
    "duration": 156,
    "start_time": "2025-02-03T22:48:18.583Z"
   },
   {
    "duration": 155,
    "start_time": "2025-02-03T22:48:22.142Z"
   },
   {
    "duration": 14,
    "start_time": "2025-02-03T23:47:05.474Z"
   },
   {
    "duration": 91,
    "start_time": "2025-02-03T23:47:12.649Z"
   },
   {
    "duration": 10,
    "start_time": "2025-02-04T00:22:00.032Z"
   },
   {
    "duration": 7,
    "start_time": "2025-02-04T00:42:09.074Z"
   },
   {
    "duration": 7,
    "start_time": "2025-02-04T00:42:22.737Z"
   },
   {
    "duration": 5,
    "start_time": "2025-02-04T00:42:37.195Z"
   },
   {
    "duration": 4,
    "start_time": "2025-02-04T00:43:04.040Z"
   },
   {
    "duration": 5,
    "start_time": "2025-02-04T00:43:08.008Z"
   },
   {
    "duration": 3,
    "start_time": "2025-02-04T00:44:12.373Z"
   },
   {
    "duration": 4,
    "start_time": "2025-02-04T00:47:23.174Z"
   },
   {
    "duration": 6,
    "start_time": "2025-02-04T00:49:38.852Z"
   },
   {
    "duration": 6,
    "start_time": "2025-02-04T00:49:41.561Z"
   },
   {
    "duration": 5,
    "start_time": "2025-02-04T00:49:50.187Z"
   },
   {
    "duration": 4,
    "start_time": "2025-02-04T00:50:01.180Z"
   },
   {
    "duration": 5,
    "start_time": "2025-02-04T00:51:28.288Z"
   },
   {
    "duration": 3,
    "start_time": "2025-02-04T00:52:01.223Z"
   },
   {
    "duration": 3,
    "start_time": "2025-02-04T00:52:07.445Z"
   },
   {
    "duration": 4,
    "start_time": "2025-02-04T00:52:32.235Z"
   },
   {
    "duration": 8,
    "start_time": "2025-02-04T01:07:19.354Z"
   },
   {
    "duration": 7,
    "start_time": "2025-02-04T01:09:31.880Z"
   },
   {
    "duration": 16,
    "start_time": "2025-02-04T01:10:23.723Z"
   },
   {
    "duration": 11,
    "start_time": "2025-02-04T01:26:15.259Z"
   },
   {
    "duration": 895,
    "start_time": "2025-02-04T02:26:55.215Z"
   },
   {
    "duration": 14,
    "start_time": "2025-02-04T02:26:56.113Z"
   },
   {
    "duration": 8,
    "start_time": "2025-02-04T02:26:56.128Z"
   },
   {
    "duration": 9,
    "start_time": "2025-02-04T02:26:56.138Z"
   },
   {
    "duration": 8,
    "start_time": "2025-02-04T02:26:56.149Z"
   },
   {
    "duration": 7,
    "start_time": "2025-02-04T02:26:56.159Z"
   },
   {
    "duration": 9,
    "start_time": "2025-02-04T02:26:56.167Z"
   },
   {
    "duration": 5,
    "start_time": "2025-02-04T02:26:56.206Z"
   },
   {
    "duration": 4,
    "start_time": "2025-02-04T02:26:56.213Z"
   },
   {
    "duration": 3,
    "start_time": "2025-02-04T02:26:56.218Z"
   },
   {
    "duration": 3,
    "start_time": "2025-02-04T02:26:56.223Z"
   },
   {
    "duration": 5,
    "start_time": "2025-02-04T02:26:56.227Z"
   },
   {
    "duration": 5,
    "start_time": "2025-02-04T02:26:56.234Z"
   },
   {
    "duration": 4,
    "start_time": "2025-02-04T02:26:56.242Z"
   },
   {
    "duration": 5,
    "start_time": "2025-02-04T02:26:56.248Z"
   },
   {
    "duration": 4,
    "start_time": "2025-02-04T02:26:56.254Z"
   },
   {
    "duration": 52,
    "start_time": "2025-02-04T02:26:56.259Z"
   },
   {
    "duration": 4,
    "start_time": "2025-02-04T02:26:56.313Z"
   },
   {
    "duration": 4,
    "start_time": "2025-02-04T02:26:56.319Z"
   },
   {
    "duration": 4,
    "start_time": "2025-02-04T02:26:56.325Z"
   },
   {
    "duration": 12,
    "start_time": "2025-02-04T02:26:56.331Z"
   },
   {
    "duration": 6,
    "start_time": "2025-02-04T02:26:56.345Z"
   },
   {
    "duration": 4,
    "start_time": "2025-02-04T02:26:56.353Z"
   },
   {
    "duration": 3,
    "start_time": "2025-02-04T02:26:56.359Z"
   },
   {
    "duration": 45,
    "start_time": "2025-02-04T02:26:56.363Z"
   },
   {
    "duration": 4,
    "start_time": "2025-02-04T02:26:56.410Z"
   },
   {
    "duration": 8,
    "start_time": "2025-02-04T02:26:56.416Z"
   },
   {
    "duration": 4,
    "start_time": "2025-02-04T02:26:56.426Z"
   },
   {
    "duration": 4,
    "start_time": "2025-02-04T02:26:56.431Z"
   },
   {
    "duration": 8,
    "start_time": "2025-02-04T02:26:56.436Z"
   },
   {
    "duration": 3,
    "start_time": "2025-02-04T02:26:56.445Z"
   },
   {
    "duration": 10,
    "start_time": "2025-02-04T02:26:56.450Z"
   },
   {
    "duration": 48,
    "start_time": "2025-02-04T02:26:56.461Z"
   },
   {
    "duration": 162,
    "start_time": "2025-02-04T02:26:56.511Z"
   },
   {
    "duration": 8,
    "start_time": "2025-02-04T02:26:56.674Z"
   },
   {
    "duration": 107,
    "start_time": "2025-02-04T02:26:56.684Z"
   },
   {
    "duration": 13,
    "start_time": "2025-02-04T02:26:56.793Z"
   },
   {
    "duration": 6,
    "start_time": "2025-02-04T02:26:56.808Z"
   },
   {
    "duration": 10,
    "start_time": "2025-02-04T02:26:56.816Z"
   },
   {
    "duration": 273,
    "start_time": "2025-02-04T02:26:56.828Z"
   },
   {
    "duration": 205,
    "start_time": "2025-02-04T02:26:57.107Z"
   },
   {
    "duration": 6,
    "start_time": "2025-02-04T02:26:57.314Z"
   },
   {
    "duration": 8,
    "start_time": "2025-02-04T02:26:57.321Z"
   },
   {
    "duration": 374,
    "start_time": "2025-02-04T02:26:57.331Z"
   },
   {
    "duration": 4,
    "start_time": "2025-02-04T02:26:57.707Z"
   },
   {
    "duration": 8,
    "start_time": "2025-02-04T02:26:57.712Z"
   },
   {
    "duration": 227,
    "start_time": "2025-02-04T02:26:57.721Z"
   },
   {
    "duration": 9,
    "start_time": "2025-02-04T02:26:57.950Z"
   },
   {
    "duration": 7,
    "start_time": "2025-02-04T02:26:57.961Z"
   },
   {
    "duration": 301,
    "start_time": "2025-02-04T02:26:57.969Z"
   },
   {
    "duration": 136,
    "start_time": "2025-02-04T02:26:58.272Z"
   },
   {
    "duration": 3,
    "start_time": "2025-02-04T02:26:58.410Z"
   },
   {
    "duration": 5,
    "start_time": "2025-02-04T02:26:58.414Z"
   },
   {
    "duration": 7,
    "start_time": "2025-02-04T02:26:58.420Z"
   },
   {
    "duration": 156,
    "start_time": "2025-02-04T02:26:58.428Z"
   },
   {
    "duration": 5,
    "start_time": "2025-02-04T02:26:58.586Z"
   },
   {
    "duration": 12,
    "start_time": "2025-02-04T02:26:58.593Z"
   },
   {
    "duration": 3,
    "start_time": "2025-02-04T02:26:58.606Z"
   },
   {
    "duration": 2,
    "start_time": "2025-02-04T02:26:58.611Z"
   },
   {
    "duration": 2,
    "start_time": "2025-02-04T02:26:58.615Z"
   },
   {
    "duration": 176,
    "start_time": "2025-02-04T02:26:58.619Z"
   },
   {
    "duration": 5,
    "start_time": "2025-02-04T02:26:58.805Z"
   },
   {
    "duration": 60,
    "start_time": "2025-02-04T02:26:58.812Z"
   },
   {
    "duration": 3,
    "start_time": "2025-02-04T02:26:58.874Z"
   },
   {
    "duration": 92,
    "start_time": "2025-02-04T02:26:58.879Z"
   },
   {
    "duration": 3,
    "start_time": "2025-02-04T02:26:58.973Z"
   },
   {
    "duration": 27,
    "start_time": "2025-02-04T02:26:58.978Z"
   },
   {
    "duration": 21,
    "start_time": "2025-02-04T02:26:59.007Z"
   },
   {
    "duration": 9,
    "start_time": "2025-02-04T02:26:59.030Z"
   },
   {
    "duration": 8,
    "start_time": "2025-02-04T02:26:59.040Z"
   },
   {
    "duration": 5,
    "start_time": "2025-02-04T02:26:59.050Z"
   },
   {
    "duration": 3,
    "start_time": "2025-02-04T02:26:59.057Z"
   },
   {
    "duration": 8,
    "start_time": "2025-02-04T02:26:59.062Z"
   },
   {
    "duration": 17,
    "start_time": "2025-02-04T02:26:59.104Z"
   },
   {
    "duration": 10,
    "start_time": "2025-02-04T02:26:59.123Z"
   },
   {
    "duration": 161,
    "start_time": "2025-02-04T23:15:20.104Z"
   },
   {
    "duration": 2549,
    "start_time": "2025-02-04T23:15:28.376Z"
   },
   {
    "duration": 20,
    "start_time": "2025-02-04T23:15:30.928Z"
   },
   {
    "duration": 9,
    "start_time": "2025-02-04T23:15:30.949Z"
   },
   {
    "duration": 8,
    "start_time": "2025-02-04T23:15:30.960Z"
   },
   {
    "duration": 7,
    "start_time": "2025-02-04T23:15:30.970Z"
   },
   {
    "duration": 7,
    "start_time": "2025-02-04T23:15:30.979Z"
   },
   {
    "duration": 28,
    "start_time": "2025-02-04T23:15:30.987Z"
   },
   {
    "duration": 6,
    "start_time": "2025-02-04T23:15:31.016Z"
   },
   {
    "duration": 3,
    "start_time": "2025-02-04T23:15:31.024Z"
   },
   {
    "duration": 3,
    "start_time": "2025-02-04T23:15:31.030Z"
   },
   {
    "duration": 3,
    "start_time": "2025-02-04T23:15:31.034Z"
   },
   {
    "duration": 7,
    "start_time": "2025-02-04T23:15:31.039Z"
   },
   {
    "duration": 6,
    "start_time": "2025-02-04T23:15:31.047Z"
   },
   {
    "duration": 4,
    "start_time": "2025-02-04T23:15:31.054Z"
   },
   {
    "duration": 5,
    "start_time": "2025-02-04T23:15:31.060Z"
   },
   {
    "duration": 49,
    "start_time": "2025-02-04T23:15:31.066Z"
   },
   {
    "duration": 8,
    "start_time": "2025-02-04T23:15:31.116Z"
   },
   {
    "duration": 5,
    "start_time": "2025-02-04T23:15:31.126Z"
   },
   {
    "duration": 5,
    "start_time": "2025-02-04T23:15:31.132Z"
   },
   {
    "duration": 5,
    "start_time": "2025-02-04T23:15:31.138Z"
   },
   {
    "duration": 12,
    "start_time": "2025-02-04T23:15:31.144Z"
   },
   {
    "duration": 7,
    "start_time": "2025-02-04T23:15:31.158Z"
   },
   {
    "duration": 5,
    "start_time": "2025-02-04T23:15:31.166Z"
   },
   {
    "duration": 3,
    "start_time": "2025-02-04T23:15:31.212Z"
   },
   {
    "duration": 8,
    "start_time": "2025-02-04T23:15:31.217Z"
   },
   {
    "duration": 5,
    "start_time": "2025-02-04T23:15:31.226Z"
   },
   {
    "duration": 8,
    "start_time": "2025-02-04T23:15:31.232Z"
   },
   {
    "duration": 3,
    "start_time": "2025-02-04T23:15:31.246Z"
   },
   {
    "duration": 5,
    "start_time": "2025-02-04T23:15:31.251Z"
   },
   {
    "duration": 9,
    "start_time": "2025-02-04T23:15:31.257Z"
   },
   {
    "duration": 3,
    "start_time": "2025-02-04T23:15:31.268Z"
   },
   {
    "duration": 10,
    "start_time": "2025-02-04T23:15:31.312Z"
   },
   {
    "duration": 5,
    "start_time": "2025-02-04T23:15:31.324Z"
   },
   {
    "duration": 164,
    "start_time": "2025-02-04T23:15:31.330Z"
   },
   {
    "duration": 15,
    "start_time": "2025-02-04T23:15:31.496Z"
   },
   {
    "duration": 105,
    "start_time": "2025-02-04T23:15:31.512Z"
   },
   {
    "duration": 6,
    "start_time": "2025-02-04T23:15:31.618Z"
   },
   {
    "duration": 6,
    "start_time": "2025-02-04T23:15:31.625Z"
   },
   {
    "duration": 9,
    "start_time": "2025-02-04T23:15:31.632Z"
   },
   {
    "duration": 241,
    "start_time": "2025-02-04T23:15:31.643Z"
   },
   {
    "duration": 197,
    "start_time": "2025-02-04T23:15:31.886Z"
   },
   {
    "duration": 7,
    "start_time": "2025-02-04T23:15:32.085Z"
   },
   {
    "duration": 9,
    "start_time": "2025-02-04T23:15:32.093Z"
   },
   {
    "duration": 329,
    "start_time": "2025-02-04T23:15:32.113Z"
   },
   {
    "duration": 3,
    "start_time": "2025-02-04T23:15:32.444Z"
   },
   {
    "duration": 9,
    "start_time": "2025-02-04T23:15:32.450Z"
   },
   {
    "duration": 227,
    "start_time": "2025-02-04T23:15:32.460Z"
   },
   {
    "duration": 7,
    "start_time": "2025-02-04T23:15:32.689Z"
   },
   {
    "duration": 16,
    "start_time": "2025-02-04T23:15:32.698Z"
   },
   {
    "duration": 287,
    "start_time": "2025-02-04T23:15:32.716Z"
   },
   {
    "duration": 122,
    "start_time": "2025-02-04T23:15:33.012Z"
   },
   {
    "duration": 3,
    "start_time": "2025-02-04T23:15:33.136Z"
   },
   {
    "duration": 3,
    "start_time": "2025-02-04T23:15:33.142Z"
   },
   {
    "duration": 6,
    "start_time": "2025-02-04T23:15:33.147Z"
   },
   {
    "duration": 209,
    "start_time": "2025-02-04T23:15:33.155Z"
   },
   {
    "duration": 4,
    "start_time": "2025-02-04T23:15:33.366Z"
   },
   {
    "duration": 176,
    "start_time": "2025-02-04T23:15:33.372Z"
   },
   {
    "duration": 4,
    "start_time": "2025-02-04T23:15:33.549Z"
   },
   {
    "duration": 76,
    "start_time": "2025-02-04T23:15:33.555Z"
   },
   {
    "duration": 2,
    "start_time": "2025-02-04T23:15:33.632Z"
   },
   {
    "duration": 89,
    "start_time": "2025-02-04T23:15:33.636Z"
   },
   {
    "duration": 2,
    "start_time": "2025-02-04T23:15:33.726Z"
   },
   {
    "duration": 5,
    "start_time": "2025-02-04T23:15:33.730Z"
   },
   {
    "duration": 16,
    "start_time": "2025-02-04T23:15:33.736Z"
   },
   {
    "duration": 8,
    "start_time": "2025-02-04T23:15:33.753Z"
   },
   {
    "duration": 6,
    "start_time": "2025-02-04T23:15:33.763Z"
   },
   {
    "duration": 4,
    "start_time": "2025-02-04T23:15:33.771Z"
   },
   {
    "duration": 35,
    "start_time": "2025-02-04T23:15:33.777Z"
   },
   {
    "duration": 7,
    "start_time": "2025-02-04T23:15:33.814Z"
   },
   {
    "duration": 16,
    "start_time": "2025-02-04T23:15:33.822Z"
   },
   {
    "duration": 10,
    "start_time": "2025-02-04T23:15:33.839Z"
   },
   {
    "duration": 843,
    "start_time": "2025-02-04T23:16:42.748Z"
   },
   {
    "duration": 11,
    "start_time": "2025-02-04T23:16:43.593Z"
   },
   {
    "duration": 13,
    "start_time": "2025-02-04T23:16:43.605Z"
   },
   {
    "duration": 9,
    "start_time": "2025-02-04T23:16:43.620Z"
   },
   {
    "duration": 8,
    "start_time": "2025-02-04T23:16:43.630Z"
   },
   {
    "duration": 7,
    "start_time": "2025-02-04T23:16:43.639Z"
   },
   {
    "duration": 8,
    "start_time": "2025-02-04T23:16:43.648Z"
   },
   {
    "duration": 7,
    "start_time": "2025-02-04T23:16:43.657Z"
   },
   {
    "duration": 4,
    "start_time": "2025-02-04T23:16:43.665Z"
   },
   {
    "duration": 3,
    "start_time": "2025-02-04T23:16:43.712Z"
   },
   {
    "duration": 4,
    "start_time": "2025-02-04T23:16:43.716Z"
   },
   {
    "duration": 6,
    "start_time": "2025-02-04T23:16:43.721Z"
   },
   {
    "duration": 5,
    "start_time": "2025-02-04T23:16:43.729Z"
   },
   {
    "duration": 5,
    "start_time": "2025-02-04T23:16:43.735Z"
   },
   {
    "duration": 5,
    "start_time": "2025-02-04T23:16:43.742Z"
   },
   {
    "duration": 5,
    "start_time": "2025-02-04T23:16:43.748Z"
   },
   {
    "duration": 8,
    "start_time": "2025-02-04T23:16:43.754Z"
   },
   {
    "duration": 49,
    "start_time": "2025-02-04T23:16:43.764Z"
   },
   {
    "duration": 4,
    "start_time": "2025-02-04T23:16:43.815Z"
   },
   {
    "duration": 4,
    "start_time": "2025-02-04T23:16:43.821Z"
   },
   {
    "duration": 13,
    "start_time": "2025-02-04T23:16:43.827Z"
   },
   {
    "duration": 7,
    "start_time": "2025-02-04T23:16:43.841Z"
   },
   {
    "duration": 5,
    "start_time": "2025-02-04T23:16:43.849Z"
   },
   {
    "duration": 3,
    "start_time": "2025-02-04T23:16:43.856Z"
   },
   {
    "duration": 8,
    "start_time": "2025-02-04T23:16:43.861Z"
   },
   {
    "duration": 43,
    "start_time": "2025-02-04T23:16:43.870Z"
   },
   {
    "duration": 7,
    "start_time": "2025-02-04T23:16:43.915Z"
   },
   {
    "duration": 4,
    "start_time": "2025-02-04T23:16:43.927Z"
   },
   {
    "duration": 3,
    "start_time": "2025-02-04T23:16:43.933Z"
   },
   {
    "duration": 8,
    "start_time": "2025-02-04T23:16:43.937Z"
   },
   {
    "duration": 3,
    "start_time": "2025-02-04T23:16:43.947Z"
   },
   {
    "duration": 8,
    "start_time": "2025-02-04T23:16:43.952Z"
   },
   {
    "duration": 4,
    "start_time": "2025-02-04T23:16:43.962Z"
   },
   {
    "duration": 195,
    "start_time": "2025-02-04T23:16:43.967Z"
   },
   {
    "duration": 7,
    "start_time": "2025-02-04T23:16:44.164Z"
   },
   {
    "duration": 102,
    "start_time": "2025-02-04T23:16:44.173Z"
   },
   {
    "duration": 6,
    "start_time": "2025-02-04T23:16:44.277Z"
   },
   {
    "duration": 6,
    "start_time": "2025-02-04T23:16:44.285Z"
   },
   {
    "duration": 8,
    "start_time": "2025-02-04T23:16:44.311Z"
   },
   {
    "duration": 235,
    "start_time": "2025-02-04T23:16:44.321Z"
   },
   {
    "duration": 212,
    "start_time": "2025-02-04T23:16:44.558Z"
   },
   {
    "duration": 6,
    "start_time": "2025-02-04T23:16:44.772Z"
   },
   {
    "duration": 8,
    "start_time": "2025-02-04T23:16:44.780Z"
   },
   {
    "duration": 341,
    "start_time": "2025-02-04T23:16:44.789Z"
   },
   {
    "duration": 3,
    "start_time": "2025-02-04T23:16:45.132Z"
   },
   {
    "duration": 9,
    "start_time": "2025-02-04T23:16:45.137Z"
   },
   {
    "duration": 241,
    "start_time": "2025-02-04T23:16:45.147Z"
   },
   {
    "duration": 7,
    "start_time": "2025-02-04T23:16:45.390Z"
   },
   {
    "duration": 8,
    "start_time": "2025-02-04T23:16:45.412Z"
   },
   {
    "duration": 295,
    "start_time": "2025-02-04T23:16:45.422Z"
   },
   {
    "duration": 120,
    "start_time": "2025-02-04T23:16:45.721Z"
   },
   {
    "duration": 2,
    "start_time": "2025-02-04T23:16:45.843Z"
   },
   {
    "duration": 4,
    "start_time": "2025-02-04T23:16:45.847Z"
   },
   {
    "duration": 5,
    "start_time": "2025-02-04T23:16:45.853Z"
   },
   {
    "duration": 161,
    "start_time": "2025-02-04T23:16:45.860Z"
   },
   {
    "duration": 4,
    "start_time": "2025-02-04T23:16:46.023Z"
   },
   {
    "duration": 181,
    "start_time": "2025-02-04T23:16:46.030Z"
   },
   {
    "duration": 5,
    "start_time": "2025-02-04T23:16:46.213Z"
   },
   {
    "duration": 59,
    "start_time": "2025-02-04T23:16:46.219Z"
   },
   {
    "duration": 3,
    "start_time": "2025-02-04T23:16:46.280Z"
   },
   {
    "duration": 81,
    "start_time": "2025-02-04T23:16:46.284Z"
   },
   {
    "duration": 4,
    "start_time": "2025-02-04T23:16:46.369Z"
   },
   {
    "duration": 6,
    "start_time": "2025-02-04T23:16:46.375Z"
   },
   {
    "duration": 30,
    "start_time": "2025-02-04T23:16:46.383Z"
   },
   {
    "duration": 9,
    "start_time": "2025-02-04T23:16:46.415Z"
   },
   {
    "duration": 5,
    "start_time": "2025-02-04T23:16:46.426Z"
   },
   {
    "duration": 4,
    "start_time": "2025-02-04T23:16:46.433Z"
   },
   {
    "duration": 4,
    "start_time": "2025-02-04T23:16:46.439Z"
   },
   {
    "duration": 7,
    "start_time": "2025-02-04T23:16:46.444Z"
   },
   {
    "duration": 14,
    "start_time": "2025-02-04T23:16:46.453Z"
   },
   {
    "duration": 46,
    "start_time": "2025-02-04T23:16:46.469Z"
   },
   {
    "duration": 839,
    "start_time": "2025-02-05T00:02:22.462Z"
   },
   {
    "duration": 14,
    "start_time": "2025-02-05T00:02:23.304Z"
   },
   {
    "duration": 8,
    "start_time": "2025-02-05T00:02:23.319Z"
   },
   {
    "duration": 7,
    "start_time": "2025-02-05T00:02:23.329Z"
   },
   {
    "duration": 8,
    "start_time": "2025-02-05T00:02:23.339Z"
   },
   {
    "duration": 7,
    "start_time": "2025-02-05T00:02:23.350Z"
   },
   {
    "duration": 8,
    "start_time": "2025-02-05T00:02:23.359Z"
   },
   {
    "duration": 6,
    "start_time": "2025-02-05T00:02:23.368Z"
   },
   {
    "duration": 37,
    "start_time": "2025-02-05T00:02:23.375Z"
   },
   {
    "duration": 3,
    "start_time": "2025-02-05T00:02:23.413Z"
   },
   {
    "duration": 4,
    "start_time": "2025-02-05T00:02:23.417Z"
   },
   {
    "duration": 6,
    "start_time": "2025-02-05T00:02:23.422Z"
   },
   {
    "duration": 5,
    "start_time": "2025-02-05T00:02:23.430Z"
   },
   {
    "duration": 5,
    "start_time": "2025-02-05T00:02:23.439Z"
   },
   {
    "duration": 6,
    "start_time": "2025-02-05T00:02:23.445Z"
   },
   {
    "duration": 4,
    "start_time": "2025-02-05T00:02:23.453Z"
   },
   {
    "duration": 9,
    "start_time": "2025-02-05T00:02:23.458Z"
   },
   {
    "duration": 48,
    "start_time": "2025-02-05T00:02:23.468Z"
   },
   {
    "duration": 5,
    "start_time": "2025-02-05T00:02:23.517Z"
   },
   {
    "duration": 4,
    "start_time": "2025-02-05T00:02:23.524Z"
   },
   {
    "duration": 11,
    "start_time": "2025-02-05T00:02:23.530Z"
   },
   {
    "duration": 7,
    "start_time": "2025-02-05T00:02:23.543Z"
   },
   {
    "duration": 5,
    "start_time": "2025-02-05T00:02:23.551Z"
   },
   {
    "duration": 4,
    "start_time": "2025-02-05T00:02:23.557Z"
   },
   {
    "duration": 9,
    "start_time": "2025-02-05T00:02:23.562Z"
   },
   {
    "duration": 5,
    "start_time": "2025-02-05T00:02:23.611Z"
   },
   {
    "duration": 6,
    "start_time": "2025-02-05T00:02:23.617Z"
   },
   {
    "duration": 4,
    "start_time": "2025-02-05T00:02:23.625Z"
   },
   {
    "duration": 4,
    "start_time": "2025-02-05T00:02:23.630Z"
   },
   {
    "duration": 8,
    "start_time": "2025-02-05T00:02:23.635Z"
   },
   {
    "duration": 4,
    "start_time": "2025-02-05T00:02:23.644Z"
   },
   {
    "duration": 9,
    "start_time": "2025-02-05T00:02:23.649Z"
   },
   {
    "duration": 4,
    "start_time": "2025-02-05T00:02:23.660Z"
   },
   {
    "duration": 189,
    "start_time": "2025-02-05T00:02:23.665Z"
   },
   {
    "duration": 7,
    "start_time": "2025-02-05T00:02:23.855Z"
   },
   {
    "duration": 100,
    "start_time": "2025-02-05T00:02:23.863Z"
   },
   {
    "duration": 7,
    "start_time": "2025-02-05T00:02:23.964Z"
   },
   {
    "duration": 6,
    "start_time": "2025-02-05T00:02:23.972Z"
   },
   {
    "duration": 7,
    "start_time": "2025-02-05T00:02:23.980Z"
   },
   {
    "duration": 264,
    "start_time": "2025-02-05T00:02:23.988Z"
   },
   {
    "duration": 202,
    "start_time": "2025-02-05T00:02:24.258Z"
   },
   {
    "duration": 7,
    "start_time": "2025-02-05T00:02:24.461Z"
   },
   {
    "duration": 8,
    "start_time": "2025-02-05T00:02:24.470Z"
   },
   {
    "duration": 342,
    "start_time": "2025-02-05T00:02:24.481Z"
   },
   {
    "duration": 6,
    "start_time": "2025-02-05T00:02:24.826Z"
   },
   {
    "duration": 7,
    "start_time": "2025-02-05T00:02:24.835Z"
   },
   {
    "duration": 219,
    "start_time": "2025-02-05T00:02:24.844Z"
   },
   {
    "duration": 6,
    "start_time": "2025-02-05T00:02:25.065Z"
   },
   {
    "duration": 7,
    "start_time": "2025-02-05T00:02:25.073Z"
   },
   {
    "duration": 327,
    "start_time": "2025-02-05T00:02:25.081Z"
   },
   {
    "duration": 126,
    "start_time": "2025-02-05T00:02:25.412Z"
   },
   {
    "duration": 2,
    "start_time": "2025-02-05T00:02:25.540Z"
   },
   {
    "duration": 5,
    "start_time": "2025-02-05T00:02:25.544Z"
   },
   {
    "duration": 6,
    "start_time": "2025-02-05T00:02:25.551Z"
   },
   {
    "duration": 163,
    "start_time": "2025-02-05T00:02:25.558Z"
   },
   {
    "duration": 5,
    "start_time": "2025-02-05T00:02:25.722Z"
   },
   {
    "duration": 165,
    "start_time": "2025-02-05T00:02:25.728Z"
   },
   {
    "duration": 4,
    "start_time": "2025-02-05T00:02:25.894Z"
   },
   {
    "duration": 63,
    "start_time": "2025-02-05T00:02:25.912Z"
   },
   {
    "duration": 2,
    "start_time": "2025-02-05T00:02:25.978Z"
   },
   {
    "duration": 74,
    "start_time": "2025-02-05T00:02:25.983Z"
   },
   {
    "duration": 4,
    "start_time": "2025-02-05T00:02:26.058Z"
   },
   {
    "duration": 6,
    "start_time": "2025-02-05T00:02:26.063Z"
   },
   {
    "duration": 15,
    "start_time": "2025-02-05T00:02:26.070Z"
   },
   {
    "duration": 7,
    "start_time": "2025-02-05T00:02:26.087Z"
   },
   {
    "duration": 6,
    "start_time": "2025-02-05T00:02:26.112Z"
   },
   {
    "duration": 5,
    "start_time": "2025-02-05T00:02:26.120Z"
   },
   {
    "duration": 4,
    "start_time": "2025-02-05T00:02:26.126Z"
   },
   {
    "duration": 7,
    "start_time": "2025-02-05T00:02:26.131Z"
   },
   {
    "duration": 16,
    "start_time": "2025-02-05T00:02:26.140Z"
   },
   {
    "duration": 11,
    "start_time": "2025-02-05T00:02:26.157Z"
   },
   {
    "duration": 885,
    "start_time": "2025-02-05T00:26:37.207Z"
   },
   {
    "duration": 18,
    "start_time": "2025-02-05T00:26:38.094Z"
   },
   {
    "duration": 13,
    "start_time": "2025-02-05T00:26:38.114Z"
   },
   {
    "duration": 11,
    "start_time": "2025-02-05T00:26:38.129Z"
   },
   {
    "duration": 9,
    "start_time": "2025-02-05T00:26:38.142Z"
   },
   {
    "duration": 8,
    "start_time": "2025-02-05T00:26:38.153Z"
   },
   {
    "duration": 12,
    "start_time": "2025-02-05T00:26:38.163Z"
   },
   {
    "duration": 41,
    "start_time": "2025-02-05T00:26:38.177Z"
   },
   {
    "duration": 5,
    "start_time": "2025-02-05T00:26:38.221Z"
   },
   {
    "duration": 4,
    "start_time": "2025-02-05T00:26:38.228Z"
   },
   {
    "duration": 3,
    "start_time": "2025-02-05T00:26:38.234Z"
   },
   {
    "duration": 6,
    "start_time": "2025-02-05T00:26:38.239Z"
   },
   {
    "duration": 6,
    "start_time": "2025-02-05T00:26:38.247Z"
   },
   {
    "duration": 6,
    "start_time": "2025-02-05T00:26:38.259Z"
   },
   {
    "duration": 46,
    "start_time": "2025-02-05T00:26:38.267Z"
   },
   {
    "duration": 6,
    "start_time": "2025-02-05T00:26:38.315Z"
   },
   {
    "duration": 12,
    "start_time": "2025-02-05T00:26:38.323Z"
   },
   {
    "duration": 6,
    "start_time": "2025-02-05T00:26:38.337Z"
   },
   {
    "duration": 5,
    "start_time": "2025-02-05T00:26:38.344Z"
   },
   {
    "duration": 6,
    "start_time": "2025-02-05T00:26:38.351Z"
   },
   {
    "duration": 16,
    "start_time": "2025-02-05T00:26:38.358Z"
   },
   {
    "duration": 42,
    "start_time": "2025-02-05T00:26:38.375Z"
   },
   {
    "duration": 6,
    "start_time": "2025-02-05T00:26:38.419Z"
   },
   {
    "duration": 4,
    "start_time": "2025-02-05T00:26:38.427Z"
   },
   {
    "duration": 10,
    "start_time": "2025-02-05T00:26:38.432Z"
   },
   {
    "duration": 6,
    "start_time": "2025-02-05T00:26:38.444Z"
   },
   {
    "duration": 14,
    "start_time": "2025-02-05T00:26:38.452Z"
   },
   {
    "duration": 5,
    "start_time": "2025-02-05T00:26:38.468Z"
   },
   {
    "duration": 4,
    "start_time": "2025-02-05T00:26:38.475Z"
   },
   {
    "duration": 8,
    "start_time": "2025-02-05T00:26:38.512Z"
   },
   {
    "duration": 4,
    "start_time": "2025-02-05T00:26:38.522Z"
   },
   {
    "duration": 9,
    "start_time": "2025-02-05T00:26:38.527Z"
   },
   {
    "duration": 5,
    "start_time": "2025-02-05T00:26:38.538Z"
   },
   {
    "duration": 205,
    "start_time": "2025-02-05T00:26:38.544Z"
   },
   {
    "duration": 11,
    "start_time": "2025-02-05T00:26:38.751Z"
   },
   {
    "duration": 116,
    "start_time": "2025-02-05T00:26:38.765Z"
   },
   {
    "duration": 6,
    "start_time": "2025-02-05T00:26:38.883Z"
   },
   {
    "duration": 6,
    "start_time": "2025-02-05T00:26:38.891Z"
   },
   {
    "duration": 19,
    "start_time": "2025-02-05T00:26:38.899Z"
   },
   {
    "duration": 285,
    "start_time": "2025-02-05T00:26:38.919Z"
   },
   {
    "duration": 310,
    "start_time": "2025-02-05T00:26:39.212Z"
   },
   {
    "duration": 7,
    "start_time": "2025-02-05T00:26:39.524Z"
   },
   {
    "duration": 7,
    "start_time": "2025-02-05T00:26:39.535Z"
   },
   {
    "duration": 375,
    "start_time": "2025-02-05T00:26:39.544Z"
   },
   {
    "duration": 3,
    "start_time": "2025-02-05T00:26:39.922Z"
   },
   {
    "duration": 12,
    "start_time": "2025-02-05T00:26:39.927Z"
   },
   {
    "duration": 280,
    "start_time": "2025-02-05T00:26:39.941Z"
   },
   {
    "duration": 10,
    "start_time": "2025-02-05T00:26:40.223Z"
   },
   {
    "duration": 8,
    "start_time": "2025-02-05T00:26:40.235Z"
   },
   {
    "duration": 292,
    "start_time": "2025-02-05T00:26:40.245Z"
   },
   {
    "duration": 156,
    "start_time": "2025-02-05T00:26:40.539Z"
   },
   {
    "duration": 3,
    "start_time": "2025-02-05T00:26:40.711Z"
   },
   {
    "duration": 4,
    "start_time": "2025-02-05T00:26:40.716Z"
   },
   {
    "duration": 6,
    "start_time": "2025-02-05T00:26:40.722Z"
   },
   {
    "duration": 149,
    "start_time": "2025-02-05T00:26:40.730Z"
   },
   {
    "duration": 5,
    "start_time": "2025-02-05T00:26:40.880Z"
   },
   {
    "duration": 166,
    "start_time": "2025-02-05T00:26:40.886Z"
   },
   {
    "duration": 6,
    "start_time": "2025-02-05T00:26:41.054Z"
   },
   {
    "duration": 68,
    "start_time": "2025-02-05T00:26:41.061Z"
   },
   {
    "duration": 3,
    "start_time": "2025-02-05T00:26:41.130Z"
   },
   {
    "duration": 81,
    "start_time": "2025-02-05T00:26:41.134Z"
   },
   {
    "duration": 2,
    "start_time": "2025-02-05T00:26:41.216Z"
   },
   {
    "duration": 6,
    "start_time": "2025-02-05T00:26:41.220Z"
   },
   {
    "duration": 16,
    "start_time": "2025-02-05T00:26:41.227Z"
   },
   {
    "duration": 8,
    "start_time": "2025-02-05T00:26:41.244Z"
   },
   {
    "duration": 6,
    "start_time": "2025-02-05T00:26:41.254Z"
   },
   {
    "duration": 4,
    "start_time": "2025-02-05T00:26:41.261Z"
   },
   {
    "duration": 4,
    "start_time": "2025-02-05T00:26:41.266Z"
   },
   {
    "duration": 43,
    "start_time": "2025-02-05T00:26:41.272Z"
   },
   {
    "duration": 15,
    "start_time": "2025-02-05T00:26:41.316Z"
   },
   {
    "duration": 10,
    "start_time": "2025-02-05T00:26:41.333Z"
   },
   {
    "duration": 843,
    "start_time": "2025-02-05T01:24:28.148Z"
   },
   {
    "duration": 12,
    "start_time": "2025-02-05T01:24:28.994Z"
   },
   {
    "duration": 10,
    "start_time": "2025-02-05T01:24:29.008Z"
   },
   {
    "duration": 8,
    "start_time": "2025-02-05T01:24:29.021Z"
   },
   {
    "duration": 8,
    "start_time": "2025-02-05T01:24:29.030Z"
   },
   {
    "duration": 6,
    "start_time": "2025-02-05T01:24:29.040Z"
   },
   {
    "duration": 7,
    "start_time": "2025-02-05T01:24:29.048Z"
   },
   {
    "duration": 7,
    "start_time": "2025-02-05T01:24:29.057Z"
   },
   {
    "duration": 4,
    "start_time": "2025-02-05T01:24:29.065Z"
   },
   {
    "duration": 2,
    "start_time": "2025-02-05T01:24:29.113Z"
   },
   {
    "duration": 2,
    "start_time": "2025-02-05T01:24:29.117Z"
   },
   {
    "duration": 5,
    "start_time": "2025-02-05T01:24:29.122Z"
   },
   {
    "duration": 4,
    "start_time": "2025-02-05T01:24:29.129Z"
   },
   {
    "duration": 4,
    "start_time": "2025-02-05T01:24:29.135Z"
   },
   {
    "duration": 4,
    "start_time": "2025-02-05T01:24:29.141Z"
   },
   {
    "duration": 4,
    "start_time": "2025-02-05T01:24:29.147Z"
   },
   {
    "duration": 9,
    "start_time": "2025-02-05T01:24:29.152Z"
   },
   {
    "duration": 4,
    "start_time": "2025-02-05T01:24:29.162Z"
   },
   {
    "duration": 45,
    "start_time": "2025-02-05T01:24:29.168Z"
   },
   {
    "duration": 6,
    "start_time": "2025-02-05T01:24:29.214Z"
   },
   {
    "duration": 12,
    "start_time": "2025-02-05T01:24:29.221Z"
   },
   {
    "duration": 7,
    "start_time": "2025-02-05T01:24:29.235Z"
   },
   {
    "duration": 4,
    "start_time": "2025-02-05T01:24:29.244Z"
   },
   {
    "duration": 3,
    "start_time": "2025-02-05T01:24:29.250Z"
   },
   {
    "duration": 8,
    "start_time": "2025-02-05T01:24:29.255Z"
   },
   {
    "duration": 4,
    "start_time": "2025-02-05T01:24:29.265Z"
   },
   {
    "duration": 47,
    "start_time": "2025-02-05T01:24:29.270Z"
   },
   {
    "duration": 3,
    "start_time": "2025-02-05T01:24:29.321Z"
   },
   {
    "duration": 4,
    "start_time": "2025-02-05T01:24:29.326Z"
   },
   {
    "duration": 7,
    "start_time": "2025-02-05T01:24:29.332Z"
   },
   {
    "duration": 3,
    "start_time": "2025-02-05T01:24:29.341Z"
   },
   {
    "duration": 9,
    "start_time": "2025-02-05T01:24:29.345Z"
   },
   {
    "duration": 5,
    "start_time": "2025-02-05T01:24:29.355Z"
   },
   {
    "duration": 188,
    "start_time": "2025-02-05T01:24:29.361Z"
   },
   {
    "duration": 7,
    "start_time": "2025-02-05T01:24:29.551Z"
   },
   {
    "duration": 98,
    "start_time": "2025-02-05T01:24:29.560Z"
   },
   {
    "duration": 6,
    "start_time": "2025-02-05T01:24:29.659Z"
   },
   {
    "duration": 6,
    "start_time": "2025-02-05T01:24:29.667Z"
   },
   {
    "duration": 8,
    "start_time": "2025-02-05T01:24:29.674Z"
   },
   {
    "duration": 253,
    "start_time": "2025-02-05T01:24:29.684Z"
   },
   {
    "duration": 208,
    "start_time": "2025-02-05T01:24:29.938Z"
   },
   {
    "duration": 7,
    "start_time": "2025-02-05T01:24:30.148Z"
   },
   {
    "duration": 8,
    "start_time": "2025-02-05T01:24:30.157Z"
   },
   {
    "duration": 356,
    "start_time": "2025-02-05T01:24:30.167Z"
   },
   {
    "duration": 4,
    "start_time": "2025-02-05T01:24:30.525Z"
   },
   {
    "duration": 9,
    "start_time": "2025-02-05T01:24:30.530Z"
   },
   {
    "duration": 223,
    "start_time": "2025-02-05T01:24:30.541Z"
   },
   {
    "duration": 6,
    "start_time": "2025-02-05T01:24:30.766Z"
   },
   {
    "duration": 8,
    "start_time": "2025-02-05T01:24:30.774Z"
   },
   {
    "duration": 310,
    "start_time": "2025-02-05T01:24:30.783Z"
   },
   {
    "duration": 135,
    "start_time": "2025-02-05T01:24:31.095Z"
   },
   {
    "duration": 2,
    "start_time": "2025-02-05T01:24:31.232Z"
   },
   {
    "duration": 5,
    "start_time": "2025-02-05T01:24:31.236Z"
   },
   {
    "duration": 6,
    "start_time": "2025-02-05T01:24:31.242Z"
   },
   {
    "duration": 150,
    "start_time": "2025-02-05T01:24:31.250Z"
   },
   {
    "duration": 12,
    "start_time": "2025-02-05T01:24:31.402Z"
   },
   {
    "duration": 235,
    "start_time": "2025-02-05T01:24:31.416Z"
   },
   {
    "duration": 4,
    "start_time": "2025-02-05T01:24:31.653Z"
   },
   {
    "duration": 78,
    "start_time": "2025-02-05T01:24:31.659Z"
   },
   {
    "duration": 3,
    "start_time": "2025-02-05T01:24:31.739Z"
   },
   {
    "duration": 81,
    "start_time": "2025-02-05T01:24:31.744Z"
   },
   {
    "duration": 3,
    "start_time": "2025-02-05T01:24:31.827Z"
   },
   {
    "duration": 5,
    "start_time": "2025-02-05T01:24:31.832Z"
   },
   {
    "duration": 16,
    "start_time": "2025-02-05T01:24:31.839Z"
   },
   {
    "duration": 7,
    "start_time": "2025-02-05T01:24:31.856Z"
   },
   {
    "duration": 7,
    "start_time": "2025-02-05T01:24:31.865Z"
   },
   {
    "duration": 5,
    "start_time": "2025-02-05T01:24:31.873Z"
   },
   {
    "duration": 32,
    "start_time": "2025-02-05T01:24:31.880Z"
   },
   {
    "duration": 7,
    "start_time": "2025-02-05T01:24:31.914Z"
   },
   {
    "duration": 16,
    "start_time": "2025-02-05T01:24:31.922Z"
   },
   {
    "duration": 10,
    "start_time": "2025-02-05T01:24:31.940Z"
   }
  ],
  "kernelspec": {
   "display_name": "Python 3",
   "language": "python",
   "name": "python3"
  },
  "language_info": {
   "codemirror_mode": {
    "name": "ipython",
    "version": 3
   },
   "file_extension": ".py",
   "mimetype": "text/x-python",
   "name": "python",
   "nbconvert_exporter": "python",
   "pygments_lexer": "ipython3",
   "version": "3.12.3"
  },
  "toc": {
   "base_numbering": 1,
   "nav_menu": {},
   "number_sections": true,
   "sideBar": true,
   "skip_h1_title": true,
   "title_cell": "Table of Contents",
   "title_sidebar": "Contents",
   "toc_cell": false,
   "toc_position": {},
   "toc_section_display": true,
   "toc_window_display": false
  }
 },
 "nbformat": 4,
 "nbformat_minor": 2
}
